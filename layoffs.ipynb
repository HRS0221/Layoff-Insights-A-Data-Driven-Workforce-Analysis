{
 "cells": [
  {
   "cell_type": "code",
   "execution_count": 2,
   "id": "994349c8-228d-4d82-bb92-5d461ce59c78",
   "metadata": {},
   "outputs": [
    {
     "name": "stderr",
     "output_type": "stream",
     "text": [
      "C:\\Users\\salun\\AppData\\Local\\Temp\\ipykernel_15884\\2309280963.py:1: DeprecationWarning: \n",
      "Pyarrow will become a required dependency of pandas in the next major release of pandas (pandas 3.0),\n",
      "(to allow more performant data types, such as the Arrow string type, and better interoperability with other libraries)\n",
      "but was not found to be installed on your system.\n",
      "If this would cause problems for you,\n",
      "please provide us feedback at https://github.com/pandas-dev/pandas/issues/54466\n",
      "        \n",
      "  import pandas as pd\n"
     ]
    }
   ],
   "source": [
    "import pandas as pd\n",
    "import numpy as np\n",
    "import seaborn as sns\n",
    "import matplotlib.pyplot as plt\n",
    "import plotly.express as px"
   ]
  },
  {
   "cell_type": "code",
   "execution_count": 3,
   "id": "20af323a-62c9-4350-9678-8d6b6dcde2f5",
   "metadata": {},
   "outputs": [],
   "source": [
    "df = pd.read_csv('layoffs_data.csv')"
   ]
  },
  {
   "cell_type": "code",
   "execution_count": 5,
   "id": "f822e798-3adc-4742-bd1a-0b0b89b0d500",
   "metadata": {},
   "outputs": [
    {
     "data": {
      "text/html": [
       "<div>\n",
       "<style scoped>\n",
       "    .dataframe tbody tr th:only-of-type {\n",
       "        vertical-align: middle;\n",
       "    }\n",
       "\n",
       "    .dataframe tbody tr th {\n",
       "        vertical-align: top;\n",
       "    }\n",
       "\n",
       "    .dataframe thead th {\n",
       "        text-align: right;\n",
       "    }\n",
       "</style>\n",
       "<table border=\"1\" class=\"dataframe\">\n",
       "  <thead>\n",
       "    <tr style=\"text-align: right;\">\n",
       "      <th></th>\n",
       "      <th>Company</th>\n",
       "      <th>Location_HQ</th>\n",
       "      <th>Industry</th>\n",
       "      <th>Laid_Off_Count</th>\n",
       "      <th>Percentage</th>\n",
       "      <th>Date</th>\n",
       "      <th>Source</th>\n",
       "      <th>Funds_Raised</th>\n",
       "      <th>Stage</th>\n",
       "      <th>Date_Added</th>\n",
       "      <th>Country</th>\n",
       "      <th>List_of_Employees_Laid_Off</th>\n",
       "    </tr>\n",
       "  </thead>\n",
       "  <tbody>\n",
       "    <tr>\n",
       "      <th>0</th>\n",
       "      <td>Trigo</td>\n",
       "      <td>Tel Aviv</td>\n",
       "      <td>Retail</td>\n",
       "      <td>30.0</td>\n",
       "      <td>0.15</td>\n",
       "      <td>2024-01-04</td>\n",
       "      <td>https://www.calcalistech.com/ctechnews/article...</td>\n",
       "      <td>199.0</td>\n",
       "      <td>Series C</td>\n",
       "      <td>2024-01-05 00:29:13</td>\n",
       "      <td>Israel</td>\n",
       "      <td>Unknown</td>\n",
       "    </tr>\n",
       "    <tr>\n",
       "      <th>1</th>\n",
       "      <td>InVision</td>\n",
       "      <td>New York City</td>\n",
       "      <td>Product</td>\n",
       "      <td>NaN</td>\n",
       "      <td>1.00</td>\n",
       "      <td>2024-01-04</td>\n",
       "      <td>https://www.theinformation.com/briefings/desig...</td>\n",
       "      <td>356.0</td>\n",
       "      <td>Series F</td>\n",
       "      <td>2024-01-05 00:28:50</td>\n",
       "      <td>United States</td>\n",
       "      <td>Unknown</td>\n",
       "    </tr>\n",
       "    <tr>\n",
       "      <th>2</th>\n",
       "      <td>VideoAmp</td>\n",
       "      <td>Los Angeles</td>\n",
       "      <td>Marketing</td>\n",
       "      <td>NaN</td>\n",
       "      <td>0.20</td>\n",
       "      <td>2024-01-04</td>\n",
       "      <td>https://adage.com/article/measurement/videoamp...</td>\n",
       "      <td>456.0</td>\n",
       "      <td>Series F</td>\n",
       "      <td>2024-01-05 01:18:58</td>\n",
       "      <td>United States</td>\n",
       "      <td>Unknown</td>\n",
       "    </tr>\n",
       "    <tr>\n",
       "      <th>3</th>\n",
       "      <td>Orca Security</td>\n",
       "      <td>Tel Aviv</td>\n",
       "      <td>Security</td>\n",
       "      <td>60.0</td>\n",
       "      <td>0.15</td>\n",
       "      <td>2024-01-03</td>\n",
       "      <td>https://www.calcalistech.com/ctechnews/article...</td>\n",
       "      <td>632.0</td>\n",
       "      <td>Series C</td>\n",
       "      <td>2024-01-03 23:04:50</td>\n",
       "      <td>Israel</td>\n",
       "      <td>Unknown</td>\n",
       "    </tr>\n",
       "    <tr>\n",
       "      <th>4</th>\n",
       "      <td>Frontdesk</td>\n",
       "      <td>Milwaukee</td>\n",
       "      <td>Travel</td>\n",
       "      <td>200.0</td>\n",
       "      <td>1.00</td>\n",
       "      <td>2024-01-02</td>\n",
       "      <td>https://techcrunch.com/2024/01/02/short-term-r...</td>\n",
       "      <td>26.0</td>\n",
       "      <td>Unknown</td>\n",
       "      <td>2024-01-03 02:38:00</td>\n",
       "      <td>United States</td>\n",
       "      <td>Unknown</td>\n",
       "    </tr>\n",
       "  </tbody>\n",
       "</table>\n",
       "</div>"
      ],
      "text/plain": [
       "         Company    Location_HQ   Industry  Laid_Off_Count  Percentage  \\\n",
       "0          Trigo       Tel Aviv     Retail            30.0        0.15   \n",
       "1       InVision  New York City    Product             NaN        1.00   \n",
       "2       VideoAmp    Los Angeles  Marketing             NaN        0.20   \n",
       "3  Orca Security       Tel Aviv   Security            60.0        0.15   \n",
       "4      Frontdesk      Milwaukee     Travel           200.0        1.00   \n",
       "\n",
       "         Date                                             Source  \\\n",
       "0  2024-01-04  https://www.calcalistech.com/ctechnews/article...   \n",
       "1  2024-01-04  https://www.theinformation.com/briefings/desig...   \n",
       "2  2024-01-04  https://adage.com/article/measurement/videoamp...   \n",
       "3  2024-01-03  https://www.calcalistech.com/ctechnews/article...   \n",
       "4  2024-01-02  https://techcrunch.com/2024/01/02/short-term-r...   \n",
       "\n",
       "   Funds_Raised     Stage           Date_Added        Country  \\\n",
       "0         199.0  Series C  2024-01-05 00:29:13         Israel   \n",
       "1         356.0  Series F  2024-01-05 00:28:50  United States   \n",
       "2         456.0  Series F  2024-01-05 01:18:58  United States   \n",
       "3         632.0  Series C  2024-01-03 23:04:50         Israel   \n",
       "4          26.0   Unknown  2024-01-03 02:38:00  United States   \n",
       "\n",
       "  List_of_Employees_Laid_Off  \n",
       "0                    Unknown  \n",
       "1                    Unknown  \n",
       "2                    Unknown  \n",
       "3                    Unknown  \n",
       "4                    Unknown  "
      ]
     },
     "execution_count": 5,
     "metadata": {},
     "output_type": "execute_result"
    }
   ],
   "source": [
    "df.head()"
   ]
  },
  {
   "cell_type": "code",
   "execution_count": 6,
   "id": "350d3960-b1dc-4e25-92f9-441ea5d8f263",
   "metadata": {},
   "outputs": [
    {
     "data": {
      "text/plain": [
       "(3282, 12)"
      ]
     },
     "execution_count": 6,
     "metadata": {},
     "output_type": "execute_result"
    }
   ],
   "source": [
    "df.shape"
   ]
  },
  {
   "cell_type": "code",
   "execution_count": 7,
   "id": "a00478ce-1a2e-45e7-bb08-4bd7d2d5e2a2",
   "metadata": {},
   "outputs": [
    {
     "data": {
      "text/plain": [
       "Index(['Company', 'Location_HQ', 'Industry', 'Laid_Off_Count', 'Percentage',\n",
       "       'Date', 'Source', 'Funds_Raised', 'Stage', 'Date_Added', 'Country',\n",
       "       'List_of_Employees_Laid_Off'],\n",
       "      dtype='object')"
      ]
     },
     "execution_count": 7,
     "metadata": {},
     "output_type": "execute_result"
    }
   ],
   "source": [
    "df.columns"
   ]
  },
  {
   "cell_type": "code",
   "execution_count": 8,
   "id": "3f9462a8-8a42-4ef6-8304-135ca1df61c9",
   "metadata": {},
   "outputs": [
    {
     "name": "stdout",
     "output_type": "stream",
     "text": [
      "<class 'pandas.core.frame.DataFrame'>\n",
      "RangeIndex: 3282 entries, 0 to 3281\n",
      "Data columns (total 12 columns):\n",
      " #   Column                      Non-Null Count  Dtype  \n",
      "---  ------                      --------------  -----  \n",
      " 0   Company                     3282 non-null   object \n",
      " 1   Location_HQ                 3282 non-null   object \n",
      " 2   Industry                    3282 non-null   object \n",
      " 3   Laid_Off_Count              2167 non-null   float64\n",
      " 4   Percentage                  2118 non-null   float64\n",
      " 5   Date                        3282 non-null   object \n",
      " 6   Source                      3282 non-null   object \n",
      " 7   Funds_Raised                2934 non-null   float64\n",
      " 8   Stage                       3282 non-null   object \n",
      " 9   Date_Added                  3282 non-null   object \n",
      " 10  Country                     3282 non-null   object \n",
      " 11  List_of_Employees_Laid_Off  3281 non-null   object \n",
      "dtypes: float64(3), object(9)\n",
      "memory usage: 307.8+ KB\n"
     ]
    }
   ],
   "source": [
    "df.info()"
   ]
  },
  {
   "cell_type": "code",
   "execution_count": 9,
   "id": "d348aeef-ce68-427c-aa2d-d492f23d8c45",
   "metadata": {},
   "outputs": [
    {
     "data": {
      "text/html": [
       "<div>\n",
       "<style scoped>\n",
       "    .dataframe tbody tr th:only-of-type {\n",
       "        vertical-align: middle;\n",
       "    }\n",
       "\n",
       "    .dataframe tbody tr th {\n",
       "        vertical-align: top;\n",
       "    }\n",
       "\n",
       "    .dataframe thead th {\n",
       "        text-align: right;\n",
       "    }\n",
       "</style>\n",
       "<table border=\"1\" class=\"dataframe\">\n",
       "  <thead>\n",
       "    <tr style=\"text-align: right;\">\n",
       "      <th></th>\n",
       "      <th>Laid_Off_Count</th>\n",
       "      <th>Percentage</th>\n",
       "      <th>Funds_Raised</th>\n",
       "    </tr>\n",
       "  </thead>\n",
       "  <tbody>\n",
       "    <tr>\n",
       "      <th>count</th>\n",
       "      <td>2167.000000</td>\n",
       "      <td>2118.000000</td>\n",
       "      <td>2934.000000</td>\n",
       "    </tr>\n",
       "    <tr>\n",
       "      <th>mean</th>\n",
       "      <td>241.968620</td>\n",
       "      <td>0.278266</td>\n",
       "      <td>777.297783</td>\n",
       "    </tr>\n",
       "    <tr>\n",
       "      <th>std</th>\n",
       "      <td>770.197639</td>\n",
       "      <td>0.281602</td>\n",
       "      <td>4909.452865</td>\n",
       "    </tr>\n",
       "    <tr>\n",
       "      <th>min</th>\n",
       "      <td>3.000000</td>\n",
       "      <td>0.000000</td>\n",
       "      <td>0.000000</td>\n",
       "    </tr>\n",
       "    <tr>\n",
       "      <th>25%</th>\n",
       "      <td>40.000000</td>\n",
       "      <td>0.100000</td>\n",
       "      <td>51.000000</td>\n",
       "    </tr>\n",
       "    <tr>\n",
       "      <th>50%</th>\n",
       "      <td>80.000000</td>\n",
       "      <td>0.175000</td>\n",
       "      <td>162.000000</td>\n",
       "    </tr>\n",
       "    <tr>\n",
       "      <th>75%</th>\n",
       "      <td>180.000000</td>\n",
       "      <td>0.300000</td>\n",
       "      <td>452.750000</td>\n",
       "    </tr>\n",
       "    <tr>\n",
       "      <th>max</th>\n",
       "      <td>12000.000000</td>\n",
       "      <td>1.000000</td>\n",
       "      <td>121900.000000</td>\n",
       "    </tr>\n",
       "  </tbody>\n",
       "</table>\n",
       "</div>"
      ],
      "text/plain": [
       "       Laid_Off_Count   Percentage   Funds_Raised\n",
       "count     2167.000000  2118.000000    2934.000000\n",
       "mean       241.968620     0.278266     777.297783\n",
       "std        770.197639     0.281602    4909.452865\n",
       "min          3.000000     0.000000       0.000000\n",
       "25%         40.000000     0.100000      51.000000\n",
       "50%         80.000000     0.175000     162.000000\n",
       "75%        180.000000     0.300000     452.750000\n",
       "max      12000.000000     1.000000  121900.000000"
      ]
     },
     "execution_count": 9,
     "metadata": {},
     "output_type": "execute_result"
    }
   ],
   "source": [
    "df.describe()"
   ]
  },
  {
   "cell_type": "code",
   "execution_count": 10,
   "id": "802c8801-ba71-4d12-88d2-5a0c7392f0aa",
   "metadata": {},
   "outputs": [
    {
     "name": "stdout",
     "output_type": "stream",
     "text": [
      "Missing Values\n"
     ]
    },
    {
     "data": {
      "text/plain": [
       "Company                        0.0\n",
       "Location_HQ                    0.0\n",
       "Industry                       0.0\n",
       "Laid_Off_Count                34.0\n",
       "Percentage                    35.5\n",
       "Date                           0.0\n",
       "Source                         0.0\n",
       "Funds_Raised                  10.6\n",
       "Stage                          0.0\n",
       "Date_Added                     0.0\n",
       "Country                        0.0\n",
       "List_of_Employees_Laid_Off     0.0\n",
       "dtype: float64"
      ]
     },
     "execution_count": 10,
     "metadata": {},
     "output_type": "execute_result"
    }
   ],
   "source": [
    "print(\"Missing Values\")\n",
    "(df.isna().mean() * 100).round(1)"
   ]
  },
  {
   "cell_type": "code",
   "execution_count": 11,
   "id": "c6fe2178-2e02-4754-a7ff-4cf5d4122f6b",
   "metadata": {},
   "outputs": [
    {
     "data": {
      "text/plain": [
       "Company                       0.0\n",
       "Location_HQ                   0.0\n",
       "Industry                      0.0\n",
       "Laid_Off_Count                0.0\n",
       "Percentage                    0.0\n",
       "Date                          0.0\n",
       "Source                        0.0\n",
       "Funds_Raised                  0.0\n",
       "Stage                         0.0\n",
       "Date_Added                    0.0\n",
       "Country                       0.0\n",
       "List_of_Employees_Laid_Off    0.0\n",
       "dtype: float64"
      ]
     },
     "execution_count": 11,
     "metadata": {},
     "output_type": "execute_result"
    }
   ],
   "source": [
    "df.dropna(inplace = True)\n",
    "df.isna().mean()"
   ]
  },
  {
   "cell_type": "code",
   "execution_count": 12,
   "id": "f279594d-9044-4cea-9ea1-30f6b73bc805",
   "metadata": {},
   "outputs": [
    {
     "name": "stdout",
     "output_type": "stream",
     "text": [
      "Amount of Duplicates: 0\n"
     ]
    }
   ],
   "source": [
    "print('Amount of Duplicates: {:,}'.format(df.duplicated().sum()))\n",
    "df.drop(columns = ['List_of_Employees_Laid_Off', 'Source', 'Date_Added'], inplace = True)\n",
    "df.rename(columns = {'Laid_Off_Count': 'Layoffs'}, inplace = True)"
   ]
  },
  {
   "cell_type": "code",
   "execution_count": 13,
   "id": "d9f44356-eade-40ef-801f-2f28da63cd81",
   "metadata": {},
   "outputs": [],
   "source": [
    "def detect_outliers(df, column_names):\n",
    "    # Calculate the number of columns and rows for subplots\n",
    "    col_len = len(column_names)\n",
    "    num_columns = min(col_len, 3)\n",
    "    num_rows = 2 * ((col_len + num_columns - 1) // num_columns)\n",
    "\n",
    "    # Create subplots\n",
    "    fig, axes = plt.subplots(num_rows, num_columns, figsize=(5 * num_columns, 3 * num_rows), squeeze = False)\n",
    "\n",
    "    # Initialize a list to store outlier information for each column\n",
    "    outlier_data = []\n",
    "\n",
    "    # Iterate over column_names and create subplots\n",
    "    for i, column_name in enumerate(column_names):\n",
    "        data = df[column_name]\n",
    "\n",
    "        # Calculate quartiles and interquartile range using np.percentile\n",
    "        q1, q3 = np.percentile(data, [25, 75])\n",
    "        iqr = q3 - q1\n",
    "\n",
    "        # Define lower and upper limits for outlier detection\n",
    "        low_lim, upp_lim = q1 - 1.5 * iqr, q3 + 1.5 * iqr\n",
    "\n",
    "        # Find and display outliers\n",
    "        outliers = df[(data < low_lim) | (data > upp_lim)][column_name]\n",
    "        num_outliers = len(outliers)\n",
    "        percent_outliers = round(num_outliers / len(df) * 100, 1)\n",
    "\n",
    "        # Append outlier information to the list\n",
    "        outlier_data.append([column_name, num_outliers, percent_outliers, round(low_lim, 1), round(upp_lim, 1)])\n",
    "\n",
    "        # Calculate row and column indices for plotting\n",
    "        row_index, col_index = divmod(i, num_columns * 2)\n",
    "\n",
    "        # Create a boxplot to visualize the distribution and detect outliers\n",
    "        ax_box, ax_hist = axes[row_index, col_index], axes[row_index + 1, col_index]\n",
    "        sns.boxplot(x = data, ax = ax_box)\n",
    "        ax_box.set(title = column_name.capitalize(), xlabel = None)\n",
    "        ax_box.axvline(low_lim, color = 'brown', linestyle = '--', label = f'Lower Limit: {low_lim:.1f}')\n",
    "        ax_box.axvline(upp_lim, color = 'brown', linestyle = '--', label = f'Upper Limit: {upp_lim:.1f}')\n",
    "        ax_box.legend()\n",
    "\n",
    "        # Create a histogram below the boxplot\n",
    "        sns.histplot(data, bins = 20, ax = ax_hist, color = 'purple')\n",
    "        ax_hist.set(xlabel = None)\n",
    "        ax_hist.set_yscale('log')  # Set y-axis scale to logarithmic\n",
    "        ax_hist.set_ylabel(None)  # Disable y-axis label\n",
    "\n",
    "    # Display the subplots\n",
    "    plt.tight_layout()\n",
    "    plt.figtext(0.4, 0.01, 'Author: Himanshu Salunke', ha='center', va='center', fontsize=10, color='gray')\n",
    "    plt.savefig('layoff_percent.png')\n",
    "    plt.show()\n",
    "\n",
    "    # Combine the outlier information into a DataFrame\n",
    "    outlier_df = pd.DataFrame(outlier_data, columns = ['Column', 'Number of Outliers', '% Outliers', 'Lower Limit', 'Upper Limit'])\n",
    "    return outlier_df"
   ]
  },
  {
   "cell_type": "code",
   "execution_count": 14,
   "id": "c1c93246-5e07-4872-aa85-896fd1a484df",
   "metadata": {},
   "outputs": [
    {
     "data": {
      "image/png": "[encoded data removed]",
      "text/plain": [
       "<Figure size 1500x600 with 6 Axes>"
      ]
     },
     "metadata": {},
     "output_type": "display_data"
    },
    {
     "data": {
      "text/html": [
       "<div>\n",
       "<style scoped>\n",
       "    .dataframe tbody tr th:only-of-type {\n",
       "        vertical-align: middle;\n",
       "    }\n",
       "\n",
       "    .dataframe tbody tr th {\n",
       "        vertical-align: top;\n",
       "    }\n",
       "\n",
       "    .dataframe thead th {\n",
       "        text-align: right;\n",
       "    }\n",
       "</style>\n",
       "<table border=\"1\" class=\"dataframe\">\n",
       "  <thead>\n",
       "    <tr style=\"text-align: right;\">\n",
       "      <th></th>\n",
       "      <th>Column</th>\n",
       "      <th>Number of Outliers</th>\n",
       "      <th>% Outliers</th>\n",
       "      <th>Lower Limit</th>\n",
       "      <th>Upper Limit</th>\n",
       "    </tr>\n",
       "  </thead>\n",
       "  <tbody>\n",
       "    <tr>\n",
       "      <th>0</th>\n",
       "      <td>Layoffs</td>\n",
       "      <td>147</td>\n",
       "      <td>10.6</td>\n",
       "      <td>-187.2</td>\n",
       "      <td>418.8</td>\n",
       "    </tr>\n",
       "    <tr>\n",
       "      <th>1</th>\n",
       "      <td>Percentage</td>\n",
       "      <td>83</td>\n",
       "      <td>6.0</td>\n",
       "      <td>-0.2</td>\n",
       "      <td>0.5</td>\n",
       "    </tr>\n",
       "    <tr>\n",
       "      <th>2</th>\n",
       "      <td>Funds_Raised</td>\n",
       "      <td>143</td>\n",
       "      <td>10.3</td>\n",
       "      <td>-565.2</td>\n",
       "      <td>1114.8</td>\n",
       "    </tr>\n",
       "  </tbody>\n",
       "</table>\n",
       "</div>"
      ],
      "text/plain": [
       "         Column  Number of Outliers  % Outliers  Lower Limit  Upper Limit\n",
       "0       Layoffs                 147        10.6       -187.2        418.8\n",
       "1    Percentage                  83         6.0         -0.2          0.5\n",
       "2  Funds_Raised                 143        10.3       -565.2       1114.8"
      ]
     },
     "execution_count": 14,
     "metadata": {},
     "output_type": "execute_result"
    }
   ],
   "source": [
    "outlier_col = df.select_dtypes(include = 'float').columns\n",
    "detect_outliers(df, outlier_col)"
   ]
  },
  {
   "cell_type": "code",
   "execution_count": 15,
   "id": "1060b868-8d28-4a7c-aeb7-9b0ba9e6bce6",
   "metadata": {},
   "outputs": [
    {
     "name": "stdout",
     "output_type": "stream",
     "text": [
      "<class 'pandas.core.frame.DataFrame'>\n",
      "Index: 1098 entries, 0 to 3280\n",
      "Data columns (total 9 columns):\n",
      " #   Column        Non-Null Count  Dtype  \n",
      "---  ------        --------------  -----  \n",
      " 0   Company       1098 non-null   object \n",
      " 1   Location_HQ   1098 non-null   object \n",
      " 2   Industry      1098 non-null   object \n",
      " 3   Layoffs       1098 non-null   float64\n",
      " 4   Percentage    1098 non-null   float64\n",
      " 5   Date          1098 non-null   object \n",
      " 6   Funds_Raised  1098 non-null   float64\n",
      " 7   Stage         1098 non-null   object \n",
      " 8   Country       1098 non-null   object \n",
      "dtypes: float64(3), object(6)\n",
      "memory usage: 85.8+ KB\n"
     ]
    }
   ],
   "source": [
    "clean_df = df.query('Percentage < 0.6 and Funds_Raised < 1108.2 and Layoffs < 416.2')\n",
    "clean_df.info()"
   ]
  },
  {
   "cell_type": "code",
   "execution_count": 16,
   "id": "401d1dc4-2591-46aa-886e-0a5c598511a4",
   "metadata": {},
   "outputs": [
    {
     "name": "stderr",
     "output_type": "stream",
     "text": [
      "c:\\Users\\salun\\AppData\\Local\\Programs\\Python\\Python310\\lib\\site-packages\\plotly\\express\\_core.py:2065: FutureWarning: When grouping with a length-1 list-like, you will need to pass a length-1 tuple to get_group in a future version of pandas. Pass `(name,)` instead of `name` to silence this warning.\n",
      "  sf: grouped.get_group(s if len(s) > 1 else s[0])\n"
     ]
    },
    {
     "data": {
      "application/vnd.plotly.v1+json": {
       "config": {
        "plotlyServerURL": "https://plot.ly"
       },
       "data": [
        {
         "alignmentgroup": "True",
         "hovertemplate": "Industry=%{x}<br>Layoffs=%{y}<extra></extra>",
         "legendgroup": "Retail",
         "marker": {
          "color": "#636efa"
         },
         "name": "Retail",
         "notched": false,
         "offsetgroup": "Retail",
         "orientation": "v",
         "showlegend": true,
         "type": "box",
         "x": [
          "Retail",
          "Retail",
          "Retail",
          "Retail",
          "Retail",
          "Retail",
          "Retail",
          "Retail",
          "Retail",
          "Retail",
          "Retail",
          "Retail",
          "Retail",
          "Retail",
          "Retail",
          "Retail",
          "Retail",
          "Retail",
          "Retail",
          "Retail",
          "Retail",
          "Retail",
          "Retail",
          "Retail",
          "Retail",
          "Retail",
          "Retail",
          "Retail",
          "Retail",
          "Retail",
          "Retail",
          "Retail",
          "Retail",
          "Retail",
          "Retail",
          "Retail",
          "Retail",
          "Retail",
          "Retail",
          "Retail",
          "Retail",
          "Retail",
          "Retail",
          "Retail",
          "Retail",
          "Retail",
          "Retail",
          "Retail",
          "Retail",
          "Retail",
          "Retail",
          "Retail",
          "Retail",
          "Retail",
          "Retail",
          "Retail",
          "Retail",
          "Retail",
          "Retail",
          "Retail",
          "Retail",
          "Retail",
          "Retail",
          "Retail",
          "Retail",
          "Retail",
          "Retail",
          "Retail",
          "Retail",
          "Retail",
          "Retail",
          "Retail",
          "Retail",
          "Retail",
          "Retail",
          "Retail",
          "Retail",
          "Retail",
          "Retail",
          "Retail",
          "Retail",
          "Retail",
          "Retail",
          "Retail",
          "Retail",
          "Retail"
         ],
         "x0": " ",
         "xaxis": "x",
         "y": [
          30,
          225,
          230,
          24,
          60,
          350,
          35,
          22,
          70,
          251,
          20,
          45,
          100,
          40,
          56,
          32,
          100,
          230,
          65,
          100,
          31,
          100,
          25,
          40,
          30,
          25,
          93,
          180,
          110,
          134,
          30,
          50,
          160,
          80,
          90,
          56,
          55,
          138,
          54,
          60,
          48,
          50,
          19,
          24,
          70,
          13,
          400,
          30,
          120,
          100,
          30,
          191,
          250,
          100,
          330,
          70,
          50,
          200,
          400,
          29,
          260,
          300,
          30,
          150,
          100,
          3,
          20,
          120,
          20,
          100,
          78,
          44,
          200,
          235,
          36,
          200,
          87,
          60,
          147,
          60,
          70,
          65,
          250,
          23,
          91,
          20
         ],
         "y0": " ",
         "yaxis": "y"
        },
        {
         "alignmentgroup": "True",
         "hovertemplate": "Industry=%{x}<br>Layoffs=%{y}<extra></extra>",
         "legendgroup": "Security",
         "marker": {
          "color": "#EF553B"
         },
         "name": "Security",
         "notched": false,
         "offsetgroup": "Security",
         "orientation": "v",
         "showlegend": true,
         "type": "box",
         "x": [
          "Security",
          "Security",
          "Security",
          "Security",
          "Security",
          "Security",
          "Security",
          "Security",
          "Security",
          "Security",
          "Security",
          "Security",
          "Security",
          "Security",
          "Security",
          "Security",
          "Security",
          "Security",
          "Security",
          "Security",
          "Security",
          "Security",
          "Security",
          "Security",
          "Security",
          "Security",
          "Security",
          "Security",
          "Security",
          "Security",
          "Security",
          "Security",
          "Security",
          "Security",
          "Security",
          "Security",
          "Security",
          "Security",
          "Security",
          "Security",
          "Security",
          "Security",
          "Security",
          "Security",
          "Security",
          "Security",
          "Security",
          "Security",
          "Security",
          "Security"
         ],
         "x0": " ",
         "xaxis": "x",
         "y": [
          60,
          27,
          101,
          300,
          200,
          46,
          30,
          60,
          50,
          290,
          100,
          50,
          177,
          19,
          66,
          212,
          19,
          30,
          100,
          100,
          100,
          30,
          25,
          20,
          65,
          170,
          110,
          100,
          200,
          198,
          20,
          24,
          38,
          100,
          55,
          125,
          115,
          27,
          70,
          22,
          90,
          55,
          16,
          100,
          130,
          30,
          50,
          63,
          13,
          24
         ],
         "y0": " ",
         "yaxis": "y"
        },
        {
         "alignmentgroup": "True",
         "hovertemplate": "Industry=%{x}<br>Layoffs=%{y}<extra></extra>",
         "legendgroup": "Healthcare",
         "marker": {
          "color": "#00cc96"
         },
         "name": "Healthcare",
         "notched": false,
         "offsetgroup": "Healthcare",
         "orientation": "v",
         "showlegend": true,
         "type": "box",
         "x": [
          "Healthcare",
          "Healthcare",
          "Healthcare",
          "Healthcare",
          "Healthcare",
          "Healthcare",
          "Healthcare",
          "Healthcare",
          "Healthcare",
          "Healthcare",
          "Healthcare",
          "Healthcare",
          "Healthcare",
          "Healthcare",
          "Healthcare",
          "Healthcare",
          "Healthcare",
          "Healthcare",
          "Healthcare",
          "Healthcare",
          "Healthcare",
          "Healthcare",
          "Healthcare",
          "Healthcare",
          "Healthcare",
          "Healthcare",
          "Healthcare",
          "Healthcare",
          "Healthcare",
          "Healthcare",
          "Healthcare",
          "Healthcare",
          "Healthcare",
          "Healthcare",
          "Healthcare",
          "Healthcare",
          "Healthcare",
          "Healthcare",
          "Healthcare",
          "Healthcare",
          "Healthcare",
          "Healthcare",
          "Healthcare",
          "Healthcare",
          "Healthcare",
          "Healthcare",
          "Healthcare",
          "Healthcare",
          "Healthcare",
          "Healthcare",
          "Healthcare",
          "Healthcare",
          "Healthcare",
          "Healthcare",
          "Healthcare",
          "Healthcare",
          "Healthcare",
          "Healthcare",
          "Healthcare",
          "Healthcare",
          "Healthcare",
          "Healthcare",
          "Healthcare",
          "Healthcare",
          "Healthcare",
          "Healthcare",
          "Healthcare",
          "Healthcare",
          "Healthcare",
          "Healthcare",
          "Healthcare",
          "Healthcare",
          "Healthcare",
          "Healthcare",
          "Healthcare",
          "Healthcare",
          "Healthcare",
          "Healthcare",
          "Healthcare",
          "Healthcare",
          "Healthcare",
          "Healthcare",
          "Healthcare",
          "Healthcare"
         ],
         "x0": " ",
         "xaxis": "x",
         "y": [
          100,
          119,
          114,
          30,
          50,
          45,
          50,
          100,
          71,
          20,
          181,
          100,
          75,
          155,
          270,
          70,
          326,
          45,
          23,
          300,
          285,
          215,
          31,
          56,
          130,
          245,
          200,
          300,
          31,
          46,
          50,
          78,
          113,
          105,
          59,
          59,
          36,
          65,
          300,
          400,
          62,
          23,
          30,
          67,
          120,
          29,
          40,
          90,
          140,
          30,
          95,
          35,
          80,
          250,
          16,
          175,
          90,
          130,
          100,
          25,
          50,
          15,
          11,
          156,
          110,
          50,
          18,
          75,
          50,
          60,
          150,
          250,
          100,
          100,
          47,
          44,
          10,
          40,
          23,
          10,
          340,
          18,
          100,
          9
         ],
         "y0": " ",
         "yaxis": "y"
        },
        {
         "alignmentgroup": "True",
         "hovertemplate": "Industry=%{x}<br>Layoffs=%{y}<extra></extra>",
         "legendgroup": "Energy",
         "marker": {
          "color": "#ab63fa"
         },
         "name": "Energy",
         "notched": false,
         "offsetgroup": "Energy",
         "orientation": "v",
         "showlegend": true,
         "type": "box",
         "x": [
          "Energy",
          "Energy",
          "Energy",
          "Energy",
          "Energy"
         ],
         "x0": " ",
         "xaxis": "x",
         "y": [
          350,
          10,
          30,
          120,
          47
         ],
         "y0": " ",
         "yaxis": "y"
        },
        {
         "alignmentgroup": "True",
         "hovertemplate": "Industry=%{x}<br>Layoffs=%{y}<extra></extra>",
         "legendgroup": "Finance",
         "marker": {
          "color": "#FFA15A"
         },
         "name": "Finance",
         "notched": false,
         "offsetgroup": "Finance",
         "orientation": "v",
         "showlegend": true,
         "type": "box",
         "x": [
          "Finance",
          "Finance",
          "Finance",
          "Finance",
          "Finance",
          "Finance",
          "Finance",
          "Finance",
          "Finance",
          "Finance",
          "Finance",
          "Finance",
          "Finance",
          "Finance",
          "Finance",
          "Finance",
          "Finance",
          "Finance",
          "Finance",
          "Finance",
          "Finance",
          "Finance",
          "Finance",
          "Finance",
          "Finance",
          "Finance",
          "Finance",
          "Finance",
          "Finance",
          "Finance",
          "Finance",
          "Finance",
          "Finance",
          "Finance",
          "Finance",
          "Finance",
          "Finance",
          "Finance",
          "Finance",
          "Finance",
          "Finance",
          "Finance",
          "Finance",
          "Finance",
          "Finance",
          "Finance",
          "Finance",
          "Finance",
          "Finance",
          "Finance",
          "Finance",
          "Finance",
          "Finance",
          "Finance",
          "Finance",
          "Finance",
          "Finance",
          "Finance",
          "Finance",
          "Finance",
          "Finance",
          "Finance",
          "Finance",
          "Finance",
          "Finance",
          "Finance",
          "Finance",
          "Finance",
          "Finance",
          "Finance",
          "Finance",
          "Finance",
          "Finance",
          "Finance",
          "Finance",
          "Finance",
          "Finance",
          "Finance",
          "Finance",
          "Finance",
          "Finance",
          "Finance",
          "Finance",
          "Finance",
          "Finance",
          "Finance",
          "Finance",
          "Finance",
          "Finance",
          "Finance",
          "Finance",
          "Finance",
          "Finance",
          "Finance",
          "Finance",
          "Finance",
          "Finance",
          "Finance",
          "Finance",
          "Finance",
          "Finance",
          "Finance",
          "Finance",
          "Finance",
          "Finance",
          "Finance",
          "Finance",
          "Finance",
          "Finance",
          "Finance",
          "Finance",
          "Finance",
          "Finance",
          "Finance",
          "Finance",
          "Finance",
          "Finance",
          "Finance",
          "Finance",
          "Finance",
          "Finance",
          "Finance",
          "Finance",
          "Finance",
          "Finance",
          "Finance",
          "Finance",
          "Finance",
          "Finance",
          "Finance",
          "Finance",
          "Finance",
          "Finance",
          "Finance",
          "Finance",
          "Finance",
          "Finance",
          "Finance",
          "Finance",
          "Finance",
          "Finance",
          "Finance",
          "Finance",
          "Finance",
          "Finance",
          "Finance",
          "Finance",
          "Finance",
          "Finance",
          "Finance",
          "Finance",
          "Finance",
          "Finance",
          "Finance",
          "Finance",
          "Finance",
          "Finance",
          "Finance",
          "Finance",
          "Finance",
          "Finance",
          "Finance",
          "Finance",
          "Finance",
          "Finance",
          "Finance",
          "Finance",
          "Finance",
          "Finance"
         ],
         "x0": " ",
         "xaxis": "x",
         "y": [
          15,
          30,
          80,
          172,
          80,
          86,
          28,
          30,
          100,
          95,
          150,
          67,
          28,
          300,
          45,
          150,
          120,
          63,
          40,
          45,
          160,
          30,
          29,
          30,
          115,
          70,
          81,
          75,
          150,
          100,
          15,
          48,
          19,
          80,
          15,
          25,
          15,
          130,
          100,
          210,
          155,
          24,
          20,
          365,
          140,
          100,
          20,
          50,
          225,
          111,
          104,
          123,
          340,
          104,
          26,
          30,
          85,
          20,
          95,
          260,
          27,
          50,
          32,
          30,
          47,
          158,
          53,
          67,
          72,
          37,
          15,
          100,
          137,
          190,
          70,
          150,
          142,
          100,
          140,
          30,
          25,
          84,
          150,
          30,
          43,
          32,
          70,
          190,
          40,
          23,
          100,
          20,
          15,
          220,
          250,
          58,
          125,
          60,
          40,
          28,
          100,
          85,
          300,
          150,
          100,
          20,
          40,
          14,
          90,
          41,
          40,
          15,
          340,
          69,
          159,
          45,
          20,
          31,
          180,
          170,
          65,
          44,
          100,
          29,
          50,
          45,
          30,
          310,
          45,
          200,
          5,
          22,
          22,
          40,
          63,
          18,
          120,
          22,
          14,
          62,
          62,
          25,
          60,
          9,
          62,
          60,
          28,
          400,
          27,
          18,
          38,
          90,
          65,
          161,
          70,
          17,
          136,
          89,
          100,
          15,
          35,
          6,
          50,
          45,
          17,
          51,
          78,
          47,
          13
         ],
         "y0": " ",
         "yaxis": "y"
        },
        {
         "alignmentgroup": "True",
         "hovertemplate": "Industry=%{x}<br>Layoffs=%{y}<extra></extra>",
         "legendgroup": "Product",
         "marker": {
          "color": "#19d3f3"
         },
         "name": "Product",
         "notched": false,
         "offsetgroup": "Product",
         "orientation": "v",
         "showlegend": true,
         "type": "box",
         "x": [
          "Product",
          "Product",
          "Product",
          "Product",
          "Product",
          "Product",
          "Product",
          "Product",
          "Product",
          "Product",
          "Product",
          "Product",
          "Product",
          "Product",
          "Product",
          "Product",
          "Product",
          "Product",
          "Product"
         ],
         "x0": " ",
         "xaxis": "x",
         "y": [
          40,
          37,
          100,
          130,
          21,
          20,
          48,
          23,
          45,
          80,
          23,
          100,
          20,
          24,
          34,
          90,
          39,
          18,
          12
         ],
         "y0": " ",
         "yaxis": "y"
        },
        {
         "alignmentgroup": "True",
         "hovertemplate": "Industry=%{x}<br>Layoffs=%{y}<extra></extra>",
         "legendgroup": "Consumer",
         "marker": {
          "color": "#FF6692"
         },
         "name": "Consumer",
         "notched": false,
         "offsetgroup": "Consumer",
         "orientation": "v",
         "showlegend": true,
         "type": "box",
         "x": [
          "Consumer",
          "Consumer",
          "Consumer",
          "Consumer",
          "Consumer",
          "Consumer",
          "Consumer",
          "Consumer",
          "Consumer",
          "Consumer",
          "Consumer",
          "Consumer",
          "Consumer",
          "Consumer",
          "Consumer",
          "Consumer",
          "Consumer",
          "Consumer",
          "Consumer",
          "Consumer",
          "Consumer",
          "Consumer",
          "Consumer",
          "Consumer",
          "Consumer",
          "Consumer",
          "Consumer",
          "Consumer",
          "Consumer",
          "Consumer",
          "Consumer",
          "Consumer",
          "Consumer",
          "Consumer",
          "Consumer",
          "Consumer",
          "Consumer",
          "Consumer",
          "Consumer"
         ],
         "x0": " ",
         "xaxis": "x",
         "y": [
          40,
          37,
          130,
          60,
          78,
          80,
          85,
          140,
          60,
          160,
          95,
          300,
          35,
          50,
          140,
          200,
          80,
          85,
          23,
          30,
          25,
          100,
          30,
          70,
          90,
          87,
          180,
          80,
          250,
          174,
          270,
          6,
          155,
          200,
          45,
          11,
          50,
          194,
          250
         ],
         "y0": " ",
         "yaxis": "y"
        },
        {
         "alignmentgroup": "True",
         "hovertemplate": "Industry=%{x}<br>Layoffs=%{y}<extra></extra>",
         "legendgroup": "AI",
         "marker": {
          "color": "#B6E880"
         },
         "name": "AI",
         "notched": false,
         "offsetgroup": "AI",
         "orientation": "v",
         "showlegend": true,
         "type": "box",
         "x": [
          "AI",
          "AI"
         ],
         "x0": " ",
         "xaxis": "x",
         "y": [
          150,
          20
         ],
         "y0": " ",
         "yaxis": "y"
        },
        {
         "alignmentgroup": "True",
         "hovertemplate": "Industry=%{x}<br>Layoffs=%{y}<extra></extra>",
         "legendgroup": "Transportation",
         "marker": {
          "color": "#FF97FF"
         },
         "name": "Transportation",
         "notched": false,
         "offsetgroup": "Transportation",
         "orientation": "v",
         "showlegend": true,
         "type": "box",
         "x": [
          "Transportation",
          "Transportation",
          "Transportation",
          "Transportation",
          "Transportation",
          "Transportation",
          "Transportation",
          "Transportation",
          "Transportation",
          "Transportation",
          "Transportation",
          "Transportation",
          "Transportation",
          "Transportation",
          "Transportation",
          "Transportation",
          "Transportation",
          "Transportation",
          "Transportation",
          "Transportation",
          "Transportation",
          "Transportation",
          "Transportation",
          "Transportation",
          "Transportation",
          "Transportation",
          "Transportation",
          "Transportation",
          "Transportation",
          "Transportation",
          "Transportation",
          "Transportation",
          "Transportation",
          "Transportation",
          "Transportation",
          "Transportation",
          "Transportation",
          "Transportation",
          "Transportation",
          "Transportation",
          "Transportation",
          "Transportation",
          "Transportation",
          "Transportation",
          "Transportation",
          "Transportation",
          "Transportation",
          "Transportation",
          "Transportation",
          "Transportation",
          "Transportation",
          "Transportation"
         ],
         "x0": " ",
         "xaxis": "x",
         "y": [
          128,
          17,
          300,
          200,
          102,
          27,
          46,
          40,
          360,
          31,
          80,
          40,
          350,
          160,
          80,
          237,
          130,
          70,
          65,
          78,
          75,
          180,
          63,
          58,
          76,
          40,
          16,
          35,
          35,
          138,
          400,
          100,
          111,
          200,
          30,
          130,
          40,
          219,
          35,
          80,
          57,
          10,
          130,
          15,
          100,
          92,
          23,
          108,
          406,
          100,
          100,
          8
         ],
         "y0": " ",
         "yaxis": "y"
        },
        {
         "alignmentgroup": "True",
         "hovertemplate": "Industry=%{x}<br>Layoffs=%{y}<extra></extra>",
         "legendgroup": "Education",
         "marker": {
          "color": "#FECB52"
         },
         "name": "Education",
         "notched": false,
         "offsetgroup": "Education",
         "orientation": "v",
         "showlegend": true,
         "type": "box",
         "x": [
          "Education",
          "Education",
          "Education",
          "Education",
          "Education",
          "Education",
          "Education",
          "Education",
          "Education",
          "Education",
          "Education",
          "Education",
          "Education",
          "Education",
          "Education",
          "Education",
          "Education",
          "Education",
          "Education",
          "Education",
          "Education",
          "Education",
          "Education",
          "Education",
          "Education",
          "Education",
          "Education",
          "Education",
          "Education",
          "Education",
          "Education",
          "Education",
          "Education",
          "Education",
          "Education",
          "Education",
          "Education",
          "Education",
          "Education"
         ],
         "x0": " ",
         "xaxis": "x",
         "y": [
          120,
          29,
          87,
          42,
          106,
          80,
          128,
          172,
          81,
          89,
          42,
          27,
          76,
          400,
          43,
          45,
          90,
          350,
          55,
          47,
          80,
          73,
          60,
          31,
          120,
          150,
          33,
          26,
          12,
          145,
          200,
          72,
          150,
          100,
          37,
          150,
          16,
          140,
          7
         ],
         "y0": " ",
         "yaxis": "y"
        },
        {
         "alignmentgroup": "True",
         "hovertemplate": "Industry=%{x}<br>Layoffs=%{y}<extra></extra>",
         "legendgroup": "Travel",
         "marker": {
          "color": "#636efa"
         },
         "name": "Travel",
         "notched": false,
         "offsetgroup": "Travel",
         "orientation": "v",
         "showlegend": true,
         "type": "box",
         "x": [
          "Travel",
          "Travel",
          "Travel",
          "Travel",
          "Travel",
          "Travel",
          "Travel",
          "Travel",
          "Travel",
          "Travel",
          "Travel",
          "Travel",
          "Travel",
          "Travel",
          "Travel",
          "Travel",
          "Travel",
          "Travel",
          "Travel",
          "Travel",
          "Travel",
          "Travel",
          "Travel",
          "Travel",
          "Travel",
          "Travel",
          "Travel",
          "Travel",
          "Travel"
         ],
         "x0": " ",
         "xaxis": "x",
         "y": [
          125,
          250,
          175,
          50,
          164,
          100,
          109,
          144,
          250,
          30,
          200,
          90,
          350,
          300,
          350,
          70,
          69,
          160,
          15,
          300,
          35,
          80,
          250,
          300,
          56,
          400,
          38,
          50,
          130
         ],
         "y0": " ",
         "yaxis": "y"
        },
        {
         "alignmentgroup": "True",
         "hovertemplate": "Industry=%{x}<br>Layoffs=%{y}<extra></extra>",
         "legendgroup": "Food",
         "marker": {
          "color": "#EF553B"
         },
         "name": "Food",
         "notched": false,
         "offsetgroup": "Food",
         "orientation": "v",
         "showlegend": true,
         "type": "box",
         "x": [
          "Food",
          "Food",
          "Food",
          "Food",
          "Food",
          "Food",
          "Food",
          "Food",
          "Food",
          "Food",
          "Food",
          "Food",
          "Food",
          "Food",
          "Food",
          "Food",
          "Food",
          "Food",
          "Food",
          "Food",
          "Food",
          "Food",
          "Food",
          "Food",
          "Food",
          "Food",
          "Food",
          "Food",
          "Food",
          "Food",
          "Food",
          "Food",
          "Food",
          "Food",
          "Food",
          "Food",
          "Food",
          "Food",
          "Food",
          "Food",
          "Food",
          "Food",
          "Food",
          "Food",
          "Food",
          "Food",
          "Food",
          "Food",
          "Food",
          "Food",
          "Food",
          "Food"
         ],
         "x0": " ",
         "xaxis": "x",
         "y": [
          65,
          150,
          30,
          34,
          283,
          300,
          134,
          38,
          81,
          400,
          100,
          250,
          17,
          300,
          40,
          65,
          40,
          130,
          27,
          93,
          100,
          211,
          50,
          70,
          70,
          70,
          200,
          200,
          26,
          40,
          60,
          100,
          23,
          80,
          50,
          150,
          21,
          100,
          20,
          100,
          60,
          87,
          180,
          75,
          35,
          131,
          4,
          400,
          196,
          5,
          9,
          30
         ],
         "y0": " ",
         "yaxis": "y"
        },
        {
         "alignmentgroup": "True",
         "hovertemplate": "Industry=%{x}<br>Layoffs=%{y}<extra></extra>",
         "legendgroup": "HR",
         "marker": {
          "color": "#00cc96"
         },
         "name": "HR",
         "notched": false,
         "offsetgroup": "HR",
         "orientation": "v",
         "showlegend": true,
         "type": "box",
         "x": [
          "HR",
          "HR",
          "HR",
          "HR",
          "HR",
          "HR",
          "HR",
          "HR",
          "HR",
          "HR",
          "HR",
          "HR",
          "HR",
          "HR",
          "HR",
          "HR",
          "HR",
          "HR",
          "HR",
          "HR",
          "HR",
          "HR",
          "HR",
          "HR",
          "HR",
          "HR",
          "HR",
          "HR",
          "HR",
          "HR",
          "HR",
          "HR",
          "HR",
          "HR",
          "HR",
          "HR",
          "HR"
         ],
         "x0": " ",
         "xaxis": "x",
         "y": [
          73,
          150,
          100,
          58,
          14,
          35,
          90,
          140,
          130,
          200,
          126,
          90,
          105,
          60,
          198,
          17,
          35,
          11,
          31,
          29,
          5,
          16,
          54,
          100,
          64,
          36,
          16,
          60,
          110,
          87,
          55,
          40,
          58,
          10,
          59,
          35,
          70
         ],
         "y0": " ",
         "yaxis": "y"
        },
        {
         "alignmentgroup": "True",
         "hovertemplate": "Industry=%{x}<br>Layoffs=%{y}<extra></extra>",
         "legendgroup": "Hardware",
         "marker": {
          "color": "#ab63fa"
         },
         "name": "Hardware",
         "notched": false,
         "offsetgroup": "Hardware",
         "orientation": "v",
         "showlegend": true,
         "type": "box",
         "x": [
          "Hardware",
          "Hardware",
          "Hardware",
          "Hardware"
         ],
         "x0": " ",
         "xaxis": "x",
         "y": [
          130,
          60,
          50,
          30
         ],
         "y0": " ",
         "yaxis": "y"
        },
        {
         "alignmentgroup": "True",
         "hovertemplate": "Industry=%{x}<br>Layoffs=%{y}<extra></extra>",
         "legendgroup": "Sales",
         "marker": {
          "color": "#FFA15A"
         },
         "name": "Sales",
         "notched": false,
         "offsetgroup": "Sales",
         "orientation": "v",
         "showlegend": true,
         "type": "box",
         "x": [
          "Sales",
          "Sales",
          "Sales",
          "Sales",
          "Sales",
          "Sales",
          "Sales",
          "Sales",
          "Sales",
          "Sales",
          "Sales",
          "Sales",
          "Sales",
          "Sales",
          "Sales",
          "Sales",
          "Sales",
          "Sales",
          "Sales",
          "Sales",
          "Sales"
         ],
         "x0": " ",
         "xaxis": "x",
         "y": [
          140,
          140,
          120,
          17,
          70,
          221,
          80,
          100,
          100,
          40,
          37,
          31,
          143,
          120,
          150,
          27,
          60,
          57,
          15,
          51,
          11
         ],
         "y0": " ",
         "yaxis": "y"
        },
        {
         "alignmentgroup": "True",
         "hovertemplate": "Industry=%{x}<br>Layoffs=%{y}<extra></extra>",
         "legendgroup": "Data",
         "marker": {
          "color": "#19d3f3"
         },
         "name": "Data",
         "notched": false,
         "offsetgroup": "Data",
         "orientation": "v",
         "showlegend": true,
         "type": "box",
         "x": [
          "Data",
          "Data",
          "Data",
          "Data",
          "Data",
          "Data",
          "Data",
          "Data",
          "Data",
          "Data",
          "Data",
          "Data",
          "Data",
          "Data",
          "Data",
          "Data",
          "Data",
          "Data",
          "Data",
          "Data",
          "Data",
          "Data",
          "Data",
          "Data",
          "Data",
          "Data",
          "Data",
          "Data",
          "Data",
          "Data",
          "Data",
          "Data",
          "Data",
          "Data",
          "Data",
          "Data",
          "Data",
          "Data"
         ],
         "x0": " ",
         "xaxis": "x",
         "y": [
          21,
          84,
          60,
          170,
          100,
          320,
          100,
          99,
          200,
          221,
          22,
          30,
          76,
          24,
          65,
          12,
          35,
          30,
          15,
          80,
          80,
          30,
          27,
          70,
          59,
          100,
          70,
          70,
          12,
          65,
          50,
          80,
          80,
          20,
          90,
          90,
          25,
          20
         ],
         "y0": " ",
         "yaxis": "y"
        },
        {
         "alignmentgroup": "True",
         "hovertemplate": "Industry=%{x}<br>Layoffs=%{y}<extra></extra>",
         "legendgroup": "Other",
         "marker": {
          "color": "#FF6692"
         },
         "name": "Other",
         "notched": false,
         "offsetgroup": "Other",
         "orientation": "v",
         "showlegend": true,
         "type": "box",
         "x": [
          "Other",
          "Other",
          "Other",
          "Other",
          "Other",
          "Other",
          "Other",
          "Other",
          "Other",
          "Other",
          "Other",
          "Other",
          "Other",
          "Other",
          "Other",
          "Other",
          "Other",
          "Other",
          "Other",
          "Other",
          "Other",
          "Other",
          "Other",
          "Other",
          "Other",
          "Other",
          "Other",
          "Other",
          "Other",
          "Other",
          "Other",
          "Other",
          "Other",
          "Other",
          "Other",
          "Other",
          "Other",
          "Other",
          "Other",
          "Other",
          "Other",
          "Other",
          "Other",
          "Other",
          "Other",
          "Other",
          "Other",
          "Other",
          "Other",
          "Other",
          "Other",
          "Other",
          "Other",
          "Other",
          "Other",
          "Other"
         ],
         "x0": " ",
         "xaxis": "x",
         "y": [
          35,
          75,
          300,
          13,
          60,
          80,
          28,
          90,
          100,
          60,
          80,
          137,
          43,
          74,
          112,
          300,
          10,
          50,
          200,
          8,
          400,
          85,
          141,
          119,
          90,
          115,
          137,
          100,
          110,
          270,
          43,
          200,
          80,
          25,
          34,
          120,
          76,
          180,
          50,
          45,
          50,
          50,
          50,
          60,
          30,
          242,
          18,
          18,
          23,
          50,
          60,
          350,
          138,
          62,
          260,
          30
         ],
         "y0": " ",
         "yaxis": "y"
        },
        {
         "alignmentgroup": "True",
         "hovertemplate": "Industry=%{x}<br>Layoffs=%{y}<extra></extra>",
         "legendgroup": "Crypto",
         "marker": {
          "color": "#B6E880"
         },
         "name": "Crypto",
         "notched": false,
         "offsetgroup": "Crypto",
         "orientation": "v",
         "showlegend": true,
         "type": "box",
         "x": [
          "Crypto",
          "Crypto",
          "Crypto",
          "Crypto",
          "Crypto",
          "Crypto",
          "Crypto",
          "Crypto",
          "Crypto",
          "Crypto",
          "Crypto",
          "Crypto",
          "Crypto",
          "Crypto",
          "Crypto",
          "Crypto",
          "Crypto",
          "Crypto",
          "Crypto",
          "Crypto",
          "Crypto",
          "Crypto",
          "Crypto",
          "Crypto",
          "Crypto",
          "Crypto",
          "Crypto",
          "Crypto",
          "Crypto",
          "Crypto",
          "Crypto",
          "Crypto",
          "Crypto",
          "Crypto",
          "Crypto",
          "Crypto",
          "Crypto",
          "Crypto",
          "Crypto",
          "Crypto",
          "Crypto",
          "Crypto",
          "Crypto",
          "Crypto",
          "Crypto",
          "Crypto"
         ],
         "x0": " ",
         "xaxis": "x",
         "y": [
          150,
          26,
          80,
          30,
          16,
          17,
          75,
          100,
          30,
          89,
          44,
          29,
          21,
          330,
          110,
          100,
          275,
          10,
          33,
          100,
          20,
          20,
          59,
          134,
          100,
          30,
          20,
          150,
          68,
          42,
          30,
          150,
          12,
          300,
          70,
          270,
          9,
          24,
          250,
          260,
          100,
          90,
          80,
          80,
          75,
          91
         ],
         "y0": " ",
         "yaxis": "y"
        },
        {
         "alignmentgroup": "True",
         "hovertemplate": "Industry=%{x}<br>Layoffs=%{y}<extra></extra>",
         "legendgroup": "Logistics",
         "marker": {
          "color": "#FF97FF"
         },
         "name": "Logistics",
         "notched": false,
         "offsetgroup": "Logistics",
         "orientation": "v",
         "showlegend": true,
         "type": "box",
         "x": [
          "Logistics",
          "Logistics",
          "Logistics",
          "Logistics",
          "Logistics",
          "Logistics",
          "Logistics",
          "Logistics",
          "Logistics",
          "Logistics",
          "Logistics",
          "Logistics",
          "Logistics",
          "Logistics",
          "Logistics",
          "Logistics",
          "Logistics",
          "Logistics",
          "Logistics",
          "Logistics",
          "Logistics",
          "Logistics",
          "Logistics",
          "Logistics",
          "Logistics",
          "Logistics"
         ],
         "x0": " ",
         "xaxis": "x",
         "y": [
          131,
          50,
          30,
          130,
          45,
          300,
          55,
          60,
          60,
          60,
          54,
          30,
          63,
          120,
          27,
          10,
          250,
          90,
          59,
          300,
          24,
          10,
          50,
          75,
          349,
          65
         ],
         "y0": " ",
         "yaxis": "y"
        },
        {
         "alignmentgroup": "True",
         "hovertemplate": "Industry=%{x}<br>Layoffs=%{y}<extra></extra>",
         "legendgroup": "Unknown",
         "marker": {
          "color": "#FECB52"
         },
         "name": "Unknown",
         "notched": false,
         "offsetgroup": "Unknown",
         "orientation": "v",
         "showlegend": true,
         "type": "box",
         "x": [
          "Unknown"
         ],
         "x0": " ",
         "xaxis": "x",
         "y": [
          35
         ],
         "y0": " ",
         "yaxis": "y"
        },
        {
         "alignmentgroup": "True",
         "hovertemplate": "Industry=%{x}<br>Layoffs=%{y}<extra></extra>",
         "legendgroup": "Marketing",
         "marker": {
          "color": "#636efa"
         },
         "name": "Marketing",
         "notched": false,
         "offsetgroup": "Marketing",
         "orientation": "v",
         "showlegend": true,
         "type": "box",
         "x": [
          "Marketing",
          "Marketing",
          "Marketing",
          "Marketing",
          "Marketing",
          "Marketing",
          "Marketing",
          "Marketing",
          "Marketing",
          "Marketing",
          "Marketing",
          "Marketing",
          "Marketing",
          "Marketing",
          "Marketing",
          "Marketing",
          "Marketing",
          "Marketing",
          "Marketing",
          "Marketing",
          "Marketing",
          "Marketing",
          "Marketing",
          "Marketing",
          "Marketing",
          "Marketing",
          "Marketing",
          "Marketing",
          "Marketing",
          "Marketing",
          "Marketing",
          "Marketing",
          "Marketing",
          "Marketing",
          "Marketing",
          "Marketing",
          "Marketing",
          "Marketing",
          "Marketing",
          "Marketing",
          "Marketing",
          "Marketing",
          "Marketing",
          "Marketing",
          "Marketing",
          "Marketing",
          "Marketing",
          "Marketing",
          "Marketing",
          "Marketing",
          "Marketing",
          "Marketing",
          "Marketing",
          "Marketing",
          "Marketing",
          "Marketing",
          "Marketing",
          "Marketing",
          "Marketing",
          "Marketing",
          "Marketing",
          "Marketing",
          "Marketing",
          "Marketing",
          "Marketing",
          "Marketing",
          "Marketing",
          "Marketing",
          "Marketing",
          "Marketing",
          "Marketing",
          "Marketing",
          "Marketing",
          "Marketing",
          "Marketing",
          "Marketing",
          "Marketing"
         ],
         "x0": " ",
         "xaxis": "x",
         "y": [
          40,
          100,
          8,
          90,
          75,
          70,
          80,
          150,
          40,
          370,
          100,
          19,
          40,
          20,
          70,
          100,
          62,
          60,
          120,
          100,
          60,
          9,
          200,
          70,
          130,
          25,
          50,
          227,
          35,
          180,
          59,
          100,
          13,
          30,
          400,
          20,
          31,
          47,
          40,
          30,
          38,
          30,
          45,
          24,
          30,
          120,
          8,
          40,
          60,
          17,
          400,
          101,
          70,
          50,
          35,
          19,
          90,
          30,
          60,
          8,
          48,
          30,
          21,
          100,
          53,
          100,
          77,
          26,
          300,
          23,
          52,
          20,
          15,
          210,
          5,
          52,
          4
         ],
         "y0": " ",
         "yaxis": "y"
        },
        {
         "alignmentgroup": "True",
         "hovertemplate": "Industry=%{x}<br>Layoffs=%{y}<extra></extra>",
         "legendgroup": "Real Estate",
         "marker": {
          "color": "#EF553B"
         },
         "name": "Real Estate",
         "notched": false,
         "offsetgroup": "Real Estate",
         "orientation": "v",
         "showlegend": true,
         "type": "box",
         "x": [
          "Real Estate",
          "Real Estate",
          "Real Estate",
          "Real Estate",
          "Real Estate",
          "Real Estate",
          "Real Estate",
          "Real Estate",
          "Real Estate",
          "Real Estate",
          "Real Estate",
          "Real Estate",
          "Real Estate",
          "Real Estate",
          "Real Estate",
          "Real Estate",
          "Real Estate",
          "Real Estate",
          "Real Estate",
          "Real Estate",
          "Real Estate",
          "Real Estate",
          "Real Estate",
          "Real Estate",
          "Real Estate",
          "Real Estate",
          "Real Estate",
          "Real Estate",
          "Real Estate",
          "Real Estate",
          "Real Estate",
          "Real Estate",
          "Real Estate",
          "Real Estate",
          "Real Estate",
          "Real Estate",
          "Real Estate",
          "Real Estate",
          "Real Estate"
         ],
         "x0": " ",
         "xaxis": "x",
         "y": [
          40,
          149,
          40,
          61,
          201,
          340,
          18,
          312,
          30,
          100,
          300,
          300,
          64,
          100,
          40,
          40,
          29,
          200,
          39,
          384,
          45,
          160,
          115,
          119,
          57,
          20,
          24,
          73,
          28,
          20,
          88,
          47,
          40,
          236,
          90,
          130,
          127,
          80,
          150
         ],
         "y0": " ",
         "yaxis": "y"
        },
        {
         "alignmentgroup": "True",
         "hovertemplate": "Industry=%{x}<br>Layoffs=%{y}<extra></extra>",
         "legendgroup": "Media",
         "marker": {
          "color": "#00cc96"
         },
         "name": "Media",
         "notched": false,
         "offsetgroup": "Media",
         "orientation": "v",
         "showlegend": true,
         "type": "box",
         "x": [
          "Media",
          "Media",
          "Media",
          "Media",
          "Media",
          "Media",
          "Media",
          "Media",
          "Media",
          "Media",
          "Media",
          "Media",
          "Media",
          "Media",
          "Media",
          "Media",
          "Media",
          "Media",
          "Media",
          "Media",
          "Media",
          "Media",
          "Media",
          "Media",
          "Media",
          "Media",
          "Media",
          "Media",
          "Media",
          "Media",
          "Media",
          "Media",
          "Media",
          "Media",
          "Media",
          "Media",
          "Media",
          "Media",
          "Media",
          "Media"
         ],
         "x0": " ",
         "xaxis": "x",
         "y": [
          360,
          60,
          24,
          37,
          48,
          22,
          180,
          200,
          42,
          12,
          50,
          17,
          130,
          120,
          40,
          50,
          75,
          180,
          200,
          40,
          24,
          70,
          80,
          39,
          13,
          60,
          14,
          56,
          87,
          23,
          100,
          46,
          95,
          26,
          30,
          50,
          24,
          51,
          31,
          30
         ],
         "y0": " ",
         "yaxis": "y"
        },
        {
         "alignmentgroup": "True",
         "hovertemplate": "Industry=%{x}<br>Layoffs=%{y}<extra></extra>",
         "legendgroup": "Manufacturing",
         "marker": {
          "color": "#ab63fa"
         },
         "name": "Manufacturing",
         "notched": false,
         "offsetgroup": "Manufacturing",
         "orientation": "v",
         "showlegend": true,
         "type": "box",
         "x": [
          "Manufacturing",
          "Manufacturing"
         ],
         "x0": " ",
         "xaxis": "x",
         "y": [
          70,
          20
         ],
         "y0": " ",
         "yaxis": "y"
        },
        {
         "alignmentgroup": "True",
         "hovertemplate": "Industry=%{x}<br>Layoffs=%{y}<extra></extra>",
         "legendgroup": "Aerospace",
         "marker": {
          "color": "#FFA15A"
         },
         "name": "Aerospace",
         "notched": false,
         "offsetgroup": "Aerospace",
         "orientation": "v",
         "showlegend": true,
         "type": "box",
         "x": [
          "Aerospace",
          "Aerospace",
          "Aerospace"
         ],
         "x0": " ",
         "xaxis": "x",
         "y": [
          117,
          75,
          40
         ],
         "y0": " ",
         "yaxis": "y"
        },
        {
         "alignmentgroup": "True",
         "hovertemplate": "Industry=%{x}<br>Layoffs=%{y}<extra></extra>",
         "legendgroup": "Infrastructure",
         "marker": {
          "color": "#19d3f3"
         },
         "name": "Infrastructure",
         "notched": false,
         "offsetgroup": "Infrastructure",
         "orientation": "v",
         "showlegend": true,
         "type": "box",
         "x": [
          "Infrastructure",
          "Infrastructure",
          "Infrastructure",
          "Infrastructure",
          "Infrastructure",
          "Infrastructure",
          "Infrastructure",
          "Infrastructure",
          "Infrastructure",
          "Infrastructure",
          "Infrastructure",
          "Infrastructure",
          "Infrastructure",
          "Infrastructure",
          "Infrastructure",
          "Infrastructure",
          "Infrastructure"
         ],
         "x0": " ",
         "xaxis": "x",
         "y": [
          255,
          134,
          40,
          50,
          40,
          200,
          95,
          40,
          110,
          270,
          15,
          80,
          160,
          34,
          30,
          50,
          30
         ],
         "y0": " ",
         "yaxis": "y"
        },
        {
         "alignmentgroup": "True",
         "hovertemplate": "Industry=%{x}<br>Layoffs=%{y}<extra></extra>",
         "legendgroup": "Support",
         "marker": {
          "color": "#FF6692"
         },
         "name": "Support",
         "notched": false,
         "offsetgroup": "Support",
         "orientation": "v",
         "showlegend": true,
         "type": "box",
         "x": [
          "Support",
          "Support",
          "Support",
          "Support",
          "Support",
          "Support",
          "Support",
          "Support",
          "Support",
          "Support",
          "Support",
          "Support",
          "Support",
          "Support",
          "Support",
          "Support",
          "Support",
          "Support",
          "Support",
          "Support",
          "Support"
         ],
         "x0": " ",
         "xaxis": "x",
         "y": [
          320,
          114,
          100,
          155,
          142,
          30,
          76,
          90,
          124,
          350,
          200,
          78,
          193,
          49,
          52,
          39,
          36,
          33,
          40,
          80,
          24
         ],
         "y0": " ",
         "yaxis": "y"
        },
        {
         "alignmentgroup": "True",
         "hovertemplate": "Industry=%{x}<br>Layoffs=%{y}<extra></extra>",
         "legendgroup": "Recruiting",
         "marker": {
          "color": "#B6E880"
         },
         "name": "Recruiting",
         "notched": false,
         "offsetgroup": "Recruiting",
         "orientation": "v",
         "showlegend": true,
         "type": "box",
         "x": [
          "Recruiting",
          "Recruiting",
          "Recruiting",
          "Recruiting",
          "Recruiting",
          "Recruiting",
          "Recruiting",
          "Recruiting",
          "Recruiting",
          "Recruiting",
          "Recruiting",
          "Recruiting",
          "Recruiting",
          "Recruiting",
          "Recruiting",
          "Recruiting",
          "Recruiting",
          "Recruiting",
          "Recruiting",
          "Recruiting",
          "Recruiting"
         ],
         "x0": " ",
         "xaxis": "x",
         "y": [
          270,
          58,
          100,
          86,
          15,
          100,
          50,
          23,
          36,
          300,
          135,
          40,
          25,
          120,
          86,
          18,
          39,
          46,
          400,
          30,
          15
         ],
         "y0": " ",
         "yaxis": "y"
        },
        {
         "alignmentgroup": "True",
         "hovertemplate": "Industry=%{x}<br>Layoffs=%{y}<extra></extra>",
         "legendgroup": "Fitness",
         "marker": {
          "color": "#FF97FF"
         },
         "name": "Fitness",
         "notched": false,
         "offsetgroup": "Fitness",
         "orientation": "v",
         "showlegend": true,
         "type": "box",
         "x": [
          "Fitness",
          "Fitness",
          "Fitness",
          "Fitness",
          "Fitness",
          "Fitness",
          "Fitness",
          "Fitness",
          "Fitness",
          "Fitness"
         ],
         "x0": " ",
         "xaxis": "x",
         "y": [
          80,
          30,
          300,
          400,
          55,
          95,
          262,
          154,
          100,
          17
         ],
         "y0": " ",
         "yaxis": "y"
        },
        {
         "alignmentgroup": "True",
         "hovertemplate": "Industry=%{x}<br>Layoffs=%{y}<extra></extra>",
         "legendgroup": "Legal",
         "marker": {
          "color": "#FECB52"
         },
         "name": "Legal",
         "notched": false,
         "offsetgroup": "Legal",
         "orientation": "v",
         "showlegend": true,
         "type": "box",
         "x": [
          "Legal",
          "Legal",
          "Legal",
          "Legal",
          "Legal",
          "Legal",
          "Legal"
         ],
         "x0": " ",
         "xaxis": "x",
         "y": [
          24,
          130,
          62,
          150,
          30,
          110,
          150
         ],
         "y0": " ",
         "yaxis": "y"
        },
        {
         "alignmentgroup": "True",
         "hovertemplate": "Industry=%{x}<br>Layoffs=%{y}<extra></extra>",
         "legendgroup": "Construction",
         "marker": {
          "color": "#636efa"
         },
         "name": "Construction",
         "notched": false,
         "offsetgroup": "Construction",
         "orientation": "v",
         "showlegend": true,
         "type": "box",
         "x": [
          "Construction",
          "Construction",
          "Construction",
          "Construction",
          "Construction",
          "Construction"
         ],
         "x0": " ",
         "xaxis": "x",
         "y": [
          13,
          210,
          70,
          140,
          180,
          16
         ],
         "y0": " ",
         "yaxis": "y"
        }
       ],
       "layout": {
        "boxmode": "overlay",
        "legend": {
         "title": {
          "text": "Industry"
         },
         "tracegroupgap": 0
        },
        "template": {
         "data": {
          "bar": [
           {
            "error_x": {
             "color": "#2a3f5f"
            },
            "error_y": {
             "color": "#2a3f5f"
            },
            "marker": {
             "line": {
              "color": "#E5ECF6",
              "width": 0.5
             },
             "pattern": {
              "fillmode": "overlay",
              "size": 10,
              "solidity": 0.2
             }
            },
            "type": "bar"
           }
          ],
          "barpolar": [
           {
            "marker": {
             "line": {
              "color": "#E5ECF6",
              "width": 0.5
             },
             "pattern": {
              "fillmode": "overlay",
              "size": 10,
              "solidity": 0.2
             }
            },
            "type": "barpolar"
           }
          ],
          "carpet": [
           {
            "aaxis": {
             "endlinecolor": "#2a3f5f",
             "gridcolor": "white",
             "linecolor": "white",
             "minorgridcolor": "white",
             "startlinecolor": "#2a3f5f"
            },
            "baxis": {
             "endlinecolor": "#2a3f5f",
             "gridcolor": "white",
             "linecolor": "white",
             "minorgridcolor": "white",
             "startlinecolor": "#2a3f5f"
            },
            "type": "carpet"
           }
          ],
          "choropleth": [
           {
            "colorbar": {
             "outlinewidth": 0,
             "ticks": ""
            },
            "type": "choropleth"
           }
          ],
          "contour": [
           {
            "colorbar": {
             "outlinewidth": 0,
             "ticks": ""
            },
            "colorscale": [
             [
              0,
              "#0d0887"
             ],
             [
              0.1111111111111111,
              "#46039f"
             ],
             [
              0.2222222222222222,
              "#7201a8"
             ],
             [
              0.3333333333333333,
              "#9c179e"
             ],
             [
              0.4444444444444444,
              "#bd3786"
             ],
             [
              0.5555555555555556,
              "#d8576b"
             ],
             [
              0.6666666666666666,
              "#ed7953"
             ],
             [
              0.7777777777777778,
              "#fb9f3a"
             ],
             [
              0.8888888888888888,
              "#fdca26"
             ],
             [
              1,
              "#f0f921"
             ]
            ],
            "type": "contour"
           }
          ],
          "contourcarpet": [
           {
            "colorbar": {
             "outlinewidth": 0,
             "ticks": ""
            },
            "type": "contourcarpet"
           }
          ],
          "heatmap": [
           {
            "colorbar": {
             "outlinewidth": 0,
             "ticks": ""
            },
            "colorscale": [
             [
              0,
              "#0d0887"
             ],
             [
              0.1111111111111111,
              "#46039f"
             ],
             [
              0.2222222222222222,
              "#7201a8"
             ],
             [
              0.3333333333333333,
              "#9c179e"
             ],
             [
              0.4444444444444444,
              "#bd3786"
             ],
             [
              0.5555555555555556,
              "#d8576b"
             ],
             [
              0.6666666666666666,
              "#ed7953"
             ],
             [
              0.7777777777777778,
              "#fb9f3a"
             ],
             [
              0.8888888888888888,
              "#fdca26"
             ],
             [
              1,
              "#f0f921"
             ]
            ],
            "type": "heatmap"
           }
          ],
          "heatmapgl": [
           {
            "colorbar": {
             "outlinewidth": 0,
             "ticks": ""
            },
            "colorscale": [
             [
              0,
              "#0d0887"
             ],
             [
              0.1111111111111111,
              "#46039f"
             ],
             [
              0.2222222222222222,
              "#7201a8"
             ],
             [
              0.3333333333333333,
              "#9c179e"
             ],
             [
              0.4444444444444444,
              "#bd3786"
             ],
             [
              0.5555555555555556,
              "#d8576b"
             ],
             [
              0.6666666666666666,
              "#ed7953"
             ],
             [
              0.7777777777777778,
              "#fb9f3a"
             ],
             [
              0.8888888888888888,
              "#fdca26"
             ],
             [
              1,
              "#f0f921"
             ]
            ],
            "type": "heatmapgl"
           }
          ],
          "histogram": [
           {
            "marker": {
             "pattern": {
              "fillmode": "overlay",
              "size": 10,
              "solidity": 0.2
             }
            },
            "type": "histogram"
           }
          ],
          "histogram2d": [
           {
            "colorbar": {
             "outlinewidth": 0,
             "ticks": ""
            },
            "colorscale": [
             [
              0,
              "#0d0887"
             ],
             [
              0.1111111111111111,
              "#46039f"
             ],
             [
              0.2222222222222222,
              "#7201a8"
             ],
             [
              0.3333333333333333,
              "#9c179e"
             ],
             [
              0.4444444444444444,
              "#bd3786"
             ],
             [
              0.5555555555555556,
              "#d8576b"
             ],
             [
              0.6666666666666666,
              "#ed7953"
             ],
             [
              0.7777777777777778,
              "#fb9f3a"
             ],
             [
              0.8888888888888888,
              "#fdca26"
             ],
             [
              1,
              "#f0f921"
             ]
            ],
            "type": "histogram2d"
           }
          ],
          "histogram2dcontour": [
           {
            "colorbar": {
             "outlinewidth": 0,
             "ticks": ""
            },
            "colorscale": [
             [
              0,
              "#0d0887"
             ],
             [
              0.1111111111111111,
              "#46039f"
             ],
             [
              0.2222222222222222,
              "#7201a8"
             ],
             [
              0.3333333333333333,
              "#9c179e"
             ],
             [
              0.4444444444444444,
              "#bd3786"
             ],
             [
              0.5555555555555556,
              "#d8576b"
             ],
             [
              0.6666666666666666,
              "#ed7953"
             ],
             [
              0.7777777777777778,
              "#fb9f3a"
             ],
             [
              0.8888888888888888,
              "#fdca26"
             ],
             [
              1,
              "#f0f921"
             ]
            ],
            "type": "histogram2dcontour"
           }
          ],
          "mesh3d": [
           {
            "colorbar": {
             "outlinewidth": 0,
             "ticks": ""
            },
            "type": "mesh3d"
           }
          ],
          "parcoords": [
           {
            "line": {
             "colorbar": {
              "outlinewidth": 0,
              "ticks": ""
             }
            },
            "type": "parcoords"
           }
          ],
          "pie": [
           {
            "automargin": true,
            "type": "pie"
           }
          ],
          "scatter": [
           {
            "fillpattern": {
             "fillmode": "overlay",
             "size": 10,
             "solidity": 0.2
            },
            "type": "scatter"
           }
          ],
          "scatter3d": [
           {
            "line": {
             "colorbar": {
              "outlinewidth": 0,
              "ticks": ""
             }
            },
            "marker": {
             "colorbar": {
              "outlinewidth": 0,
              "ticks": ""
             }
            },
            "type": "scatter3d"
           }
          ],
          "scattercarpet": [
           {
            "marker": {
             "colorbar": {
              "outlinewidth": 0,
              "ticks": ""
             }
            },
            "type": "scattercarpet"
           }
          ],
          "scattergeo": [
           {
            "marker": {
             "colorbar": {
              "outlinewidth": 0,
              "ticks": ""
             }
            },
            "type": "scattergeo"
           }
          ],
          "scattergl": [
           {
            "marker": {
             "colorbar": {
              "outlinewidth": 0,
              "ticks": ""
             }
            },
            "type": "scattergl"
           }
          ],
          "scattermapbox": [
           {
            "marker": {
             "colorbar": {
              "outlinewidth": 0,
              "ticks": ""
             }
            },
            "type": "scattermapbox"
           }
          ],
          "scatterpolar": [
           {
            "marker": {
             "colorbar": {
              "outlinewidth": 0,
              "ticks": ""
             }
            },
            "type": "scatterpolar"
           }
          ],
          "scatterpolargl": [
           {
            "marker": {
             "colorbar": {
              "outlinewidth": 0,
              "ticks": ""
             }
            },
            "type": "scatterpolargl"
           }
          ],
          "scatterternary": [
           {
            "marker": {
             "colorbar": {
              "outlinewidth": 0,
              "ticks": ""
             }
            },
            "type": "scatterternary"
           }
          ],
          "surface": [
           {
            "colorbar": {
             "outlinewidth": 0,
             "ticks": ""
            },
            "colorscale": [
             [
              0,
              "#0d0887"
             ],
             [
              0.1111111111111111,
              "#46039f"
             ],
             [
              0.2222222222222222,
              "#7201a8"
             ],
             [
              0.3333333333333333,
              "#9c179e"
             ],
             [
              0.4444444444444444,
              "#bd3786"
             ],
             [
              0.5555555555555556,
              "#d8576b"
             ],
             [
              0.6666666666666666,
              "#ed7953"
             ],
             [
              0.7777777777777778,
              "#fb9f3a"
             ],
             [
              0.8888888888888888,
              "#fdca26"
             ],
             [
              1,
              "#f0f921"
             ]
            ],
            "type": "surface"
           }
          ],
          "table": [
           {
            "cells": {
             "fill": {
              "color": "#EBF0F8"
             },
             "line": {
              "color": "white"
             }
            },
            "header": {
             "fill": {
              "color": "#C8D4E3"
             },
             "line": {
              "color": "white"
             }
            },
            "type": "table"
           }
          ]
         },
         "layout": {
          "annotationdefaults": {
           "arrowcolor": "#2a3f5f",
           "arrowhead": 0,
           "arrowwidth": 1
          },
          "autotypenumbers": "strict",
          "coloraxis": {
           "colorbar": {
            "outlinewidth": 0,
            "ticks": ""
           }
          },
          "colorscale": {
           "diverging": [
            [
             0,
             "#8e0152"
            ],
            [
             0.1,
             "#c51b7d"
            ],
            [
             0.2,
             "#de77ae"
            ],
            [
             0.3,
             "#f1b6da"
            ],
            [
             0.4,
             "#fde0ef"
            ],
            [
             0.5,
             "#f7f7f7"
            ],
            [
             0.6,
             "#e6f5d0"
            ],
            [
             0.7,
             "#b8e186"
            ],
            [
             0.8,
             "#7fbc41"
            ],
            [
             0.9,
             "#4d9221"
            ],
            [
             1,
             "#276419"
            ]
           ],
           "sequential": [
            [
             0,
             "#0d0887"
            ],
            [
             0.1111111111111111,
             "#46039f"
            ],
            [
             0.2222222222222222,
             "#7201a8"
            ],
            [
             0.3333333333333333,
             "#9c179e"
            ],
            [
             0.4444444444444444,
             "#bd3786"
            ],
            [
             0.5555555555555556,
             "#d8576b"
            ],
            [
             0.6666666666666666,
             "#ed7953"
            ],
            [
             0.7777777777777778,
             "#fb9f3a"
            ],
            [
             0.8888888888888888,
             "#fdca26"
            ],
            [
             1,
             "#f0f921"
            ]
           ],
           "sequentialminus": [
            [
             0,
             "#0d0887"
            ],
            [
             0.1111111111111111,
             "#46039f"
            ],
            [
             0.2222222222222222,
             "#7201a8"
            ],
            [
             0.3333333333333333,
             "#9c179e"
            ],
            [
             0.4444444444444444,
             "#bd3786"
            ],
            [
             0.5555555555555556,
             "#d8576b"
            ],
            [
             0.6666666666666666,
             "#ed7953"
            ],
            [
             0.7777777777777778,
             "#fb9f3a"
            ],
            [
             0.8888888888888888,
             "#fdca26"
            ],
            [
             1,
             "#f0f921"
            ]
           ]
          },
          "colorway": [
           "#636efa",
           "#EF553B",
           "#00cc96",
           "#ab63fa",
           "#FFA15A",
           "#19d3f3",
           "#FF6692",
           "#B6E880",
           "#FF97FF",
           "#FECB52"
          ],
          "font": {
           "color": "#2a3f5f"
          },
          "geo": {
           "bgcolor": "white",
           "lakecolor": "white",
           "landcolor": "#E5ECF6",
           "showlakes": true,
           "showland": true,
           "subunitcolor": "white"
          },
          "hoverlabel": {
           "align": "left"
          },
          "hovermode": "closest",
          "mapbox": {
           "style": "light"
          },
          "paper_bgcolor": "white",
          "plot_bgcolor": "#E5ECF6",
          "polar": {
           "angularaxis": {
            "gridcolor": "white",
            "linecolor": "white",
            "ticks": ""
           },
           "bgcolor": "#E5ECF6",
           "radialaxis": {
            "gridcolor": "white",
            "linecolor": "white",
            "ticks": ""
           }
          },
          "scene": {
           "xaxis": {
            "backgroundcolor": "#E5ECF6",
            "gridcolor": "white",
            "gridwidth": 2,
            "linecolor": "white",
            "showbackground": true,
            "ticks": "",
            "zerolinecolor": "white"
           },
           "yaxis": {
            "backgroundcolor": "#E5ECF6",
            "gridcolor": "white",
            "gridwidth": 2,
            "linecolor": "white",
            "showbackground": true,
            "ticks": "",
            "zerolinecolor": "white"
           },
           "zaxis": {
            "backgroundcolor": "#E5ECF6",
            "gridcolor": "white",
            "gridwidth": 2,
            "linecolor": "white",
            "showbackground": true,
            "ticks": "",
            "zerolinecolor": "white"
           }
          },
          "shapedefaults": {
           "line": {
            "color": "#2a3f5f"
           }
          },
          "ternary": {
           "aaxis": {
            "gridcolor": "white",
            "linecolor": "white",
            "ticks": ""
           },
           "baxis": {
            "gridcolor": "white",
            "linecolor": "white",
            "ticks": ""
           },
           "bgcolor": "#E5ECF6",
           "caxis": {
            "gridcolor": "white",
            "linecolor": "white",
            "ticks": ""
           }
          },
          "title": {
           "x": 0.05
          },
          "xaxis": {
           "automargin": true,
           "gridcolor": "white",
           "linecolor": "white",
           "ticks": "",
           "title": {
            "standoff": 15
           },
           "zerolinecolor": "white",
           "zerolinewidth": 2
          },
          "yaxis": {
           "automargin": true,
           "gridcolor": "white",
           "linecolor": "white",
           "ticks": "",
           "title": {
            "standoff": 15
           },
           "zerolinecolor": "white",
           "zerolinewidth": 2
          }
         }
        },
        "title": {
         "text": "Layoffs Across Industries",
         "x": 0.5
        },
        "xaxis": {
         "anchor": "y",
         "categoryarray": [
          "Retail",
          "Security",
          "Healthcare",
          "Energy",
          "Finance",
          "Product",
          "Consumer",
          "AI",
          "Transportation",
          "Education",
          "Travel",
          "Food",
          "HR",
          "Hardware",
          "Sales",
          "Data",
          "Other",
          "Crypto",
          "Logistics",
          "Unknown",
          "Marketing",
          "Real Estate",
          "Media",
          "Manufacturing",
          "Aerospace",
          "Infrastructure",
          "Support",
          "Recruiting",
          "Fitness",
          "Legal",
          "Construction"
         ],
         "categoryorder": "array",
         "domain": [
          0,
          1
         ],
         "title": {
          "text": "Industry"
         }
        },
        "yaxis": {
         "anchor": "x",
         "domain": [
          0,
          1
         ],
         "title": {
          "text": "Layoffs"
         }
        }
       }
      }
     },
     "metadata": {},
     "output_type": "display_data"
    }
   ],
   "source": [
    "fig_industries_box = px.box(\n",
    "    clean_df, \n",
    "    x = 'Industry', \n",
    "    y = 'Layoffs',\n",
    "    title = 'Layoffs Across Industries',\n",
    "    color = 'Industry'\n",
    ")\n",
    "\n",
    "fig_industries_box.update_layout(title_x = 0.5)\n",
    "fig_industries_box.show()"
   ]
  },
  {
   "cell_type": "code",
   "execution_count": 17,
   "id": "0e43c653-dd3c-41bb-8bcf-3498c106c55d",
   "metadata": {},
   "outputs": [
    {
     "name": "stderr",
     "output_type": "stream",
     "text": [
      "c:\\Users\\salun\\AppData\\Local\\Programs\\Python\\Python310\\lib\\site-packages\\plotly\\express\\_core.py:2065: FutureWarning:\n",
      "\n",
      "When grouping with a length-1 list-like, you will need to pass a length-1 tuple to get_group in a future version of pandas. Pass `(name,)` instead of `name` to silence this warning.\n",
      "\n"
     ]
    },
    {
     "data": {
      "application/vnd.plotly.v1+json": {
       "config": {
        "plotlyServerURL": "https://plot.ly"
       },
       "data": [
        {
         "hovertemplate": "<b>%{hovertext}</b><br><br>Industry=Retail<br>Funds Raised in Millions=%{x}<br>Layoffs=%{y}<extra></extra>",
         "hovertext": [
          "Trigo",
          "Etsy",
          "ManoMano",
          "Hodinkee",
          "Omuni",
          "Copia",
          "Artsy",
          "Away",
          "Redbubble",
          "Meesho",
          "Karma",
          "Airtasker",
          "Livspace",
          "Leafly",
          "Dukaan",
          "Boxed",
          "Fetch",
          "The RealReal",
          "Chrono24",
          "DealShare",
          "Enjoei",
          "Saks.com",
          "Cart.com",
          "Moglix",
          "Everlane",
          "UpScalio",
          "Back Market",
          "BigCommerce",
          "Carousell",
          "Ula",
          "Thread",
          "Lyst",
          "SIRCLO",
          "Trax",
          "Salsify",
          "Leafly",
          "Pomelo Fashion",
          "Packable",
          "Marketforce",
          "MadeiraMadeira",
          "Shogun",
          "Mejuri",
          "Glossier",
          "Heroes",
          "Involves",
          "Syte",
          "Enjoy",
          "Nate",
          "StockX",
          "Trax",
          "Bonsai",
          "CityMall",
          "Swappie",
          "Berlin Brands Group",
          "Stitch Fix",
          "Boozt",
          "iPrice Group",
          "VTEX",
          "AliExpress Russia",
          "Bonsai",
          "Facily",
          "Trell",
          "Worksmith",
          "Glossier",
          "Zilingo",
          "Branch",
          "The Sill",
          "Trax",
          "Shipsi",
          "StockX",
          "Casper",
          "Zilingo",
          "Shop101",
          "The RealReal",
          "Mejuri",
          "Meesho",
          "Ibotta",
          "Away",
          "Minted",
          "Salsify",
          "1stdibs",
          "ThirdLove",
          "B8ta",
          "GoSpotCheck",
          "Leafly",
          "Tamara Mellon"
         ],
         "legendgroup": "Retail",
         "marker": {
          "color": "#636efa",
          "line": {
           "color": "#B64FDA",
           "width": 1
          },
          "symbol": "circle"
         },
         "mode": "markers",
         "name": "Retail",
         "showlegend": true,
         "type": "scattergl",
         "x": [
          199,
          97,
          705,
          40,
          10,
          103,
          100,
          181,
          55,
          1100,
          34,
          26,
          431,
          71,
          17,
          365,
          581,
          356,
          205,
          390,
          14,
          965,
          383,
          472,
          176,
          62,
          1000,
          224,
          372,
          140,
          40,
          144,
          92,
          1000,
          452,
          71,
          120,
          472,
          42,
          338,
          114,
          28,
          266,
          265,
          23,
          71,
          310,
          47,
          690,
          1000,
          27,
          112,
          169,
          1000,
          79,
          56,
          26,
          365,
          60,
          27,
          502,
          62,
          3.8,
          186.4,
          307,
          2,
          7,
          386,
          2,
          160,
          339,
          307,
          19,
          358,
          28,
          215,
          85,
          181,
          297,
          97,
          253,
          68,
          88,
          47,
          2,
          90
         ],
         "xaxis": "x",
         "y": [
          30,
          225,
          230,
          24,
          60,
          350,
          35,
          22,
          70,
          251,
          20,
          45,
          100,
          40,
          56,
          32,
          100,
          230,
          65,
          100,
          31,
          100,
          25,
          40,
          30,
          25,
          93,
          180,
          110,
          134,
          30,
          50,
          160,
          80,
          90,
          56,
          55,
          138,
          54,
          60,
          48,
          50,
          19,
          24,
          70,
          13,
          400,
          30,
          120,
          100,
          30,
          191,
          250,
          100,
          330,
          70,
          50,
          200,
          400,
          29,
          260,
          300,
          30,
          150,
          100,
          3,
          20,
          120,
          20,
          100,
          78,
          44,
          200,
          235,
          36,
          200,
          87,
          60,
          147,
          60,
          70,
          65,
          250,
          23,
          91,
          20
         ],
         "yaxis": "y"
        },
        {
         "hovertemplate": "<b>%{hovertext}</b><br><br>Industry=Security<br>Funds Raised in Millions=%{x}<br>Layoffs=%{y}<extra></extra>",
         "hovertext": [
          "Orca Security",
          "At-Bay",
          "Veriff",
          "SecureWorks",
          "Kape Technologies",
          "Deep Instict",
          "Deepwatch",
          "Expel",
          "Dragos",
          "Akamai",
          "Sonatype",
          "Bishop Fox",
          "Zscaler",
          "Stytch",
          "Veriff",
          "SecureWorks",
          "AU10TIX",
          "Ermetic",
          "Jumpcloud",
          "Jumio",
          "ForeScout",
          "CyCognito",
          "Armis",
          "Perimeter 81",
          "Aqua Security",
          "OwnBackup",
          "Varonis",
          "Checkmarx",
          "Cybereason",
          "Snyk",
          "InfoSum",
          "Truiloo",
          "Immersive Labs",
          "NSO",
          "Tufin",
          "Malwarebytes",
          "Latch",
          "Transmit Security",
          "Aura",
          "Pipl",
          "IronNet",
          "IronNet",
          "Finite State",
          "Cybereason",
          "Latch",
          "Latch",
          "Lastline",
          "Veriff",
          "Tor",
          "Aqua Security"
         ],
         "legendgroup": "Security",
         "marker": {
          "color": "#EF553B",
          "line": {
           "color": "#B64FDA",
           "width": 1
          },
          "symbol": "circle"
         },
         "mode": "markers",
         "name": "Security",
         "showlegend": true,
         "type": "scattergl",
         "x": [
          632,
          296,
          192,
          83,
          188,
          322,
          256,
          288,
          364,
          35,
          154,
          146,
          148,
          126,
          192,
          83,
          80,
          97,
          416,
          205,
          125,
          153,
          537,
          165,
          265,
          507,
          30,
          92,
          750,
          849,
          88,
          474,
          123,
          1,
          21,
          80,
          342,
          583,
          500,
          19,
          410,
          410,
          49,
          750,
          342,
          342,
          52,
          7,
          1,
          100
         ],
         "xaxis": "x",
         "y": [
          60,
          27,
          101,
          300,
          200,
          46,
          30,
          60,
          50,
          290,
          100,
          50,
          177,
          19,
          66,
          212,
          19,
          30,
          100,
          100,
          100,
          30,
          25,
          20,
          65,
          170,
          110,
          100,
          200,
          198,
          20,
          24,
          38,
          100,
          55,
          125,
          115,
          27,
          70,
          22,
          90,
          55,
          16,
          100,
          130,
          30,
          50,
          63,
          13,
          24
         ],
         "yaxis": "y"
        },
        {
         "hovertemplate": "<b>%{hovertext}</b><br><br>Industry=Healthcare<br>Funds Raised in Millions=%{x}<br>Layoffs=%{y}<extra></extra>",
         "hovertext": [
          "InSightec",
          "Nomad Health",
          "Carbon Health",
          "Absci",
          "Kenko Health",
          "Huma",
          "Kenko Health",
          "Doximity",
          "23andMe",
          "TytoCare",
          "Headspace",
          "CareRev",
          "23andMe",
          "Cityblock Health",
          "Twist Bioscience",
          "Healthy.io",
          "Cue Health",
          "Examedi",
          "iCAD",
          "Pristyn Care",
          "Cerebral",
          "Olive AI",
          "Beam Benefits",
          "Wheel",
          "Guardant Health",
          "Innovaccer",
          "MediBuddy",
          "Teladoc Health",
          "Clue",
          "Akili Labs",
          "Headspace",
          "Komodo Health",
          "Alice",
          "Synthego",
          "Pear Therapeutics",
          "Pear Therapeutics",
          "Plum",
          "Repertoire Immune Medicines",
          "Kry",
          "Cerebral",
          "OrCam",
          "Antidote Health",
          "Synapsica",
          "Redesign Health",
          "BioMarin",
          "Vesalius Therapeutics",
          "Brave Care",
          "Innovaccer",
          "GoodRx",
          "TCR2",
          "54gene",
          "Wheel",
          "AlayaCare",
          "Sema4",
          "ContraFect",
          "Truepill",
          "Calm",
          "Quanterix",
          "10X Genomics",
          "Pear Therapeutics ",
          "Eucalyptus",
          "Clarify Health",
          "RealSelf",
          "Calibrate",
          "Sidecar Health",
          "Vezeeta",
          "HealthMatch",
          "Sami",
          "Breathe",
          "Sanar",
          "Truepill",
          "Carbon Health",
          "Kry",
          "Adaptive Biotechnologies",
          "Alto Pharmacy",
          "Redox",
          "Welkin Health",
          "RealSelf",
          "Komodo Health",
          "Forward",
          "Sage Therapeutics",
          "Opencare",
          "PatientPop",
          "Incredible Health"
         ],
         "legendgroup": "Healthcare",
         "marker": {
          "color": "#00cc96",
          "line": {
           "color": "#B64FDA",
           "width": 1
          },
          "symbol": "circle"
         },
         "mode": "markers",
         "name": "Healthcare",
         "showlegend": true,
         "type": "scattergl",
         "x": [
          733,
          218,
          522,
          238,
          14,
          217,
          14,
          82,
          1100,
          156,
          216,
          51,
          1100,
          891,
          503,
          185,
          899,
          19,
          59,
          177,
          462,
          856,
          168,
          215,
          550,
          379,
          192,
          172,
          47,
          301,
          215,
          514,
          174,
          459,
          409,
          409,
          20,
          257,
          568,
          462,
          86,
          36,
          4,
          315,
          585,
          75,
          42,
          379,
          910,
          173,
          44,
          215,
          293,
          791,
          380,
          255,
          218,
          533,
          242,
          409,
          69,
          328,
          42,
          127,
          163,
          71,
          20,
          36,
          6,
          11,
          255,
          522,
          568,
          406,
          356,
          50,
          29,
          42,
          50,
          100,
          438,
          24,
          75,
          15
         ],
         "xaxis": "x",
         "y": [
          100,
          119,
          114,
          30,
          50,
          45,
          50,
          100,
          71,
          20,
          181,
          100,
          75,
          155,
          270,
          70,
          326,
          45,
          23,
          300,
          285,
          215,
          31,
          56,
          130,
          245,
          200,
          300,
          31,
          46,
          50,
          78,
          113,
          105,
          59,
          59,
          36,
          65,
          300,
          400,
          62,
          23,
          30,
          67,
          120,
          29,
          40,
          90,
          140,
          30,
          95,
          35,
          80,
          250,
          16,
          175,
          90,
          130,
          100,
          25,
          50,
          15,
          11,
          156,
          110,
          50,
          18,
          75,
          50,
          60,
          150,
          250,
          100,
          100,
          47,
          44,
          10,
          40,
          23,
          10,
          340,
          18,
          100,
          9
         ],
         "yaxis": "y"
        },
        {
         "hovertemplate": "<b>%{hovertext}</b><br><br>Industry=Energy<br>Funds Raised in Millions=%{x}<br>Layoffs=%{y}<extra></extra>",
         "hovertext": [
          "Enphase Energy",
          "Nori",
          "Brighte",
          "RigUp",
          "Ecobee"
         ],
         "legendgroup": "Energy",
         "marker": {
          "color": "#ab63fa",
          "line": {
           "color": "#B64FDA",
           "width": 1
          },
          "symbol": "circle"
         },
         "mode": "markers",
         "name": "Energy",
         "showlegend": true,
         "type": "scattergl",
         "x": [
          116,
          13,
          145,
          423,
          149
         ],
         "xaxis": "x",
         "y": [
          350,
          10,
          30,
          120,
          47
         ],
         "yaxis": "y"
        },
        {
         "hovertemplate": "<b>%{hovertext}</b><br><br>Industry=Finance<br>Funds Raised in Millions=%{x}<br>Layoffs=%{y}<extra></extra>",
         "hovertext": [
          "Chipper Cash",
          "Zepz",
          "C2FO",
          "Lending Club",
          "InvestCloud",
          "Synapse",
          "Cowbell",
          "Fi.Money",
          "Chargebee",
          "BlackLine",
          "Blend",
          "AgentSync",
          "Tilia",
          "Zip",
          "Pilot",
          "GoCardless",
          "Taxfix",
          "Pie Insurance",
          "Stash",
          "Lemonade",
          "Happay",
          "Earnix",
          "Tickertape",
          "Teampay",
          "Rapid",
          "Rapid",
          "Clearcover",
          "Drip Capital",
          "Simpl",
          "ZestMoney",
          "Boost",
          "Guideline",
          "Loop",
          "FreshBooks",
          "Smallcase",
          "TradeWindow",
          "Kaleidoscope",
          "Amount",
          "Chipper Cash",
          "Neon",
          "Oportun",
          "Equitybee",
          "Lightico",
          "Upstart",
          "Pagaya",
          "nCino",
          "Addepar",
          "ClearCo",
          "Lending Club",
          "Pier",
          "Greenlight",
          "Tipalti",
          "Blend",
          "Socure",
          "Briza",
          "Tomorrow",
          "Primer",
          "C2FO",
          "BlackLine",
          "Plaid",
          "Lithic",
          "Chipper Cash",
          "Stash",
          "DataRails",
          "Polly",
          "Happy Money",
          "Ualá",
          "Ajaib",
          "Juni",
          "Capitolis",
          "Koho",
          "Blend",
          "Root Insurance",
          "Dock",
          "KoinWorks",
          "Pleo",
          "Chargebee",
          "Smava",
          "Upstart",
          "EquityZen",
          "Equitybee",
          "Recharge",
          "Fundbox",
          "Embroker",
          "Elinvar",
          "AtoB",
          "Moss",
          "Clear",
          "TrueLayer",
          "Kuda",
          "Smava",
          "Argyle",
          "Loop",
          "Blend",
          "Doma",
          "Hash",
          "Clearco",
          "Metromile",
          "InDebted",
          "Quanto",
          "Bright Money",
          "Zego",
          "Wave",
          "Next Insurance",
          "eToro",
          "Thimble",
          "Stash Financial",
          "Finleap Connect",
          "Sunday",
          "Bestow",
          "Ethos Life",
          "Vouch",
          "Ebanx",
          "Socure",
          "Wealthsimple",
          "Freetrade",
          "Albert",
          "Stashaway",
          "Rupeek",
          "PolicyGenius",
          "Curve",
          "Tomo",
          "SumUp",
          "Uncapped",
          "Kontist",
          "Nuri",
          "Coterie Insurance",
          "Doma",
          "Mainstreet",
          "Blend",
          "Aya",
          "GoBear",
          "Lighter Capital",
          "Navi",
          "SynapseFI",
          "Ethos Life",
          "Monzo",
          "Credit Sesame",
          "Fundbox",
          "Brex",
          "Ebanx",
          "Kickstarter",
          "Revolut",
          "N26",
          "Numbrs",
          "Flywire",
          "Tally",
          "Oriente",
          "PayJoy",
          "Lighter Capital",
          "Freshbooks",
          "Kueski",
          "Funding Societies",
          "Carta",
          "Neon",
          "Clearbanc",
          "Omie",
          "Unison",
          "Metromile",
          "Borrowell",
          "Jetty",
          "Instamojo",
          "Earnin",
          "Acko",
          "Sensibill",
          "PeerStreet",
          "Mogo",
          "Bench",
          "Ladder Life"
         ],
         "legendgroup": "Finance",
         "marker": {
          "color": "#FFA15A",
          "line": {
           "color": "#B64FDA",
           "width": 1
          },
          "symbol": "circle"
         },
         "mode": "markers",
         "name": "Finance",
         "showlegend": true,
         "type": "scattergl",
         "x": [
          302,
          700,
          537,
          392,
          54,
          50,
          123,
          137,
          468,
          220,
          665,
          111,
          32,
          896,
          116,
          529,
          330,
          621,
          480,
          481,
          21,
          100,
          5,
          79,
          272,
          272,
          304,
          85,
          71,
          120,
          37,
          339,
          24,
          331,
          62,
          24,
          16,
          283,
          302,
          720,
          566,
          85,
          42,
          144,
          571,
          1100,
          491,
          698,
          392,
          42,
          556,
          565,
          665,
          646,
          10,
          29,
          73,
          537,
          220,
          734,
          115,
          302,
          480,
          103,
          184,
          191,
          544,
          245,
          281,
          281,
          278,
          665,
          527,
          280,
          180,
          428,
          468,
          188,
          144,
          11,
          85,
          277,
          553,
          142,
          30,
          177,
          150,
          140,
          271,
          91,
          188,
          78,
          24,
          665,
          679,
          58,
          681,
          510,
          41,
          15,
          31,
          202,
          292,
          881,
          322,
          28,
          480,
          22,
          124,
          137,
          406,
          159,
          460,
          646,
          900,
          133,
          175,
          61,
          172,
          286,
          182,
          110,
          50,
          118,
          53,
          42,
          70,
          679,
          64,
          665,
          3,
          97,
          15,
          582,
          50,
          106,
          324,
          120,
          453,
          732,
          30,
          10,
          837,
          782,
          78,
          263,
          92,
          175,
          71,
          15,
          75,
          38,
          42,
          447,
          120,
          119,
          26,
          40,
          293,
          72,
          40,
          8,
          190,
          143,
          50,
          110,
          201,
          49,
          94
         ],
         "xaxis": "x",
         "y": [
          15,
          30,
          80,
          172,
          80,
          86,
          28,
          30,
          100,
          95,
          150,
          67,
          28,
          300,
          45,
          150,
          120,
          63,
          40,
          45,
          160,
          30,
          29,
          30,
          115,
          70,
          81,
          75,
          150,
          100,
          15,
          48,
          19,
          80,
          15,
          25,
          15,
          130,
          100,
          210,
          155,
          24,
          20,
          365,
          140,
          100,
          20,
          50,
          225,
          111,
          104,
          123,
          340,
          104,
          26,
          30,
          85,
          20,
          95,
          260,
          27,
          50,
          32,
          30,
          47,
          158,
          53,
          67,
          72,
          37,
          15,
          100,
          137,
          190,
          70,
          150,
          142,
          100,
          140,
          30,
          25,
          84,
          150,
          30,
          43,
          32,
          70,
          190,
          40,
          23,
          100,
          20,
          15,
          220,
          250,
          58,
          125,
          60,
          40,
          28,
          100,
          85,
          300,
          150,
          100,
          20,
          40,
          14,
          90,
          41,
          40,
          15,
          340,
          69,
          159,
          45,
          20,
          31,
          180,
          170,
          65,
          44,
          100,
          29,
          50,
          45,
          30,
          310,
          45,
          200,
          5,
          22,
          22,
          40,
          63,
          18,
          120,
          22,
          14,
          62,
          62,
          25,
          60,
          9,
          62,
          60,
          28,
          400,
          27,
          18,
          38,
          90,
          65,
          161,
          70,
          17,
          136,
          89,
          100,
          15,
          35,
          6,
          50,
          45,
          17,
          51,
          78,
          47,
          13
         ],
         "yaxis": "y"
        },
        {
         "hovertemplate": "<b>%{hovertext}</b><br><br>Industry=Product<br>Funds Raised in Millions=%{x}<br>Layoffs=%{y}<extra></extra>",
         "hovertext": [
          "Incredibuild",
          "Zeplin",
          "Pendo",
          "GitLab",
          "Gitpod",
          "Xentral",
          "Netlify",
          "Loom",
          "Pendo",
          "Nylas",
          "Stedi",
          "Bryter",
          "Stream",
          "Sourcegraph",
          "Loom",
          "Mural",
          "Builder",
          "Glitch",
          "Jama"
         ],
         "legendgroup": "Product",
         "marker": {
          "color": "#19d3f3",
          "line": {
           "color": "#B64FDA",
           "width": 1
          },
          "symbol": "circle"
         },
         "mode": "markers",
         "name": "Product",
         "showlegend": true,
         "type": "scattergl",
         "x": [
          35,
          1,
          469,
          413,
          41,
          94,
          212,
          203,
          469,
          175,
          75,
          89,
          58,
          248,
          203,
          192,
          29,
          30,
          233
         ],
         "xaxis": "x",
         "y": [
          40,
          37,
          100,
          130,
          21,
          20,
          48,
          23,
          45,
          80,
          23,
          100,
          20,
          24,
          34,
          90,
          39,
          18,
          12
         ],
         "yaxis": "y"
        },
        {
         "hovertemplate": "<b>%{hovertext}</b><br><br>Industry=Consumer<br>Funds Raised in Millions=%{x}<br>Layoffs=%{y}<extra></extra>",
         "hovertext": [
          "Loco",
          "Discord",
          "Sonos",
          "Linktree",
          "Koo",
          "Eventbrite",
          "iRobot",
          "DraftKings",
          "Tilting Point",
          "Thumbtack",
          "Houzz",
          "Wildlife Studios",
          "Kabam",
          "Linktree",
          "iRobot",
          "Jam City",
          "Lightricks",
          "Niantic",
          "Superhuman",
          "Gather",
          "IRL",
          "Mobile Premier League",
          "Airtime",
          "Skillz",
          "Picsart",
          "Cameo",
          "Xiaohongshu",
          "Glossier",
          "Mozilla",
          "Sonos",
          "BookMyShow",
          "Jiobit",
          "Houzz",
          "GoPro",
          "VSCO",
          "GetNinjas",
          "Iflix",
          "Rover",
          "Thumbtack"
         ],
         "legendgroup": "Consumer",
         "marker": {
          "color": "#FF6692",
          "line": {
           "color": "#B64FDA",
           "width": 1
          },
          "symbol": "circle"
         },
         "mode": "markers",
         "name": "Consumer",
         "showlegend": true,
         "type": "scattergl",
         "x": [
          52,
          995,
          455.2,
          165,
          50,
          557,
          30,
          719,
          235,
          698,
          613,
          260,
          244,
          165,
          30,
          652,
          335,
          770,
          108,
          76,
          197,
          375,
          33,
          287,
          195,
          165,
          917,
          266,
          2.3,
          455.2,
          224,
          12,
          613,
          288,
          90,
          16,
          348,
          310,
          423
         ],
         "xaxis": "x",
         "y": [
          40,
          37,
          130,
          60,
          78,
          80,
          85,
          140,
          60,
          160,
          95,
          300,
          35,
          50,
          140,
          200,
          80,
          85,
          23,
          30,
          25,
          100,
          30,
          70,
          90,
          87,
          180,
          80,
          250,
          174,
          270,
          6,
          155,
          200,
          45,
          11,
          50,
          194,
          250
         ],
         "yaxis": "y"
        },
        {
         "hovertemplate": "<b>%{hovertext}</b><br><br>Industry=AI<br>Funds Raised in Millions=%{x}<br>Layoffs=%{y}<extra></extra>",
         "hovertext": [
          "Dataminr",
          "Deepgram"
         ],
         "legendgroup": "AI",
         "marker": {
          "color": "#B6E880",
          "line": {
           "color": "#B64FDA",
           "width": 1
          },
          "symbol": "circle"
         },
         "mode": "markers",
         "name": "AI",
         "showlegend": true,
         "type": "scattergl",
         "x": [
          1100,
          86
         ],
         "xaxis": "x",
         "y": [
          150,
          20
         ],
         "yaxis": "y"
        },
        {
         "hovertemplate": "<b>%{hovertext}</b><br><br>Industry=Transportation<br>Funds Raised in Millions=%{x}<br>Layoffs=%{y}<extra></extra>",
         "hovertext": [
          "Our Next Energy",
          "Nexar",
          "Spinny",
          "Eroad",
          "TrueCar",
          "Zoomo",
          "AEye",
          "Wejo",
          "Moladin",
          "REE Automotive",
          "Tier Mobility",
          "Bounce",
          "TuSimple",
          "Buser",
          "Otonomo",
          "Motive",
          "Voi",
          "Carwow",
          "Zoomo",
          "Spin",
          "99",
          "Tier Mobility",
          "Rad Power Bikes",
          "Canoo",
          "Clutch",
          "Oye Rickshaw",
          "Baton",
          "Superpedestrian",
          "Voi",
          "Bird",
          "SWVL",
          "Rad Power Bikes",
          "Virgin Hyperloop",
          "Bounce",
          "Waze",
          "Bounce",
          "SpotHero",
          "TrueCar",
          "Ridecell",
          "Lime",
          "Divergent 3D",
          "Ike",
          "CarGurus",
          "Kodiak Robotics",
          "Zoox",
          "Scoop",
          "BusBud",
          "Turo",
          "Bird",
          "Getaround",
          "Zipcar",
          "HopSkipDrive"
         ],
         "legendgroup": "Transportation",
         "marker": {
          "color": "#FF97FF",
          "line": {
           "color": "#B64FDA",
           "width": 1
          },
          "symbol": "circle"
         },
         "mode": "markers",
         "name": "Transportation",
         "showlegend": true,
         "type": "scattergl",
         "x": [
          390,
          149,
          513,
          46,
          340,
          105,
          314,
          376,
          138,
          317,
          646,
          214,
          648,
          138,
          231,
          567,
          515,
          157,
          105,
          8,
          244,
          646,
          329,
          300,
          153,
          13,
          13,
          261,
          515,
          783,
          132,
          329,
          368,
          214.2,
          67,
          214.2,
          117,
          340,
          73,
          765,
          88,
          52,
          1,
          40,
          955,
          95,
          21,
          467,
          623,
          403,
          107,
          45
         ],
         "xaxis": "x",
         "y": [
          128,
          17,
          300,
          200,
          102,
          27,
          46,
          40,
          360,
          31,
          80,
          40,
          350,
          160,
          80,
          237,
          130,
          70,
          65,
          78,
          75,
          180,
          63,
          58,
          76,
          40,
          16,
          35,
          35,
          138,
          400,
          100,
          111,
          200,
          30,
          130,
          40,
          219,
          35,
          80,
          57,
          10,
          130,
          15,
          100,
          92,
          23,
          108,
          406,
          100,
          100,
          8
         ],
         "yaxis": "y"
        },
        {
         "hovertemplate": "<b>%{hovertext}</b><br><br>Industry=Education<br>Funds Raised in Millions=%{x}<br>Layoffs=%{y}<extra></extra>",
         "hovertext": [
          "Physics Wallah",
          "SchoolMint",
          "Paper",
          "Top Hat",
          "Paper",
          "Chegg",
          "Trybe",
          "Guild",
          "Paper",
          "Domestika",
          "Course Hero",
          "LearnUpon",
          "Thinkific",
          "Pluralsight",
          "Outschool",
          "Teachmint",
          "ApplyBoard",
          "Unacademy",
          "Udacity",
          "Trybe",
          "LEAD",
          "On Deck",
          "Career Karma",
          "Outschool",
          "MasterClass",
          "Unacademy",
          "Studio",
          "Preply",
          "BookClub",
          "FrontRow",
          "Vedantu",
          "On Deck",
          "Domestika",
          "Thinkific",
          "Flockjay",
          "Instructure",
          "Top Hat",
          "ContaAzul",
          "Coding Dojo"
         ],
         "legendgroup": "Education",
         "marker": {
          "color": "#FECB52",
          "line": {
           "color": "#B64FDA",
           "width": 1
          },
          "symbol": "circle"
         },
         "mode": "markers",
         "name": "Education",
         "showlegend": true,
         "type": "scattergl",
         "x": [
          100,
          8,
          389,
          234,
          389,
          227,
          40,
          643,
          389,
          130,
          477,
          56,
          22,
          192,
          240,
          118,
          483,
          838,
          235,
          40,
          166,
          20,
          51,
          240,
          461,
          838,
          50,
          100,
          26,
          17,
          292,
          20,
          130,
          22,
          14,
          89,
          104,
          37,
          2
         ],
         "xaxis": "x",
         "y": [
          120,
          29,
          87,
          42,
          106,
          80,
          128,
          172,
          81,
          89,
          42,
          27,
          76,
          400,
          43,
          45,
          90,
          350,
          55,
          47,
          80,
          73,
          60,
          31,
          120,
          150,
          33,
          26,
          12,
          145,
          200,
          72,
          150,
          100,
          37,
          150,
          16,
          140,
          7
         ],
         "yaxis": "y"
        },
        {
         "hovertemplate": "<b>%{hovertext}</b><br><br>Industry=Travel<br>Funds Raised in Millions=%{x}<br>Layoffs=%{y}<extra></extra>",
         "hovertext": [
          "TripAdvisor",
          "Hopper",
          "Evolve",
          "Inspirato",
          "Evolve",
          "Sonder",
          "Inspirato",
          "AvantStay",
          "Sonder",
          "Impala",
          "Pollen",
          "GetYourGuide",
          "MakeMyTrip",
          "Skyscanner",
          "MakeMyTrip",
          "PickYourTrail",
          "Pollen",
          "Kayak / OpenTable",
          "Horizn Studios",
          "Klook",
          "Frontdesk",
          "FabHotels",
          "TravelTriangle",
          "TripActions",
          "WanderJaunt",
          "Sonder",
          "The Guild",
          "Remote Year",
          "Inspirato"
         ],
         "legendgroup": "Travel",
         "marker": {
          "color": "#636efa",
          "line": {
           "color": "#B64FDA",
           "width": 1
          },
          "symbol": "circle"
         },
         "mode": "markers",
         "name": "Travel",
         "showlegend": true,
         "type": "scattergl",
         "x": [
          3,
          730,
          224,
          179,
          224,
          839,
          179,
          686,
          839,
          32,
          238,
          656,
          548,
          197.2,
          548,
          3,
          88,
          229,
          30,
          521,
          3,
          48,
          47,
          981,
          26,
          359,
          36,
          17,
          79
         ],
         "xaxis": "x",
         "y": [
          125,
          250,
          175,
          50,
          164,
          100,
          109,
          144,
          250,
          30,
          200,
          90,
          350,
          300,
          350,
          70,
          69,
          160,
          15,
          300,
          35,
          80,
          250,
          300,
          56,
          400,
          38,
          50,
          130
         ],
         "yaxis": "y"
        },
        {
         "hovertemplate": "<b>%{hovertext}</b><br><br>Industry=Food<br>Funds Raised in Millions=%{x}<br>Layoffs=%{y}<extra></extra>",
         "hovertext": [
          "Beyond Meat",
          "Dunzo",
          "7shifts",
          "Grabango",
          "Twiga",
          "WayCool",
          "Perfect Day",
          "Ritual",
          "Olo",
          "Grubhub",
          "Flink",
          "Cornershop",
          "Ynsect",
          "Dunzo",
          "BharatAgri",
          "Chope",
          "ChowNow",
          "Wonder",
          "Vendease",
          "Kitopi",
          "Zomato",
          "Twiga",
          "Iron Ox",
          "Oda",
          "Oda",
          "Oda",
          "Beyond Meat",
          "Beyond Meat",
          "Foxtrot",
          "Beyond Meat",
          "Lunchbox",
          "ChowNow",
          "Ritual",
          "Aqgromalin",
          "JOKR",
          "Weee!",
          "Food52",
          "Zak",
          "Food52",
          "Liv Up",
          "Daily Harvest",
          "Quandoo",
          "Postmates",
          "Thriver",
          "Sweetgreen",
          "TouchBistro",
          "Spyce",
          "ezCater",
          "Ritual",
          "Synergysuite",
          "Iris Nova",
          "Bevi"
         ],
         "legendgroup": "Food",
         "marker": {
          "color": "#EF553B",
          "line": {
           "color": "#B64FDA",
           "width": 1
          },
          "symbol": "circle"
         },
         "mode": "markers",
         "name": "Food",
         "showlegend": true,
         "type": "scattergl",
         "x": [
          122,
          458,
          131,
          94,
          157,
          363,
          711,
          134,
          184,
          284,
          1000,
          31,
          579,
          382,
          21,
          50,
          64,
          850,
          43,
          804,
          914,
          157,
          103,
          377,
          477,
          479,
          122,
          122,
          166,
          122,
          72,
          64,
          134,
          12,
          430,
          863,
          176,
          29,
          176,
          118,
          120,
          39,
          763,
          53,
          478,
          224,
          26,
          319,
          112,
          6,
          15,
          60
         ],
         "xaxis": "x",
         "y": [
          65,
          150,
          30,
          34,
          283,
          300,
          134,
          38,
          81,
          400,
          100,
          250,
          17,
          300,
          40,
          65,
          40,
          130,
          27,
          93,
          100,
          211,
          50,
          70,
          70,
          70,
          200,
          200,
          26,
          40,
          60,
          100,
          23,
          80,
          50,
          150,
          21,
          100,
          20,
          100,
          60,
          87,
          180,
          75,
          35,
          131,
          4,
          400,
          196,
          5,
          9,
          30
         ],
         "yaxis": "y"
        },
        {
         "hovertemplate": "<b>%{hovertext}</b><br><br>Industry=HR<br>Funds Raised in Millions=%{x}<br>Layoffs=%{y}<extra></extra>",
         "hovertext": [
          "Sana Benefits",
          "Atlas",
          "BetterUp",
          "Gupy",
          "PayScale",
          "Gloat",
          "Culture Amp",
          "Glassdoor",
          "Workhuman",
          "PayFit",
          "Gusto",
          "Eightfold AI",
          "Lattice",
          "Workmotion",
          "Glints",
          "Vee",
          "WorkRamp",
          "Compete",
          "Skedulo",
          "Plato",
          "Woven",
          "Vee",
          "The Mom Project",
          "Remote",
          "Checkr",
          "Culture Amp",
          "Lattice",
          "Deputy",
          "Namely",
          "Zenefits",
          "When I Work",
          "Parsable",
          "Envoy",
          "PerkSpot",
          "The Predictive Index",
          "Dynamic Signal",
          "Hibob"
         ],
         "legendgroup": "HR",
         "marker": {
          "color": "#00cc96",
          "line": {
           "color": "#B64FDA",
           "width": 1
          },
          "symbol": "circle"
         },
         "mode": "markers",
         "name": "HR",
         "showlegend": true,
         "type": "scattergl",
         "x": [
          106,
          220,
          567,
          105,
          33,
          192,
          257,
          204,
          131,
          495,
          746,
          396,
          328,
          76,
          82,
          15,
          67,
          17,
          114,
          3,
          11,
          15,
          115,
          496,
          309,
          157,
          49,
          106,
          217,
          583,
          24,
          72,
          59,
          50,
          65,
          114,
          45
         ],
         "xaxis": "x",
         "y": [
          73,
          150,
          100,
          58,
          14,
          35,
          90,
          140,
          130,
          200,
          126,
          90,
          105,
          60,
          198,
          17,
          35,
          11,
          31,
          29,
          5,
          16,
          54,
          100,
          64,
          36,
          16,
          60,
          110,
          87,
          55,
          40,
          58,
          10,
          59,
          35,
          70
         ],
         "yaxis": "y"
        },
        {
         "hovertemplate": "<b>%{hovertext}</b><br><br>Industry=Hardware<br>Funds Raised in Millions=%{x}<br>Layoffs=%{y}<extra></extra>",
         "hovertext": [
          "SiFive",
          "Western Digital",
          "Avidbots",
          "Twine Solutions "
         ],
         "legendgroup": "Hardware",
         "marker": {
          "color": "#ab63fa",
          "line": {
           "color": "#B64FDA",
           "width": 1
          },
          "symbol": "circle"
         },
         "mode": "markers",
         "name": "Hardware",
         "showlegend": true,
         "type": "scattergl",
         "x": [
          365,
          900,
          106,
          50
         ],
         "xaxis": "x",
         "y": [
          130,
          60,
          50,
          30
         ],
         "yaxis": "y"
        },
        {
         "hovertemplate": "<b>%{hovertext}</b><br><br>Industry=Sales<br>Funds Raised in Millions=%{x}<br>Layoffs=%{y}<extra></extra>",
         "hovertext": [
          "Bullhorn",
          "Highspot",
          "ZoomInfo",
          "Crossbeam",
          "Outreach",
          "ServiceTitan",
          "Gong",
          "Salesloft",
          "Highspot",
          "PartnerStack",
          "Springbig",
          "CaptivateIQ",
          "Pipedrive",
          "Khoros",
          "6sense",
          "Demandbase",
          "Outreach",
          "Introhive",
          "Forma.ai",
          "Mercos",
          "Loopio"
         ],
         "legendgroup": "Sales",
         "marker": {
          "color": "#FFA15A",
          "line": {
           "color": "#B64FDA",
           "width": 1
          },
          "symbol": "circle"
         },
         "mode": "markers",
         "name": "Sales",
         "showlegend": true,
         "type": "scattergl",
         "x": [
          32,
          644,
          7,
          116,
          489,
          1100,
          583,
          245,
          644,
          36,
          32,
          164,
          90,
          138,
          426,
          143,
          489,
          125,
          58,
          2,
          11
         ],
         "xaxis": "x",
         "y": [
          140,
          140,
          120,
          17,
          70,
          221,
          80,
          100,
          100,
          40,
          37,
          31,
          143,
          120,
          150,
          27,
          60,
          57,
          15,
          51,
          11
         ],
         "yaxis": "y"
        },
        {
         "hovertemplate": "<b>%{hovertext}</b><br><br>Industry=Data<br>Funds Raised in Millions=%{x}<br>Layoffs=%{y}<extra></extra>",
         "hovertext": [
          "StellarAlgo",
          "MariaDB",
          "Verbit",
          "Matterport",
          "Sisense",
          "Alteryx",
          "Astronomer",
          "Amplitude",
          "Software AG",
          "Confluent",
          "Citrine Informatics",
          "Pecan AI",
          "Astronomer",
          "Revelate",
          "InfluxData",
          "Pliops",
          "Anodot",
          "SQream",
          "Anodot",
          "Verbit",
          "Qumulo",
          "Bright Machines",
          "SafeGraph",
          "DataRobot",
          "Rasa",
          "Hyperscience",
          "BitTitan",
          "Splunk",
          "Descartes Labs",
          "Mixpanel",
          "Segment",
          "App Annie",
          "Sisense",
          "NuoDB",
          "Domo",
          "Matterport",
          "Code42",
          "GrayMeta"
         ],
         "legendgroup": "Data",
         "marker": {
          "color": "#19d3f3",
          "line": {
           "color": "#B64FDA",
           "width": 1
          },
          "symbol": "circle"
         },
         "mode": "markers",
         "name": "Data",
         "showlegend": true,
         "type": "scattergl",
         "x": [
          16,
          272,
          569,
          409,
          274,
          613,
          282,
          311,
          344,
          455,
          64,
          116,
          282,
          26,
          119,
          205,
          64,
          77,
          64,
          569,
          347,
          250,
          61,
          1000,
          40,
          289,
          46,
          40,
          58,
          77,
          283,
          156,
          274,
          85,
          689,
          114,
          137.5,
          7
         ],
         "xaxis": "x",
         "y": [
          21,
          84,
          60,
          170,
          100,
          320,
          100,
          99,
          200,
          221,
          22,
          30,
          76,
          24,
          65,
          12,
          35,
          30,
          15,
          80,
          80,
          30,
          27,
          70,
          59,
          100,
          70,
          70,
          12,
          65,
          50,
          80,
          80,
          20,
          90,
          90,
          25,
          20
         ],
         "yaxis": "y"
        },
        {
         "hovertemplate": "<b>%{hovertext}</b><br><br>Industry=Other<br>Funds Raised in Millions=%{x}<br>Layoffs=%{y}<extra></extra>",
         "hovertext": [
          "WeTransfer",
          "Lucid Software",
          "Tekion",
          "Fable",
          "Calendly",
          "AudioCodes",
          "Torii",
          "ClickUp",
          "Vendr",
          "Similarweb",
          "AudioCodes",
          "Upwork",
          "Chief",
          "Benchling",
          "WalkMe",
          "Viasat",
          "Slite",
          "Symend",
          "MyGate",
          "Kinde",
          "Pico Interactive",
          "Smartsheet",
          "Electric",
          "Miro",
          "Workato",
          "Hubilo",
          "Benevity",
          "Starry",
          "Unico",
          "Qualtrics",
          "WalkMe",
          "SoundHound",
          "LeafLink",
          "ResearchGate",
          "TealBook",
          "Similarweb",
          "Lokalise",
          "Asana",
          "Jimdo",
          "SoundHound",
          "Unico",
          "Infarm",
          "Q4",
          "Fiverr",
          "Zencity",
          "Hopin",
          "Lendis",
          "Rows",
          "Tonkean",
          "Dutchie",
          "ClickUp",
          "Meero",
          "Hopin",
          "Element AI",
          "Automation Anywhere",
          "Submittable"
         ],
         "legendgroup": "Other",
         "marker": {
          "color": "#FF6692",
          "line": {
           "color": "#B64FDA",
           "width": 1
          },
          "symbol": "circle"
         },
         "mode": "markers",
         "name": "Other",
         "showlegend": true,
         "type": "scattergl",
         "x": [
          64,
          170,
          435,
          12,
          351,
          91,
          65,
          537,
          216,
          235,
          91,
          168,
          140,
          411,
          307,
          366,
          15,
          148,
          79,
          10,
          62,
          152,
          212,
          476,
          415,
          153,
          69,
          260,
          336,
          400,
          307,
          326,
          379,
          87,
          73,
          235,
          56,
          453,
          28,
          326,
          336,
          604,
          91,
          111,
          51,
          1000,
          90,
          25,
          83,
          603,
          537,
          293,
          1000,
          257,
          840,
          17
         ],
         "xaxis": "x",
         "y": [
          35,
          75,
          300,
          13,
          60,
          80,
          28,
          90,
          100,
          60,
          80,
          137,
          43,
          74,
          112,
          300,
          10,
          50,
          200,
          8,
          400,
          85,
          141,
          119,
          90,
          115,
          137,
          100,
          110,
          270,
          43,
          200,
          80,
          25,
          34,
          120,
          76,
          180,
          50,
          45,
          50,
          50,
          50,
          60,
          30,
          242,
          18,
          18,
          23,
          50,
          60,
          350,
          138,
          62,
          260,
          30
         ],
         "yaxis": "y"
        },
        {
         "hovertemplate": "<b>%{hovertext}</b><br><br>Industry=Crypto<br>Funds Raised in Millions=%{x}<br>Layoffs=%{y}<extra></extra>",
         "hovertext": [
          "Chainalysis",
          "Chia Network",
          "TaxBit",
          "Autograph",
          "TRM Labs",
          "Community Gaming",
          "Anchorage Digital",
          "Polygon",
          "Fireblocks",
          "Protocol Labs",
          "Chainalysis",
          "Matrixport",
          "Shakepay",
          "Luno",
          "Blockchain.com",
          "ConsenSys",
          "Huobi",
          "CoinJar",
          "Candy Digital",
          "Lemon",
          "Quidax",
          "Ocavu",
          "Exodus",
          "Dapper Labs",
          "2TM",
          "Coinsquare",
          "Immutable",
          "Blockchain.com",
          "Gemini",
          "Unstoppable Domains",
          "Bullish",
          "Celsius",
          "Abra",
          "Huobi",
          "Banxa",
          "Bitpanda",
          "BitOasis",
          "TIFIN",
          "BlockFi",
          "Crypto.com",
          "Gemini",
          "2TM",
          "Bitso",
          "Buenbit",
          "BitMEX",
          "ConsenSys"
         ],
         "legendgroup": "Crypto",
         "marker": {
          "color": "#B6E880",
          "line": {
           "color": "#B64FDA",
           "width": 1
          },
          "symbol": "circle"
         },
         "mode": "markers",
         "name": "Crypto",
         "showlegend": true,
         "type": "scattergl",
         "x": [
          536,
          70,
          253,
          205,
          149,
          18,
          487,
          451,
          1000,
          10,
          536,
          100,
          45,
          13,
          490,
          726,
          2,
          1,
          100,
          17,
          3,
          11,
          60,
          607,
          250,
          98,
          279,
          490,
          423,
          7,
          300,
          864,
          106,
          2,
          13,
          546,
          30,
          204,
          1000,
          156,
          423,
          250,
          378,
          11,
          0,
          10
         ],
         "xaxis": "x",
         "y": [
          150,
          26,
          80,
          30,
          16,
          17,
          75,
          100,
          30,
          89,
          44,
          29,
          21,
          330,
          110,
          100,
          275,
          10,
          33,
          100,
          20,
          20,
          59,
          134,
          100,
          30,
          20,
          150,
          68,
          42,
          30,
          150,
          12,
          300,
          70,
          270,
          9,
          24,
          250,
          260,
          100,
          90,
          80,
          80,
          75,
          91
         ],
         "yaxis": "y"
        },
        {
         "hovertemplate": "<b>%{hovertext}</b><br><br>Industry=Logistics<br>Funds Raised in Millions=%{x}<br>Layoffs=%{y}<extra></extra>",
         "hovertext": [
          "Flexe",
          "Freightos",
          "Convoy",
          "Project44",
          "Flock Freight",
          "Loggi",
          "GoBolt",
          "Forto",
          "Shippo",
          "FourKites",
          "Sendy",
          "Sendy",
          "Project44",
          "Fabric",
          "Sendle",
          "Swyft",
          "FarEye",
          "Convoy",
          "Stord",
          "Samsara",
          "Transfix",
          "Bringg",
          "EasyPost",
          "Arrive Logistics",
          "KeepTruckin",
          "uShip"
         ],
         "legendgroup": "Logistics",
         "marker": {
          "color": "#FF97FF",
          "line": {
           "color": "#B64FDA",
           "width": 1
          },
          "symbol": "circle"
         },
         "mode": "markers",
         "name": "Logistics",
         "showlegend": true,
         "type": "scattergl",
         "x": [
          263,
          118,
          1100,
          817,
          399,
          507,
          178,
          593,
          154,
          201,
          26,
          26,
          817,
          336,
          69,
          20,
          150,
          1100,
          325,
          530,
          128,
          84,
          12,
          35,
          227,
          69
         ],
         "xaxis": "x",
         "y": [
          131,
          50,
          30,
          130,
          45,
          300,
          55,
          60,
          60,
          60,
          54,
          30,
          63,
          120,
          27,
          10,
          250,
          90,
          59,
          300,
          24,
          10,
          50,
          75,
          349,
          65
         ],
         "yaxis": "y"
        },
        {
         "hovertemplate": "<b>%{hovertext}</b><br><br>Industry=Unknown<br>Funds Raised in Millions=%{x}<br>Layoffs=%{y}<extra></extra>",
         "hovertext": [
          "Appsmith"
         ],
         "legendgroup": "Unknown",
         "marker": {
          "color": "#FECB52",
          "line": {
           "color": "#B64FDA",
           "width": 1
          },
          "symbol": "circle"
         },
         "mode": "markers",
         "name": "Unknown",
         "showlegend": true,
         "type": "scattergl",
         "x": [
          51
         ],
         "xaxis": "x",
         "y": [
          35
         ],
         "yaxis": "y"
        },
        {
         "hovertemplate": "<b>%{hovertext}</b><br><br>Industry=Marketing<br>Funds Raised in Millions=%{x}<br>Layoffs=%{y}<extra></extra>",
         "hovertext": [
          "VideoAmp",
          "Drift",
          "Captiv8",
          "Outbrain",
          "Airmeet",
          "Brightcove",
          "Permutive",
          "OneFootball",
          "Basis Technologies",
          "Wix",
          "TripleLift",
          "#Paid",
          "Innovid",
          "Namogoo",
          "Hootsuite",
          "Snappy",
          "OneFootball",
          "TechTarget",
          "Integral Ad Science",
          "Bizzabo",
          "Grin",
          "&Open",
          "Wayflyer",
          "Yotpo",
          "Liftoff",
          "Namogoo",
          "Hootsuite",
          "Hotmart",
          "Linkfire",
          "Momentive",
          "Pitch",
          "Taboola",
          "Amperity",
          "Permutive",
          "Hootsuite",
          "Perion",
          "Uberflip",
          "Unbounce",
          "Quantcast",
          "Skai",
          "Outbrain",
          "Lusha",
          "Hubilo",
          "SundaySky",
          "Emotive",
          "Bizzabo",
          "Voyage SMS",
          "Community",
          "Optimizely",
          "G2",
          "Cvent",
          "ShareChat",
          "Integral Ad Science",
          "Rubicon Project",
          "OpenX",
          "UPshow",
          "GumGum",
          "People.ai",
          "CleverTap",
          "LoopMe",
          "Button",
          "Quantcast",
          "VideoAmp",
          "Branch Metrics",
          "MediaMath",
          "Rock Content",
          "BounceX",
          "Wordstream",
          "Sojern",
          "TripleLift",
          "Showpad",
          "Crayon",
          "Usermind",
          "AdRoll",
          "DialSource",
          "OutboundEngine",
          "Flytedesk"
         ],
         "legendgroup": "Marketing",
         "marker": {
          "color": "#636efa",
          "line": {
           "color": "#B64FDA",
           "width": 1
          },
          "symbol": "circle"
         },
         "mode": "markers",
         "name": "Marketing",
         "showlegend": true,
         "type": "scattergl",
         "x": [
          456,
          107,
          4,
          394,
          50,
          145,
          105,
          442,
          52,
          58,
          16,
          21,
          295,
          69,
          300,
          104,
          442,
          115,
          116,
          194,
          145,
          35,
          889,
          436,
          6,
          69,
          300,
          127,
          2,
          1100,
          137,
          445,
          187,
          105,
          300,
          76,
          42,
          39,
          65,
          60,
          394,
          245,
          153,
          74,
          78,
          194,
          10,
          40,
          251.2,
          100.8,
          146,
          222,
          116,
          60,
          70,
          7,
          58,
          100,
          76,
          32,
          64,
          65,
          106,
          367,
          607,
          0.7,
          75,
          28,
          162,
          16,
          159,
          16,
          46,
          89,
          26,
          48,
          4
         ],
         "xaxis": "x",
         "y": [
          40,
          100,
          8,
          90,
          75,
          70,
          80,
          150,
          40,
          370,
          100,
          19,
          40,
          20,
          70,
          100,
          62,
          60,
          120,
          100,
          60,
          9,
          200,
          70,
          130,
          25,
          50,
          227,
          35,
          180,
          59,
          100,
          13,
          30,
          400,
          20,
          31,
          47,
          40,
          30,
          38,
          30,
          45,
          24,
          30,
          120,
          8,
          40,
          60,
          17,
          400,
          101,
          70,
          50,
          35,
          19,
          90,
          30,
          60,
          8,
          48,
          30,
          21,
          100,
          53,
          100,
          77,
          26,
          300,
          23,
          52,
          20,
          15,
          210,
          5,
          52,
          4
         ],
         "yaxis": "y"
        },
        {
         "hovertemplate": "<b>%{hovertext}</b><br><br>Industry=Real Estate<br>Funds Raised in Millions=%{x}<br>Layoffs=%{y}<extra></extra>",
         "hovertext": [
          "Homeday",
          "AppFolio",
          "Archipelago",
          "Point",
          "Redfin",
          "Loft",
          "Homebot",
          "Loft",
          "Lev",
          "Veev",
          "Flyhomes",
          "Zillow",
          "Zeus Living",
          "Pacaso",
          "Homie",
          "Divvy Homes",
          "Apartment List",
          "Flyhomes",
          "Kiavi",
          "Loft",
          "Zumper",
          "QuintoAndar",
          "Knock",
          "Homie",
          "Rhino",
          "Knotel",
          "CrowdStreet",
          "Zeus Living",
          "Cadre",
          "JetClosing",
          "QuintoAndar",
          "Loft",
          "Eden / Managed By Q",
          "Redfin",
          "Industrious",
          "Blueground",
          "Knotel",
          "Zeus Living",
          "Convene"
         ],
         "legendgroup": "Real Estate",
         "marker": {
          "color": "#EF553B",
          "line": {
           "color": "#B64FDA",
           "width": 1
          },
          "symbol": "circle"
         },
         "mode": "markers",
         "name": "Real Estate",
         "showlegend": true,
         "type": "scattergl",
         "x": [
          71,
          30,
          57,
          149,
          320,
          788,
          4,
          788,
          114,
          597,
          310,
          97,
          151,
          217,
          35,
          180,
          169,
          310,
          240,
          788,
          178,
          755,
          654,
          35,
          133,
          560,
          24,
          79,
          133,
          24,
          335,
          263,
          40,
          319,
          222,
          77,
          560,
          79,
          280
         ],
         "xaxis": "x",
         "y": [
          40,
          149,
          40,
          61,
          201,
          340,
          18,
          312,
          30,
          100,
          300,
          300,
          64,
          100,
          40,
          40,
          29,
          200,
          39,
          384,
          45,
          160,
          115,
          119,
          57,
          20,
          24,
          73,
          28,
          20,
          88,
          47,
          40,
          236,
          90,
          130,
          127,
          80,
          150
         ],
         "yaxis": "y"
        },
        {
         "hovertemplate": "<b>%{hovertext}</b><br><br>Industry=Media<br>Funds Raised in Millions=%{x}<br>Layoffs=%{y}<extra></extra>",
         "hovertext": [
          "Roku",
          "StreamElements",
          "Highsnobiety",
          "Plex",
          "Chingari",
          "TheSkimm",
          "BuzzFeed",
          "Roku",
          "Wattpad",
          "CNET",
          "Pocket Aces",
          "TheSkimm",
          "Vox Media",
          "SmartNews",
          "StreamElements",
          "Minute Media",
          "Kaltura",
          "BuzzFeed",
          "Roku",
          "Cloudinary",
          "Flipboard",
          "Acast",
          "Patreon",
          "Vox Media",
          "Substack",
          "Elementor",
          "OpenWeb",
          "Wave Sports and Entertainment",
          "Outside",
          "Legible",
          "Storytel",
          "The Athletic",
          "Culture Trip",
          "TheSkimm",
          "Patreon",
          "Group Nine Media",
          "Bustle Digital Group",
          "Highsnobiety",
          "Maven",
          "Overtime"
         ],
         "legendgroup": "Media",
         "marker": {
          "color": "#00cc96",
          "line": {
           "color": "#B64FDA",
           "width": 1
          },
          "symbol": "circle"
         },
         "mode": "markers",
         "name": "Media",
         "showlegend": true,
         "type": "scattergl",
         "x": [
          208,
          111,
          8,
          81,
          88,
          28,
          696,
          208,
          117,
          20,
          19,
          28,
          307,
          410,
          111,
          160,
          166,
          696,
          208,
          100,
          235,
          126,
          413,
          307,
          82,
          65,
          223,
          65,
          174,
          3,
          275,
          139,
          102,
          28,
          165,
          190,
          80,
          8.5,
          77,
          35
         ],
         "xaxis": "x",
         "y": [
          360,
          60,
          24,
          37,
          48,
          22,
          180,
          200,
          42,
          12,
          50,
          17,
          130,
          120,
          40,
          50,
          75,
          180,
          200,
          40,
          24,
          70,
          80,
          39,
          13,
          60,
          14,
          56,
          87,
          23,
          100,
          46,
          95,
          26,
          30,
          50,
          24,
          51,
          31,
          30
         ],
         "yaxis": "y"
        },
        {
         "hovertemplate": "<b>%{hovertext}</b><br><br>Industry=Manufacturing<br>Funds Raised in Millions=%{x}<br>Layoffs=%{y}<extra></extra>",
         "hovertext": [
          "Augury",
          "Augury"
         ],
         "legendgroup": "Manufacturing",
         "marker": {
          "color": "#ab63fa",
          "line": {
           "color": "#B64FDA",
           "width": 1
          },
          "symbol": "circle"
         },
         "mode": "markers",
         "name": "Manufacturing",
         "showlegend": true,
         "type": "scattergl",
         "x": [
          274,
          274
         ],
         "xaxis": "x",
         "y": [
          70,
          20
         ],
         "yaxis": "y"
        },
        {
         "hovertemplate": "<b>%{hovertext}</b><br><br>Industry=Aerospace<br>Funds Raised in Millions=%{x}<br>Layoffs=%{y}<extra></extra>",
         "hovertext": [
          "Planet",
          "Sarcos",
          "Astra"
         ],
         "legendgroup": "Aerospace",
         "marker": {
          "color": "#FFA15A",
          "line": {
           "color": "#B64FDA",
           "width": 1
          },
          "symbol": "circle"
         },
         "mode": "markers",
         "name": "Aerospace",
         "showlegend": true,
         "type": "scattergl",
         "x": [
          574,
          316,
          100
         ],
         "xaxis": "x",
         "y": [
          117,
          75,
          40
         ],
         "yaxis": "y"
        },
        {
         "hovertemplate": "<b>%{hovertext}</b><br><br>Industry=Infrastructure<br>Funds Raised in Millions=%{x}<br>Layoffs=%{y}<extra></extra>",
         "hovertext": [
          "New Relic",
          "Edgio",
          "Mux",
          "Megaport",
          "BigPanda",
          "DigitalOcean",
          "Edgio",
          "Mux",
          "New Relic",
          "Nutanix",
          "Teleport",
          "Hologram",
          "New Relic",
          "D2iQ",
          "Sauce Labs",
          "Puppet",
          "CTO.ai"
         ],
         "legendgroup": "Infrastructure",
         "marker": {
          "color": "#19d3f3",
          "line": {
           "color": "#B64FDA",
           "width": 1
          },
          "symbol": "circle"
         },
         "mode": "markers",
         "name": "Infrastructure",
         "showlegend": true,
         "type": "scattergl",
         "x": [
          214,
          462,
          173,
          98,
          337,
          491,
          462,
          173,
          214,
          1100,
          169,
          82,
          214.5,
          247,
          151,
          149,
          7
         ],
         "xaxis": "x",
         "y": [
          255,
          134,
          40,
          50,
          40,
          200,
          95,
          40,
          110,
          270,
          15,
          80,
          160,
          34,
          30,
          50,
          30
         ],
         "yaxis": "y"
        },
        {
         "hovertemplate": "<b>%{hovertext}</b><br><br>Industry=Support<br>Funds Raised in Millions=%{x}<br>Layoffs=%{y}<extra></extra>",
         "hovertext": [
          "Zendesk",
          "Freshworks",
          "Sprinklr",
          "8x8",
          "Exotel",
          "Personetics",
          "Uniphore",
          "Freshworks",
          "Intercom",
          "Zendesk",
          "8x8",
          "Ada",
          "LivePerson",
          "Intercom",
          "TaskUs",
          "Intercom",
          "Ada Support",
          "Movidesk",
          "Clinc",
          "Unbabel",
          "Cogito"
         ],
         "legendgroup": "Support",
         "marker": {
          "color": "#FF6692",
          "line": {
           "color": "#B64FDA",
           "width": 1
          },
          "symbol": "circle"
         },
         "mode": "markers",
         "name": "Support",
         "showlegend": true,
         "type": "scattergl",
         "x": [
          85,
          484,
          429,
          253,
          87,
          178,
          620,
          484,
          240,
          85,
          253,
          190,
          42,
          240,
          279,
          240,
          60,
          1,
          59,
          91,
          92
         ],
         "xaxis": "x",
         "y": [
          320,
          114,
          100,
          155,
          142,
          30,
          76,
          90,
          124,
          350,
          200,
          78,
          193,
          49,
          52,
          39,
          36,
          33,
          40,
          80,
          24
         ],
         "yaxis": "y"
        },
        {
         "hovertemplate": "<b>%{hovertext}</b><br><br>Industry=Recruiting<br>Funds Raised in Millions=%{x}<br>Layoffs=%{y}<extra></extra>",
         "hovertext": [
          "ZipRecruiter",
          "Stack Overflow",
          "Greenhouse",
          "Talent.com",
          "Textio",
          "Gem",
          "Built In",
          "Dover",
          "Hireology",
          "Glassdoor",
          "Andela",
          "Stack Overflow",
          "Workable",
          "Greenhouse",
          "Lever",
          "Kenoby",
          "Jobcase",
          "Wonolo",
          "ZipRecruiter",
          "Textio",
          "Triplebyte"
         ],
         "legendgroup": "Recruiting",
         "marker": {
          "color": "#B6E880",
          "line": {
           "color": "#B64FDA",
           "width": 1
          },
          "symbol": "circle"
         },
         "mode": "markers",
         "name": "Recruiting",
         "showlegend": true,
         "type": "scattergl",
         "x": [
          769,
          153,
          110,
          150,
          42,
          148,
          29,
          22,
          52,
          204,
          181,
          68,
          84,
          110,
          72,
          23,
          118,
          52,
          219,
          41,
          48
         ],
         "xaxis": "x",
         "y": [
          270,
          58,
          100,
          86,
          15,
          100,
          50,
          23,
          36,
          300,
          135,
          40,
          25,
          120,
          86,
          18,
          39,
          46,
          400,
          30,
          15
         ],
         "yaxis": "y"
        },
        {
         "hovertemplate": "<b>%{hovertext}</b><br><br>Industry=Fitness<br>Funds Raised in Millions=%{x}<br>Layoffs=%{y}<extra></extra>",
         "hovertext": [
          "Zwift",
          "Fittr",
          "iFit",
          "MindBody",
          "Urban Sports Club",
          "WHOOP",
          "Tonal",
          "ClassPass",
          "eGym",
          "Zenoti"
         ],
         "legendgroup": "Fitness",
         "marker": {
          "color": "#FF97FF",
          "line": {
           "color": "#B64FDA",
           "width": 1
          },
          "symbol": "circle"
         },
         "mode": "markers",
         "name": "Fitness",
         "showlegend": true,
         "type": "scattergl",
         "x": [
          619,
          13,
          200,
          114,
          95,
          404,
          450,
          549,
          109,
          91
         ],
         "xaxis": "x",
         "y": [
          80,
          30,
          300,
          400,
          55,
          95,
          262,
          154,
          100,
          17
         ],
         "yaxis": "y"
        },
        {
         "hovertemplate": "<b>%{hovertext}</b><br><br>Industry=Legal<br>Funds Raised in Millions=%{x}<br>Layoffs=%{y}<extra></extra>",
         "hovertext": [
          "Exterro",
          "SirionLabs",
          "CS Disco",
          "Relativity",
          "Lawgeex",
          "Notarize",
          "OneTrust"
         ],
         "legendgroup": "Legal",
         "marker": {
          "color": "#FECB52",
          "line": {
           "color": "#B64FDA",
           "width": 1
          },
          "symbol": "circle"
         },
         "mode": "markers",
         "name": "Legal",
         "showlegend": true,
         "type": "scattergl",
         "x": [
          100,
          171,
          233,
          125,
          41,
          213,
          410
         ],
         "xaxis": "x",
         "y": [
          24,
          130,
          62,
          150,
          30,
          110,
          150
         ],
         "yaxis": "y"
        },
        {
         "hovertemplate": "<b>%{hovertext}</b><br><br>Industry=Construction<br>Funds Raised in Millions=%{x}<br>Layoffs=%{y}<extra></extra>",
         "hovertext": [
          "Bridgit",
          "RenoRun",
          "RenoRun",
          "Yojak",
          "Procore",
          "Rhumbix"
         ],
         "legendgroup": "Construction",
         "marker": {
          "color": "#636efa",
          "line": {
           "color": "#B64FDA",
           "width": 1
          },
          "symbol": "circle"
         },
         "mode": "markers",
         "name": "Construction",
         "showlegend": true,
         "type": "scattergl",
         "x": [
          36,
          163,
          163,
          3,
          649,
          35
         ],
         "xaxis": "x",
         "y": [
          13,
          210,
          70,
          140,
          180,
          16
         ],
         "yaxis": "y"
        }
       ],
       "layout": {
        "legend": {
         "title": {
          "text": "Industry"
         },
         "tracegroupgap": 0
        },
        "template": {
         "data": {
          "bar": [
           {
            "error_x": {
             "color": "#2a3f5f"
            },
            "error_y": {
             "color": "#2a3f5f"
            },
            "marker": {
             "line": {
              "color": "#E5ECF6",
              "width": 0.5
             },
             "pattern": {
              "fillmode": "overlay",
              "size": 10,
              "solidity": 0.2
             }
            },
            "type": "bar"
           }
          ],
          "barpolar": [
           {
            "marker": {
             "line": {
              "color": "#E5ECF6",
              "width": 0.5
             },
             "pattern": {
              "fillmode": "overlay",
              "size": 10,
              "solidity": 0.2
             }
            },
            "type": "barpolar"
           }
          ],
          "carpet": [
           {
            "aaxis": {
             "endlinecolor": "#2a3f5f",
             "gridcolor": "white",
             "linecolor": "white",
             "minorgridcolor": "white",
             "startlinecolor": "#2a3f5f"
            },
            "baxis": {
             "endlinecolor": "#2a3f5f",
             "gridcolor": "white",
             "linecolor": "white",
             "minorgridcolor": "white",
             "startlinecolor": "#2a3f5f"
            },
            "type": "carpet"
           }
          ],
          "choropleth": [
           {
            "colorbar": {
             "outlinewidth": 0,
             "ticks": ""
            },
            "type": "choropleth"
           }
          ],
          "contour": [
           {
            "colorbar": {
             "outlinewidth": 0,
             "ticks": ""
            },
            "colorscale": [
             [
              0,
              "#0d0887"
             ],
             [
              0.1111111111111111,
              "#46039f"
             ],
             [
              0.2222222222222222,
              "#7201a8"
             ],
             [
              0.3333333333333333,
              "#9c179e"
             ],
             [
              0.4444444444444444,
              "#bd3786"
             ],
             [
              0.5555555555555556,
              "#d8576b"
             ],
             [
              0.6666666666666666,
              "#ed7953"
             ],
             [
              0.7777777777777778,
              "#fb9f3a"
             ],
             [
              0.8888888888888888,
              "#fdca26"
             ],
             [
              1,
              "#f0f921"
             ]
            ],
            "type": "contour"
           }
          ],
          "contourcarpet": [
           {
            "colorbar": {
             "outlinewidth": 0,
             "ticks": ""
            },
            "type": "contourcarpet"
           }
          ],
          "heatmap": [
           {
            "colorbar": {
             "outlinewidth": 0,
             "ticks": ""
            },
            "colorscale": [
             [
              0,
              "#0d0887"
             ],
             [
              0.1111111111111111,
              "#46039f"
             ],
             [
              0.2222222222222222,
              "#7201a8"
             ],
             [
              0.3333333333333333,
              "#9c179e"
             ],
             [
              0.4444444444444444,
              "#bd3786"
             ],
             [
              0.5555555555555556,
              "#d8576b"
             ],
             [
              0.6666666666666666,
              "#ed7953"
             ],
             [
              0.7777777777777778,
              "#fb9f3a"
             ],
             [
              0.8888888888888888,
              "#fdca26"
             ],
             [
              1,
              "#f0f921"
             ]
            ],
            "type": "heatmap"
           }
          ],
          "heatmapgl": [
           {
            "colorbar": {
             "outlinewidth": 0,
             "ticks": ""
            },
            "colorscale": [
             [
              0,
              "#0d0887"
             ],
             [
              0.1111111111111111,
              "#46039f"
             ],
             [
              0.2222222222222222,
              "#7201a8"
             ],
             [
              0.3333333333333333,
              "#9c179e"
             ],
             [
              0.4444444444444444,
              "#bd3786"
             ],
             [
              0.5555555555555556,
              "#d8576b"
             ],
             [
              0.6666666666666666,
              "#ed7953"
             ],
             [
              0.7777777777777778,
              "#fb9f3a"
             ],
             [
              0.8888888888888888,
              "#fdca26"
             ],
             [
              1,
              "#f0f921"
             ]
            ],
            "type": "heatmapgl"
           }
          ],
          "histogram": [
           {
            "marker": {
             "pattern": {
              "fillmode": "overlay",
              "size": 10,
              "solidity": 0.2
             }
            },
            "type": "histogram"
           }
          ],
          "histogram2d": [
           {
            "colorbar": {
             "outlinewidth": 0,
             "ticks": ""
            },
            "colorscale": [
             [
              0,
              "#0d0887"
             ],
             [
              0.1111111111111111,
              "#46039f"
             ],
             [
              0.2222222222222222,
              "#7201a8"
             ],
             [
              0.3333333333333333,
              "#9c179e"
             ],
             [
              0.4444444444444444,
              "#bd3786"
             ],
             [
              0.5555555555555556,
              "#d8576b"
             ],
             [
              0.6666666666666666,
              "#ed7953"
             ],
             [
              0.7777777777777778,
              "#fb9f3a"
             ],
             [
              0.8888888888888888,
              "#fdca26"
             ],
             [
              1,
              "#f0f921"
             ]
            ],
            "type": "histogram2d"
           }
          ],
          "histogram2dcontour": [
           {
            "colorbar": {
             "outlinewidth": 0,
             "ticks": ""
            },
            "colorscale": [
             [
              0,
              "#0d0887"
             ],
             [
              0.1111111111111111,
              "#46039f"
             ],
             [
              0.2222222222222222,
              "#7201a8"
             ],
             [
              0.3333333333333333,
              "#9c179e"
             ],
             [
              0.4444444444444444,
              "#bd3786"
             ],
             [
              0.5555555555555556,
              "#d8576b"
             ],
             [
              0.6666666666666666,
              "#ed7953"
             ],
             [
              0.7777777777777778,
              "#fb9f3a"
             ],
             [
              0.8888888888888888,
              "#fdca26"
             ],
             [
              1,
              "#f0f921"
             ]
            ],
            "type": "histogram2dcontour"
           }
          ],
          "mesh3d": [
           {
            "colorbar": {
             "outlinewidth": 0,
             "ticks": ""
            },
            "type": "mesh3d"
           }
          ],
          "parcoords": [
           {
            "line": {
             "colorbar": {
              "outlinewidth": 0,
              "ticks": ""
             }
            },
            "type": "parcoords"
           }
          ],
          "pie": [
           {
            "automargin": true,
            "type": "pie"
           }
          ],
          "scatter": [
           {
            "fillpattern": {
             "fillmode": "overlay",
             "size": 10,
             "solidity": 0.2
            },
            "type": "scatter"
           }
          ],
          "scatter3d": [
           {
            "line": {
             "colorbar": {
              "outlinewidth": 0,
              "ticks": ""
             }
            },
            "marker": {
             "colorbar": {
              "outlinewidth": 0,
              "ticks": ""
             }
            },
            "type": "scatter3d"
           }
          ],
          "scattercarpet": [
           {
            "marker": {
             "colorbar": {
              "outlinewidth": 0,
              "ticks": ""
             }
            },
            "type": "scattercarpet"
           }
          ],
          "scattergeo": [
           {
            "marker": {
             "colorbar": {
              "outlinewidth": 0,
              "ticks": ""
             }
            },
            "type": "scattergeo"
           }
          ],
          "scattergl": [
           {
            "marker": {
             "colorbar": {
              "outlinewidth": 0,
              "ticks": ""
             }
            },
            "type": "scattergl"
           }
          ],
          "scattermapbox": [
           {
            "marker": {
             "colorbar": {
              "outlinewidth": 0,
              "ticks": ""
             }
            },
            "type": "scattermapbox"
           }
          ],
          "scatterpolar": [
           {
            "marker": {
             "colorbar": {
              "outlinewidth": 0,
              "ticks": ""
             }
            },
            "type": "scatterpolar"
           }
          ],
          "scatterpolargl": [
           {
            "marker": {
             "colorbar": {
              "outlinewidth": 0,
              "ticks": ""
             }
            },
            "type": "scatterpolargl"
           }
          ],
          "scatterternary": [
           {
            "marker": {
             "colorbar": {
              "outlinewidth": 0,
              "ticks": ""
             }
            },
            "type": "scatterternary"
           }
          ],
          "surface": [
           {
            "colorbar": {
             "outlinewidth": 0,
             "ticks": ""
            },
            "colorscale": [
             [
              0,
              "#0d0887"
             ],
             [
              0.1111111111111111,
              "#46039f"
             ],
             [
              0.2222222222222222,
              "#7201a8"
             ],
             [
              0.3333333333333333,
              "#9c179e"
             ],
             [
              0.4444444444444444,
              "#bd3786"
             ],
             [
              0.5555555555555556,
              "#d8576b"
             ],
             [
              0.6666666666666666,
              "#ed7953"
             ],
             [
              0.7777777777777778,
              "#fb9f3a"
             ],
             [
              0.8888888888888888,
              "#fdca26"
             ],
             [
              1,
              "#f0f921"
             ]
            ],
            "type": "surface"
           }
          ],
          "table": [
           {
            "cells": {
             "fill": {
              "color": "#EBF0F8"
             },
             "line": {
              "color": "white"
             }
            },
            "header": {
             "fill": {
              "color": "#C8D4E3"
             },
             "line": {
              "color": "white"
             }
            },
            "type": "table"
           }
          ]
         },
         "layout": {
          "annotationdefaults": {
           "arrowcolor": "#2a3f5f",
           "arrowhead": 0,
           "arrowwidth": 1
          },
          "autotypenumbers": "strict",
          "coloraxis": {
           "colorbar": {
            "outlinewidth": 0,
            "ticks": ""
           }
          },
          "colorscale": {
           "diverging": [
            [
             0,
             "#8e0152"
            ],
            [
             0.1,
             "#c51b7d"
            ],
            [
             0.2,
             "#de77ae"
            ],
            [
             0.3,
             "#f1b6da"
            ],
            [
             0.4,
             "#fde0ef"
            ],
            [
             0.5,
             "#f7f7f7"
            ],
            [
             0.6,
             "#e6f5d0"
            ],
            [
             0.7,
             "#b8e186"
            ],
            [
             0.8,
             "#7fbc41"
            ],
            [
             0.9,
             "#4d9221"
            ],
            [
             1,
             "#276419"
            ]
           ],
           "sequential": [
            [
             0,
             "#0d0887"
            ],
            [
             0.1111111111111111,
             "#46039f"
            ],
            [
             0.2222222222222222,
             "#7201a8"
            ],
            [
             0.3333333333333333,
             "#9c179e"
            ],
            [
             0.4444444444444444,
             "#bd3786"
            ],
            [
             0.5555555555555556,
             "#d8576b"
            ],
            [
             0.6666666666666666,
             "#ed7953"
            ],
            [
             0.7777777777777778,
             "#fb9f3a"
            ],
            [
             0.8888888888888888,
             "#fdca26"
            ],
            [
             1,
             "#f0f921"
            ]
           ],
           "sequentialminus": [
            [
             0,
             "#0d0887"
            ],
            [
             0.1111111111111111,
             "#46039f"
            ],
            [
             0.2222222222222222,
             "#7201a8"
            ],
            [
             0.3333333333333333,
             "#9c179e"
            ],
            [
             0.4444444444444444,
             "#bd3786"
            ],
            [
             0.5555555555555556,
             "#d8576b"
            ],
            [
             0.6666666666666666,
             "#ed7953"
            ],
            [
             0.7777777777777778,
             "#fb9f3a"
            ],
            [
             0.8888888888888888,
             "#fdca26"
            ],
            [
             1,
             "#f0f921"
            ]
           ]
          },
          "colorway": [
           "#636efa",
           "#EF553B",
           "#00cc96",
           "#ab63fa",
           "#FFA15A",
           "#19d3f3",
           "#FF6692",
           "#B6E880",
           "#FF97FF",
           "#FECB52"
          ],
          "font": {
           "color": "#2a3f5f"
          },
          "geo": {
           "bgcolor": "white",
           "lakecolor": "white",
           "landcolor": "#E5ECF6",
           "showlakes": true,
           "showland": true,
           "subunitcolor": "white"
          },
          "hoverlabel": {
           "align": "left"
          },
          "hovermode": "closest",
          "mapbox": {
           "style": "light"
          },
          "paper_bgcolor": "white",
          "plot_bgcolor": "#E5ECF6",
          "polar": {
           "angularaxis": {
            "gridcolor": "white",
            "linecolor": "white",
            "ticks": ""
           },
           "bgcolor": "#E5ECF6",
           "radialaxis": {
            "gridcolor": "white",
            "linecolor": "white",
            "ticks": ""
           }
          },
          "scene": {
           "xaxis": {
            "backgroundcolor": "#E5ECF6",
            "gridcolor": "white",
            "gridwidth": 2,
            "linecolor": "white",
            "showbackground": true,
            "ticks": "",
            "zerolinecolor": "white"
           },
           "yaxis": {
            "backgroundcolor": "#E5ECF6",
            "gridcolor": "white",
            "gridwidth": 2,
            "linecolor": "white",
            "showbackground": true,
            "ticks": "",
            "zerolinecolor": "white"
           },
           "zaxis": {
            "backgroundcolor": "#E5ECF6",
            "gridcolor": "white",
            "gridwidth": 2,
            "linecolor": "white",
            "showbackground": true,
            "ticks": "",
            "zerolinecolor": "white"
           }
          },
          "shapedefaults": {
           "line": {
            "color": "#2a3f5f"
           }
          },
          "ternary": {
           "aaxis": {
            "gridcolor": "white",
            "linecolor": "white",
            "ticks": ""
           },
           "baxis": {
            "gridcolor": "white",
            "linecolor": "white",
            "ticks": ""
           },
           "bgcolor": "#E5ECF6",
           "caxis": {
            "gridcolor": "white",
            "linecolor": "white",
            "ticks": ""
           }
          },
          "title": {
           "x": 0.05
          },
          "xaxis": {
           "automargin": true,
           "gridcolor": "white",
           "linecolor": "white",
           "ticks": "",
           "title": {
            "standoff": 15
           },
           "zerolinecolor": "white",
           "zerolinewidth": 2
          },
          "yaxis": {
           "automargin": true,
           "gridcolor": "white",
           "linecolor": "white",
           "ticks": "",
           "title": {
            "standoff": 15
           },
           "zerolinecolor": "white",
           "zerolinewidth": 2
          }
         }
        },
        "title": {
         "text": "Layoffs vs. Funds Raised by Industry",
         "x": 0.5
        },
        "xaxis": {
         "anchor": "y",
         "domain": [
          0,
          1
         ],
         "tickformat": ",.0f",
         "tickprefix": "$",
         "title": {
          "text": "Funds Raised in Millions"
         }
        },
        "yaxis": {
         "anchor": "x",
         "domain": [
          0,
          1
         ],
         "title": {
          "text": "Layoffs"
         }
        }
       }
      }
     },
     "metadata": {},
     "output_type": "display_data"
    }
   ],
   "source": [
    "fig_funds = px.scatter(\n",
    "    clean_df,\n",
    "    x = 'Funds_Raised',\n",
    "    y = 'Layoffs',\n",
    "    title = 'Layoffs vs. Funds Raised by Industry',\n",
    "    color = 'Industry',\n",
    "    hover_name = 'Company',\n",
    "    labels = {'Funds_Raised': 'Funds Raised in Millions'}\n",
    ")\n",
    "\n",
    "# Formatting title and x-axis\n",
    "fig_funds.update_layout(\n",
    "    title_x = 0.5,\n",
    "    xaxis_tickprefix = '$',\n",
    "    xaxis_tickformat = ',.0f'\n",
    ")\n",
    "\n",
    "fig_funds.update_traces(marker = {'line': {'color': '#B64FDA', 'width': 1}})\n",
    "fig_funds.show()"
   ]
  },
  {
   "cell_type": "code",
   "execution_count": 18,
   "id": "d5cf731b-9461-4e6e-83ca-4d0955c6e559",
   "metadata": {},
   "outputs": [
    {
     "data": {
      "application/vnd.plotly.v1+json": {
       "config": {
        "plotlyServerURL": "https://plot.ly"
       },
       "data": [
        {
         "hovertemplate": "Date=%{x}<br>Layoffs=%{y}<extra></extra>",
         "legendgroup": "",
         "line": {
          "color": "red",
          "dash": "solid"
         },
         "marker": {
          "symbol": "circle"
         },
         "mode": "lines",
         "name": "",
         "orientation": "v",
         "showlegend": false,
         "type": "scatter",
         "x": [
          "2020-03-12T00:00:00",
          "2020-03-13T00:00:00",
          "2020-03-16T00:00:00",
          "2020-03-18T00:00:00",
          "2020-03-19T00:00:00",
          "2020-03-20T00:00:00",
          "2020-03-23T00:00:00",
          "2020-03-24T00:00:00",
          "2020-03-25T00:00:00",
          "2020-03-26T00:00:00",
          "2020-03-27T00:00:00",
          "2020-03-28T00:00:00",
          "2020-03-29T00:00:00",
          "2020-03-30T00:00:00",
          "2020-03-31T00:00:00",
          "2020-04-01T00:00:00",
          "2020-04-02T00:00:00",
          "2020-04-03T00:00:00",
          "2020-04-04T00:00:00",
          "2020-04-05T00:00:00",
          "2020-04-06T00:00:00",
          "2020-04-07T00:00:00",
          "2020-04-08T00:00:00",
          "2020-04-09T00:00:00",
          "2020-04-10T00:00:00",
          "2020-04-13T00:00:00",
          "2020-04-14T00:00:00",
          "2020-04-15T00:00:00",
          "2020-04-16T00:00:00",
          "2020-04-17T00:00:00",
          "2020-04-20T00:00:00",
          "2020-04-21T00:00:00",
          "2020-04-22T00:00:00",
          "2020-04-23T00:00:00",
          "2020-04-24T00:00:00",
          "2020-04-25T00:00:00",
          "2020-04-27T00:00:00",
          "2020-04-28T00:00:00",
          "2020-04-29T00:00:00",
          "2020-05-01T00:00:00",
          "2020-05-03T00:00:00",
          "2020-05-04T00:00:00",
          "2020-05-05T00:00:00",
          "2020-05-06T00:00:00",
          "2020-05-07T00:00:00",
          "2020-05-08T00:00:00",
          "2020-05-11T00:00:00",
          "2020-05-12T00:00:00",
          "2020-05-13T00:00:00",
          "2020-05-14T00:00:00",
          "2020-05-15T00:00:00",
          "2020-05-19T00:00:00",
          "2020-05-20T00:00:00",
          "2020-05-21T00:00:00",
          "2020-05-27T00:00:00",
          "2020-05-28T00:00:00",
          "2020-05-29T00:00:00",
          "2020-06-01T00:00:00",
          "2020-06-02T00:00:00",
          "2020-06-03T00:00:00",
          "2020-06-04T00:00:00",
          "2020-06-05T00:00:00",
          "2020-06-11T00:00:00",
          "2020-06-12T00:00:00",
          "2020-06-16T00:00:00",
          "2020-06-17T00:00:00",
          "2020-06-24T00:00:00",
          "2020-06-29T00:00:00",
          "2020-06-30T00:00:00",
          "2020-07-09T00:00:00",
          "2020-07-14T00:00:00",
          "2020-07-15T00:00:00",
          "2020-07-20T00:00:00",
          "2020-07-23T00:00:00",
          "2020-07-28T00:00:00",
          "2020-08-06T00:00:00",
          "2020-08-07T00:00:00",
          "2020-08-11T00:00:00",
          "2020-08-31T00:00:00",
          "2020-09-01T00:00:00",
          "2020-09-09T00:00:00",
          "2020-09-29T00:00:00",
          "2020-10-14T00:00:00",
          "2020-10-29T00:00:00",
          "2020-11-09T00:00:00",
          "2020-11-19T00:00:00",
          "2021-01-23T00:00:00",
          "2021-02-03T00:00:00",
          "2021-02-22T00:00:00",
          "2021-04-06T00:00:00",
          "2021-08-24T00:00:00",
          "2021-11-18T00:00:00",
          "2022-01-26T00:00:00",
          "2022-02-03T00:00:00",
          "2022-02-10T00:00:00",
          "2022-02-14T00:00:00",
          "2022-02-16T00:00:00",
          "2022-02-21T00:00:00",
          "2022-03-03T00:00:00",
          "2022-03-08T00:00:00",
          "2022-03-15T00:00:00",
          "2022-03-17T00:00:00",
          "2022-03-29T00:00:00",
          "2022-03-30T00:00:00",
          "2022-04-04T00:00:00",
          "2022-04-08T00:00:00",
          "2022-04-12T00:00:00",
          "2022-04-19T00:00:00",
          "2022-04-20T00:00:00",
          "2022-04-21T00:00:00",
          "2022-04-26T00:00:00",
          "2022-04-28T00:00:00",
          "2022-05-04T00:00:00",
          "2022-05-05T00:00:00",
          "2022-05-09T00:00:00",
          "2022-05-10T00:00:00",
          "2022-05-11T00:00:00",
          "2022-05-14T00:00:00",
          "2022-05-16T00:00:00",
          "2022-05-17T00:00:00",
          "2022-05-20T00:00:00",
          "2022-05-23T00:00:00",
          "2022-05-25T00:00:00",
          "2022-05-26T00:00:00",
          "2022-05-27T00:00:00",
          "2022-05-30T00:00:00",
          "2022-05-31T00:00:00",
          "2022-06-01T00:00:00",
          "2022-06-02T00:00:00",
          "2022-06-03T00:00:00",
          "2022-06-06T00:00:00",
          "2022-06-07T00:00:00",
          "2022-06-08T00:00:00",
          "2022-06-09T00:00:00",
          "2022-06-10T00:00:00",
          "2022-06-13T00:00:00",
          "2022-06-14T00:00:00",
          "2022-06-15T00:00:00",
          "2022-06-16T00:00:00",
          "2022-06-17T00:00:00",
          "2022-06-18T00:00:00",
          "2022-06-19T00:00:00",
          "2022-06-20T00:00:00",
          "2022-06-21T00:00:00",
          "2022-06-22T00:00:00",
          "2022-06-23T00:00:00",
          "2022-06-24T00:00:00",
          "2022-06-27T00:00:00",
          "2022-06-28T00:00:00",
          "2022-06-29T00:00:00",
          "2022-06-30T00:00:00",
          "2022-07-01T00:00:00",
          "2022-07-03T00:00:00",
          "2022-07-04T00:00:00",
          "2022-07-05T00:00:00",
          "2022-07-06T00:00:00",
          "2022-07-07T00:00:00",
          "2022-07-08T00:00:00",
          "2022-07-11T00:00:00",
          "2022-07-12T00:00:00",
          "2022-07-13T00:00:00",
          "2022-07-14T00:00:00",
          "2022-07-15T00:00:00",
          "2022-07-18T00:00:00",
          "2022-07-20T00:00:00",
          "2022-07-21T00:00:00",
          "2022-07-22T00:00:00",
          "2022-07-25T00:00:00",
          "2022-07-26T00:00:00",
          "2022-07-27T00:00:00",
          "2022-07-28T00:00:00",
          "2022-07-29T00:00:00",
          "2022-07-31T00:00:00",
          "2022-08-01T00:00:00",
          "2022-08-02T00:00:00",
          "2022-08-03T00:00:00",
          "2022-08-04T00:00:00",
          "2022-08-05T00:00:00",
          "2022-08-08T00:00:00",
          "2022-08-09T00:00:00",
          "2022-08-10T00:00:00",
          "2022-08-11T00:00:00",
          "2022-08-15T00:00:00",
          "2022-08-16T00:00:00",
          "2022-08-17T00:00:00",
          "2022-08-18T00:00:00",
          "2022-08-20T00:00:00",
          "2022-08-21T00:00:00",
          "2022-08-23T00:00:00",
          "2022-08-24T00:00:00",
          "2022-08-26T00:00:00",
          "2022-08-29T00:00:00",
          "2022-08-30T00:00:00",
          "2022-08-31T00:00:00",
          "2022-09-01T00:00:00",
          "2022-09-02T00:00:00",
          "2022-09-06T00:00:00",
          "2022-09-07T00:00:00",
          "2022-09-08T00:00:00",
          "2022-09-12T00:00:00",
          "2022-09-13T00:00:00",
          "2022-09-14T00:00:00",
          "2022-09-15T00:00:00",
          "2022-09-16T00:00:00",
          "2022-09-19T00:00:00",
          "2022-09-20T00:00:00",
          "2022-09-23T00:00:00",
          "2022-09-27T00:00:00",
          "2022-09-29T00:00:00",
          "2022-09-30T00:00:00",
          "2022-10-04T00:00:00",
          "2022-10-05T00:00:00",
          "2022-10-07T00:00:00",
          "2022-10-10T00:00:00",
          "2022-10-11T00:00:00",
          "2022-10-12T00:00:00",
          "2022-10-14T00:00:00",
          "2022-10-16T00:00:00",
          "2022-10-18T00:00:00",
          "2022-10-19T00:00:00",
          "2022-10-20T00:00:00",
          "2022-10-21T00:00:00",
          "2022-10-23T00:00:00",
          "2022-10-24T00:00:00",
          "2022-10-25T00:00:00",
          "2022-10-26T00:00:00",
          "2022-10-27T00:00:00",
          "2022-10-31T00:00:00",
          "2022-11-01T00:00:00",
          "2022-11-02T00:00:00",
          "2022-11-03T00:00:00",
          "2022-11-04T00:00:00",
          "2022-11-06T00:00:00",
          "2022-11-07T00:00:00",
          "2022-11-08T00:00:00",
          "2022-11-09T00:00:00",
          "2022-11-10T00:00:00",
          "2022-11-11T00:00:00",
          "2022-11-14T00:00:00",
          "2022-11-15T00:00:00",
          "2022-11-16T00:00:00",
          "2022-11-17T00:00:00",
          "2022-11-18T00:00:00",
          "2022-11-19T00:00:00",
          "2022-11-21T00:00:00",
          "2022-11-22T00:00:00",
          "2022-11-24T00:00:00",
          "2022-11-25T00:00:00",
          "2022-11-28T00:00:00",
          "2022-11-29T00:00:00",
          "2022-11-30T00:00:00",
          "2022-12-01T00:00:00",
          "2022-12-02T00:00:00",
          "2022-12-05T00:00:00",
          "2022-12-06T00:00:00",
          "2022-12-07T00:00:00",
          "2022-12-08T00:00:00",
          "2022-12-09T00:00:00",
          "2022-12-10T00:00:00",
          "2022-12-12T00:00:00",
          "2022-12-13T00:00:00",
          "2022-12-14T00:00:00",
          "2022-12-15T00:00:00",
          "2022-12-16T00:00:00",
          "2022-12-19T00:00:00",
          "2022-12-20T00:00:00",
          "2022-12-21T00:00:00",
          "2022-12-23T00:00:00",
          "2023-01-03T00:00:00",
          "2023-01-04T00:00:00",
          "2023-01-05T00:00:00",
          "2023-01-06T00:00:00",
          "2023-01-08T00:00:00",
          "2023-01-10T00:00:00",
          "2023-01-11T00:00:00",
          "2023-01-12T00:00:00",
          "2023-01-15T00:00:00",
          "2023-01-16T00:00:00",
          "2023-01-17T00:00:00",
          "2023-01-18T00:00:00",
          "2023-01-19T00:00:00",
          "2023-01-20T00:00:00",
          "2023-01-23T00:00:00",
          "2023-01-24T00:00:00",
          "2023-01-25T00:00:00",
          "2023-01-26T00:00:00",
          "2023-01-27T00:00:00",
          "2023-01-30T00:00:00",
          "2023-01-31T00:00:00",
          "2023-02-01T00:00:00",
          "2023-02-02T00:00:00",
          "2023-02-03T00:00:00",
          "2023-02-05T00:00:00",
          "2023-02-06T00:00:00",
          "2023-02-07T00:00:00",
          "2023-02-08T00:00:00",
          "2023-02-09T00:00:00",
          "2023-02-10T00:00:00",
          "2023-02-12T00:00:00",
          "2023-02-13T00:00:00",
          "2023-02-15T00:00:00",
          "2023-02-16T00:00:00",
          "2023-02-17T00:00:00",
          "2023-02-20T00:00:00",
          "2023-02-21T00:00:00",
          "2023-02-23T00:00:00",
          "2023-02-27T00:00:00",
          "2023-02-28T00:00:00",
          "2023-03-01T00:00:00",
          "2023-03-02T00:00:00",
          "2023-03-03T00:00:00",
          "2023-03-07T00:00:00",
          "2023-03-08T00:00:00",
          "2023-03-14T00:00:00",
          "2023-03-15T00:00:00",
          "2023-03-16T00:00:00",
          "2023-03-17T00:00:00",
          "2023-03-21T00:00:00",
          "2023-03-22T00:00:00",
          "2023-03-23T00:00:00",
          "2023-03-28T00:00:00",
          "2023-03-29T00:00:00",
          "2023-03-30T00:00:00",
          "2023-03-31T00:00:00",
          "2023-04-03T00:00:00",
          "2023-04-04T00:00:00",
          "2023-04-05T00:00:00",
          "2023-04-07T00:00:00",
          "2023-04-09T00:00:00",
          "2023-04-10T00:00:00",
          "2023-04-11T00:00:00",
          "2023-04-12T00:00:00",
          "2023-04-13T00:00:00",
          "2023-04-14T00:00:00",
          "2023-04-17T00:00:00",
          "2023-04-18T00:00:00",
          "2023-04-19T00:00:00",
          "2023-04-20T00:00:00",
          "2023-04-21T00:00:00",
          "2023-04-24T00:00:00",
          "2023-04-25T00:00:00",
          "2023-04-26T00:00:00",
          "2023-04-27T00:00:00",
          "2023-04-28T00:00:00",
          "2023-05-02T00:00:00",
          "2023-05-03T00:00:00",
          "2023-05-04T00:00:00",
          "2023-05-05T00:00:00",
          "2023-05-09T00:00:00",
          "2023-05-10T00:00:00",
          "2023-05-11T00:00:00",
          "2023-05-12T00:00:00",
          "2023-05-16T00:00:00",
          "2023-05-17T00:00:00",
          "2023-05-18T00:00:00",
          "2023-05-24T00:00:00",
          "2023-05-25T00:00:00",
          "2023-05-26T00:00:00",
          "2023-05-29T00:00:00",
          "2023-05-30T00:00:00",
          "2023-05-31T00:00:00",
          "2023-06-01T00:00:00",
          "2023-06-02T00:00:00",
          "2023-06-06T00:00:00",
          "2023-06-08T00:00:00",
          "2023-06-09T00:00:00",
          "2023-06-11T00:00:00",
          "2023-06-12T00:00:00",
          "2023-06-14T00:00:00",
          "2023-06-15T00:00:00",
          "2023-06-16T00:00:00",
          "2023-06-19T00:00:00",
          "2023-06-21T00:00:00",
          "2023-06-26T00:00:00",
          "2023-06-27T00:00:00",
          "2023-06-28T00:00:00",
          "2023-06-29T00:00:00",
          "2023-07-02T00:00:00",
          "2023-07-03T00:00:00",
          "2023-07-06T00:00:00",
          "2023-07-11T00:00:00",
          "2023-07-12T00:00:00",
          "2023-07-13T00:00:00",
          "2023-07-14T00:00:00",
          "2023-07-17T00:00:00",
          "2023-07-19T00:00:00",
          "2023-07-25T00:00:00",
          "2023-07-26T00:00:00",
          "2023-07-27T00:00:00",
          "2023-07-28T00:00:00",
          "2023-07-30T00:00:00",
          "2023-07-31T00:00:00",
          "2023-08-01T00:00:00",
          "2023-08-02T00:00:00",
          "2023-08-03T00:00:00",
          "2023-08-04T00:00:00",
          "2023-08-08T00:00:00",
          "2023-08-09T00:00:00",
          "2023-08-14T00:00:00",
          "2023-08-17T00:00:00",
          "2023-08-20T00:00:00",
          "2023-08-23T00:00:00",
          "2023-08-24T00:00:00",
          "2023-08-29T00:00:00",
          "2023-08-30T00:00:00",
          "2023-09-04T00:00:00",
          "2023-09-05T00:00:00",
          "2023-09-06T00:00:00",
          "2023-09-07T00:00:00",
          "2023-09-11T00:00:00",
          "2023-09-12T00:00:00",
          "2023-09-14T00:00:00",
          "2023-09-15T00:00:00",
          "2023-09-22T00:00:00",
          "2023-09-25T00:00:00",
          "2023-09-26T00:00:00",
          "2023-09-27T00:00:00",
          "2023-09-29T00:00:00",
          "2023-10-02T00:00:00",
          "2023-10-04T00:00:00",
          "2023-10-05T00:00:00",
          "2023-10-06T00:00:00",
          "2023-10-09T00:00:00",
          "2023-10-11T00:00:00",
          "2023-10-12T00:00:00",
          "2023-10-16T00:00:00",
          "2023-10-18T00:00:00",
          "2023-10-19T00:00:00",
          "2023-10-20T00:00:00",
          "2023-10-24T00:00:00",
          "2023-11-01T00:00:00",
          "2023-11-02T00:00:00",
          "2023-11-12T00:00:00",
          "2023-11-19T00:00:00",
          "2023-11-27T00:00:00",
          "2023-11-28T00:00:00",
          "2023-11-30T00:00:00",
          "2023-12-05T00:00:00",
          "2023-12-11T00:00:00",
          "2023-12-13T00:00:00",
          "2023-12-18T00:00:00",
          "2023-12-19T00:00:00",
          "2024-01-03T00:00:00",
          "2024-01-04T00:00:00"
         ],
         "xaxis": "x",
         "y": [
          20,
          8,
          130,
          4,
          50,
          30,
          327,
          480,
          450,
          370,
          1048,
          250,
          400,
          611,
          948,
          429,
          879,
          693,
          50,
          40,
          375,
          1326,
          719,
          575,
          71,
          237,
          469,
          616,
          255,
          517,
          637,
          351,
          65,
          267,
          161,
          30,
          280,
          162,
          264,
          231,
          120,
          596,
          200,
          100,
          450,
          9,
          88,
          190,
          76,
          105,
          16,
          69,
          440,
          488,
          212,
          545,
          62,
          374,
          26,
          182,
          89,
          64,
          3,
          63,
          114,
          40,
          174,
          130,
          17,
          100,
          300,
          60,
          22,
          64,
          180,
          75,
          150,
          250,
          350,
          22,
          30,
          47,
          90,
          20,
          30,
          5,
          180,
          87,
          200,
          160,
          37,
          70,
          80,
          57,
          198,
          119,
          100,
          111,
          100,
          100,
          415,
          100,
          100,
          59,
          98,
          20,
          100,
          360,
          260,
          180,
          29,
          150,
          132,
          362,
          350,
          540,
          70,
          400,
          100,
          190,
          287,
          170,
          125,
          280,
          174,
          600,
          56,
          319,
          774,
          44,
          50,
          318,
          450,
          627,
          735,
          339,
          149,
          776,
          95,
          85,
          150,
          200,
          240,
          456,
          358,
          115,
          441,
          97,
          628,
          328,
          516,
          73,
          150,
          125,
          805,
          180,
          180,
          156,
          266,
          45,
          952,
          220,
          187,
          98,
          302,
          379,
          93,
          25,
          181,
          99,
          120,
          165,
          16,
          58,
          381,
          87,
          773,
          221,
          20,
          958,
          77,
          379,
          486,
          97,
          125,
          145,
          13,
          155,
          428,
          15,
          20,
          95,
          38,
          299,
          245,
          23,
          70,
          121,
          55,
          11,
          180,
          109,
          298,
          230,
          29,
          153,
          120,
          40,
          40,
          78,
          305,
          50,
          120,
          247,
          190,
          150,
          400,
          24,
          56,
          52,
          314,
          193,
          85,
          648,
          197,
          900,
          294,
          355,
          500,
          526,
          210,
          129,
          110,
          890,
          65,
          807,
          230,
          160,
          666,
          431,
          826,
          367,
          105,
          100,
          93,
          240,
          120,
          97,
          515,
          60,
          610,
          295,
          47,
          95,
          295,
          1361,
          648,
          280,
          63,
          400,
          333,
          90,
          410,
          54,
          18,
          91,
          350,
          93,
          76,
          171,
          489,
          315,
          93,
          736,
          493,
          821,
          140,
          50,
          252,
          1262,
          277,
          383,
          90,
          306,
          670,
          221,
          169,
          65,
          644,
          371,
          219,
          179,
          20,
          350,
          339,
          261,
          597,
          100,
          360,
          226,
          1101,
          715,
          100,
          238,
          140,
          150,
          504,
          80,
          300,
          219,
          340,
          380,
          42,
          240,
          113,
          196,
          150,
          225,
          180,
          10,
          46,
          23,
          236,
          89,
          63,
          15,
          485,
          100,
          150,
          55,
          326,
          300,
          100,
          92,
          179,
          106,
          112,
          293,
          74,
          40,
          185,
          30,
          587,
          326,
          77,
          299,
          80,
          521,
          470,
          188,
          250,
          160,
          45,
          40,
          63,
          332,
          75,
          130,
          164,
          120,
          752,
          90,
          120,
          244,
          295,
          263,
          80,
          730,
          313,
          100,
          45,
          48,
          38,
          30,
          255,
          127,
          244,
          300,
          24,
          154,
          570,
          50,
          110,
          14,
          75,
          145,
          46,
          410,
          121,
          200,
          200,
          13,
          263,
          828,
          37,
          42,
          171,
          150,
          300,
          209,
          283,
          346,
          8,
          50,
          192,
          17,
          54,
          360,
          100,
          134,
          329,
          40,
          30,
          35,
          75,
          281,
          30,
          28,
          262,
          250,
          29,
          80,
          114,
          20,
          256,
          80,
          265,
          161,
          119,
          130,
          73,
          65,
          125,
          120,
          128,
          150,
          70,
          40,
          15,
          225,
          350,
          100,
          60,
          30
         ],
         "yaxis": "y"
        }
       ],
       "layout": {
        "legend": {
         "tracegroupgap": 0
        },
        "template": {
         "data": {
          "bar": [
           {
            "error_x": {
             "color": "#f2f5fa"
            },
            "error_y": {
             "color": "#f2f5fa"
            },
            "marker": {
             "line": {
              "color": "rgb(17,17,17)",
              "width": 0.5
             },
             "pattern": {
              "fillmode": "overlay",
              "size": 10,
              "solidity": 0.2
             }
            },
            "type": "bar"
           }
          ],
          "barpolar": [
           {
            "marker": {
             "line": {
              "color": "rgb(17,17,17)",
              "width": 0.5
             },
             "pattern": {
              "fillmode": "overlay",
              "size": 10,
              "solidity": 0.2
             }
            },
            "type": "barpolar"
           }
          ],
          "carpet": [
           {
            "aaxis": {
             "endlinecolor": "#A2B1C6",
             "gridcolor": "#506784",
             "linecolor": "#506784",
             "minorgridcolor": "#506784",
             "startlinecolor": "#A2B1C6"
            },
            "baxis": {
             "endlinecolor": "#A2B1C6",
             "gridcolor": "#506784",
             "linecolor": "#506784",
             "minorgridcolor": "#506784",
             "startlinecolor": "#A2B1C6"
            },
            "type": "carpet"
           }
          ],
          "choropleth": [
           {
            "colorbar": {
             "outlinewidth": 0,
             "ticks": ""
            },
            "type": "choropleth"
           }
          ],
          "contour": [
           {
            "colorbar": {
             "outlinewidth": 0,
             "ticks": ""
            },
            "colorscale": [
             [
              0,
              "#0d0887"
             ],
             [
              0.1111111111111111,
              "#46039f"
             ],
             [
              0.2222222222222222,
              "#7201a8"
             ],
             [
              0.3333333333333333,
              "#9c179e"
             ],
             [
              0.4444444444444444,
              "#bd3786"
             ],
             [
              0.5555555555555556,
              "#d8576b"
             ],
             [
              0.6666666666666666,
              "#ed7953"
             ],
             [
              0.7777777777777778,
              "#fb9f3a"
             ],
             [
              0.8888888888888888,
              "#fdca26"
             ],
             [
              1,
              "#f0f921"
             ]
            ],
            "type": "contour"
           }
          ],
          "contourcarpet": [
           {
            "colorbar": {
             "outlinewidth": 0,
             "ticks": ""
            },
            "type": "contourcarpet"
           }
          ],
          "heatmap": [
           {
            "colorbar": {
             "outlinewidth": 0,
             "ticks": ""
            },
            "colorscale": [
             [
              0,
              "#0d0887"
             ],
             [
              0.1111111111111111,
              "#46039f"
             ],
             [
              0.2222222222222222,
              "#7201a8"
             ],
             [
              0.3333333333333333,
              "#9c179e"
             ],
             [
              0.4444444444444444,
              "#bd3786"
             ],
             [
              0.5555555555555556,
              "#d8576b"
             ],
             [
              0.6666666666666666,
              "#ed7953"
             ],
             [
              0.7777777777777778,
              "#fb9f3a"
             ],
             [
              0.8888888888888888,
              "#fdca26"
             ],
             [
              1,
              "#f0f921"
             ]
            ],
            "type": "heatmap"
           }
          ],
          "heatmapgl": [
           {
            "colorbar": {
             "outlinewidth": 0,
             "ticks": ""
            },
            "colorscale": [
             [
              0,
              "#0d0887"
             ],
             [
              0.1111111111111111,
              "#46039f"
             ],
             [
              0.2222222222222222,
              "#7201a8"
             ],
             [
              0.3333333333333333,
              "#9c179e"
             ],
             [
              0.4444444444444444,
              "#bd3786"
             ],
             [
              0.5555555555555556,
              "#d8576b"
             ],
             [
              0.6666666666666666,
              "#ed7953"
             ],
             [
              0.7777777777777778,
              "#fb9f3a"
             ],
             [
              0.8888888888888888,
              "#fdca26"
             ],
             [
              1,
              "#f0f921"
             ]
            ],
            "type": "heatmapgl"
           }
          ],
          "histogram": [
           {
            "marker": {
             "pattern": {
              "fillmode": "overlay",
              "size": 10,
              "solidity": 0.2
             }
            },
            "type": "histogram"
           }
          ],
          "histogram2d": [
           {
            "colorbar": {
             "outlinewidth": 0,
             "ticks": ""
            },
            "colorscale": [
             [
              0,
              "#0d0887"
             ],
             [
              0.1111111111111111,
              "#46039f"
             ],
             [
              0.2222222222222222,
              "#7201a8"
             ],
             [
              0.3333333333333333,
              "#9c179e"
             ],
             [
              0.4444444444444444,
              "#bd3786"
             ],
             [
              0.5555555555555556,
              "#d8576b"
             ],
             [
              0.6666666666666666,
              "#ed7953"
             ],
             [
              0.7777777777777778,
              "#fb9f3a"
             ],
             [
              0.8888888888888888,
              "#fdca26"
             ],
             [
              1,
              "#f0f921"
             ]
            ],
            "type": "histogram2d"
           }
          ],
          "histogram2dcontour": [
           {
            "colorbar": {
             "outlinewidth": 0,
             "ticks": ""
            },
            "colorscale": [
             [
              0,
              "#0d0887"
             ],
             [
              0.1111111111111111,
              "#46039f"
             ],
             [
              0.2222222222222222,
              "#7201a8"
             ],
             [
              0.3333333333333333,
              "#9c179e"
             ],
             [
              0.4444444444444444,
              "#bd3786"
             ],
             [
              0.5555555555555556,
              "#d8576b"
             ],
             [
              0.6666666666666666,
              "#ed7953"
             ],
             [
              0.7777777777777778,
              "#fb9f3a"
             ],
             [
              0.8888888888888888,
              "#fdca26"
             ],
             [
              1,
              "#f0f921"
             ]
            ],
            "type": "histogram2dcontour"
           }
          ],
          "mesh3d": [
           {
            "colorbar": {
             "outlinewidth": 0,
             "ticks": ""
            },
            "type": "mesh3d"
           }
          ],
          "parcoords": [
           {
            "line": {
             "colorbar": {
              "outlinewidth": 0,
              "ticks": ""
             }
            },
            "type": "parcoords"
           }
          ],
          "pie": [
           {
            "automargin": true,
            "type": "pie"
           }
          ],
          "scatter": [
           {
            "marker": {
             "line": {
              "color": "#283442"
             }
            },
            "type": "scatter"
           }
          ],
          "scatter3d": [
           {
            "line": {
             "colorbar": {
              "outlinewidth": 0,
              "ticks": ""
             }
            },
            "marker": {
             "colorbar": {
              "outlinewidth": 0,
              "ticks": ""
             }
            },
            "type": "scatter3d"
           }
          ],
          "scattercarpet": [
           {
            "marker": {
             "colorbar": {
              "outlinewidth": 0,
              "ticks": ""
             }
            },
            "type": "scattercarpet"
           }
          ],
          "scattergeo": [
           {
            "marker": {
             "colorbar": {
              "outlinewidth": 0,
              "ticks": ""
             }
            },
            "type": "scattergeo"
           }
          ],
          "scattergl": [
           {
            "marker": {
             "line": {
              "color": "#283442"
             }
            },
            "type": "scattergl"
           }
          ],
          "scattermapbox": [
           {
            "marker": {
             "colorbar": {
              "outlinewidth": 0,
              "ticks": ""
             }
            },
            "type": "scattermapbox"
           }
          ],
          "scatterpolar": [
           {
            "marker": {
             "colorbar": {
              "outlinewidth": 0,
              "ticks": ""
             }
            },
            "type": "scatterpolar"
           }
          ],
          "scatterpolargl": [
           {
            "marker": {
             "colorbar": {
              "outlinewidth": 0,
              "ticks": ""
             }
            },
            "type": "scatterpolargl"
           }
          ],
          "scatterternary": [
           {
            "marker": {
             "colorbar": {
              "outlinewidth": 0,
              "ticks": ""
             }
            },
            "type": "scatterternary"
           }
          ],
          "surface": [
           {
            "colorbar": {
             "outlinewidth": 0,
             "ticks": ""
            },
            "colorscale": [
             [
              0,
              "#0d0887"
             ],
             [
              0.1111111111111111,
              "#46039f"
             ],
             [
              0.2222222222222222,
              "#7201a8"
             ],
             [
              0.3333333333333333,
              "#9c179e"
             ],
             [
              0.4444444444444444,
              "#bd3786"
             ],
             [
              0.5555555555555556,
              "#d8576b"
             ],
             [
              0.6666666666666666,
              "#ed7953"
             ],
             [
              0.7777777777777778,
              "#fb9f3a"
             ],
             [
              0.8888888888888888,
              "#fdca26"
             ],
             [
              1,
              "#f0f921"
             ]
            ],
            "type": "surface"
           }
          ],
          "table": [
           {
            "cells": {
             "fill": {
              "color": "#506784"
             },
             "line": {
              "color": "rgb(17,17,17)"
             }
            },
            "header": {
             "fill": {
              "color": "#2a3f5f"
             },
             "line": {
              "color": "rgb(17,17,17)"
             }
            },
            "type": "table"
           }
          ]
         },
         "layout": {
          "annotationdefaults": {
           "arrowcolor": "#f2f5fa",
           "arrowhead": 0,
           "arrowwidth": 1
          },
          "autotypenumbers": "strict",
          "coloraxis": {
           "colorbar": {
            "outlinewidth": 0,
            "ticks": ""
           }
          },
          "colorscale": {
           "diverging": [
            [
             0,
             "#8e0152"
            ],
            [
             0.1,
             "#c51b7d"
            ],
            [
             0.2,
             "#de77ae"
            ],
            [
             0.3,
             "#f1b6da"
            ],
            [
             0.4,
             "#fde0ef"
            ],
            [
             0.5,
             "#f7f7f7"
            ],
            [
             0.6,
             "#e6f5d0"
            ],
            [
             0.7,
             "#b8e186"
            ],
            [
             0.8,
             "#7fbc41"
            ],
            [
             0.9,
             "#4d9221"
            ],
            [
             1,
             "#276419"
            ]
           ],
           "sequential": [
            [
             0,
             "#0d0887"
            ],
            [
             0.1111111111111111,
             "#46039f"
            ],
            [
             0.2222222222222222,
             "#7201a8"
            ],
            [
             0.3333333333333333,
             "#9c179e"
            ],
            [
             0.4444444444444444,
             "#bd3786"
            ],
            [
             0.5555555555555556,
             "#d8576b"
            ],
            [
             0.6666666666666666,
             "#ed7953"
            ],
            [
             0.7777777777777778,
             "#fb9f3a"
            ],
            [
             0.8888888888888888,
             "#fdca26"
            ],
            [
             1,
             "#f0f921"
            ]
           ],
           "sequentialminus": [
            [
             0,
             "#0d0887"
            ],
            [
             0.1111111111111111,
             "#46039f"
            ],
            [
             0.2222222222222222,
             "#7201a8"
            ],
            [
             0.3333333333333333,
             "#9c179e"
            ],
            [
             0.4444444444444444,
             "#bd3786"
            ],
            [
             0.5555555555555556,
             "#d8576b"
            ],
            [
             0.6666666666666666,
             "#ed7953"
            ],
            [
             0.7777777777777778,
             "#fb9f3a"
            ],
            [
             0.8888888888888888,
             "#fdca26"
            ],
            [
             1,
             "#f0f921"
            ]
           ]
          },
          "colorway": [
           "#636efa",
           "#EF553B",
           "#00cc96",
           "#ab63fa",
           "#FFA15A",
           "#19d3f3",
           "#FF6692",
           "#B6E880",
           "#FF97FF",
           "#FECB52"
          ],
          "font": {
           "color": "#f2f5fa"
          },
          "geo": {
           "bgcolor": "rgb(17,17,17)",
           "lakecolor": "rgb(17,17,17)",
           "landcolor": "rgb(17,17,17)",
           "showlakes": true,
           "showland": true,
           "subunitcolor": "#506784"
          },
          "hoverlabel": {
           "align": "left"
          },
          "hovermode": "closest",
          "mapbox": {
           "style": "dark"
          },
          "paper_bgcolor": "rgb(17,17,17)",
          "plot_bgcolor": "rgb(17,17,17)",
          "polar": {
           "angularaxis": {
            "gridcolor": "#506784",
            "linecolor": "#506784",
            "ticks": ""
           },
           "bgcolor": "rgb(17,17,17)",
           "radialaxis": {
            "gridcolor": "#506784",
            "linecolor": "#506784",
            "ticks": ""
           }
          },
          "scene": {
           "xaxis": {
            "backgroundcolor": "rgb(17,17,17)",
            "gridcolor": "#506784",
            "gridwidth": 2,
            "linecolor": "#506784",
            "showbackground": true,
            "ticks": "",
            "zerolinecolor": "#C8D4E3"
           },
           "yaxis": {
            "backgroundcolor": "rgb(17,17,17)",
            "gridcolor": "#506784",
            "gridwidth": 2,
            "linecolor": "#506784",
            "showbackground": true,
            "ticks": "",
            "zerolinecolor": "#C8D4E3"
           },
           "zaxis": {
            "backgroundcolor": "rgb(17,17,17)",
            "gridcolor": "#506784",
            "gridwidth": 2,
            "linecolor": "#506784",
            "showbackground": true,
            "ticks": "",
            "zerolinecolor": "#C8D4E3"
           }
          },
          "shapedefaults": {
           "line": {
            "color": "#f2f5fa"
           }
          },
          "sliderdefaults": {
           "bgcolor": "#C8D4E3",
           "bordercolor": "rgb(17,17,17)",
           "borderwidth": 1,
           "tickwidth": 0
          },
          "ternary": {
           "aaxis": {
            "gridcolor": "#506784",
            "linecolor": "#506784",
            "ticks": ""
           },
           "baxis": {
            "gridcolor": "#506784",
            "linecolor": "#506784",
            "ticks": ""
           },
           "bgcolor": "rgb(17,17,17)",
           "caxis": {
            "gridcolor": "#506784",
            "linecolor": "#506784",
            "ticks": ""
           }
          },
          "title": {
           "x": 0.05
          },
          "updatemenudefaults": {
           "bgcolor": "#506784",
           "borderwidth": 0
          },
          "xaxis": {
           "automargin": true,
           "gridcolor": "#283442",
           "linecolor": "#506784",
           "ticks": "",
           "title": {
            "standoff": 15
           },
           "zerolinecolor": "#283442",
           "zerolinewidth": 2
          },
          "yaxis": {
           "automargin": true,
           "gridcolor": "#283442",
           "linecolor": "#506784",
           "ticks": "",
           "title": {
            "standoff": 15
           },
           "zerolinecolor": "#283442",
           "zerolinewidth": 2
          }
         }
        },
        "title": {
         "text": "Trend of Layoffs",
         "x": 0.5
        },
        "xaxis": {
         "anchor": "y",
         "domain": [
          0,
          1
         ],
         "title": {
          "text": "Date"
         }
        },
        "yaxis": {
         "anchor": "x",
         "domain": [
          0,
          1
         ],
         "title": {
          "text": "Layoffs"
         }
        }
       }
      }
     },
     "metadata": {},
     "output_type": "display_data"
    }
   ],
   "source": [
    "clean_df.loc[:, 'Date'] = pd.to_datetime(clean_df['Date'])\n",
    "\n",
    "date_layoffs = (\n",
    "    clean_df\n",
    "    .groupby('Date')['Layoffs']\n",
    "    .sum()\n",
    "    .reset_index()\n",
    ")\n",
    "\n",
    "# Time series plot for layoffs over time\n",
    "fig_date = px.line(\n",
    "    date_layoffs,\n",
    "    x = 'Date',\n",
    "    y = 'Layoffs',\n",
    "    title = 'Trend of Layoffs',\n",
    "    template = 'plotly_dark'\n",
    ")\n",
    "\n",
    "fig_date.update_layout(title_x = 0.5)\n",
    "fig_date.update_traces(line_color = 'red')\n",
    "\n",
    "fig_date.show()"
   ]
  },
  {
   "cell_type": "code",
   "execution_count": 19,
   "id": "e3c902ca-1921-41bc-ac60-449ed7726f70",
   "metadata": {},
   "outputs": [
    {
     "data": {
      "application/vnd.plotly.v1+json": {
       "config": {
        "plotlyServerURL": "https://plot.ly"
       },
       "data": [
        {
         "hovertemplate": "Date=%{x}<br>Number of Layoffs=%{y}<extra></extra>",
         "legendgroup": "",
         "line": {
          "color": "blue",
          "dash": "solid",
          "width": 2.5
         },
         "marker": {
          "symbol": "circle"
         },
         "mode": "lines",
         "name": "",
         "showlegend": false,
         "type": "scattergl",
         "x": [
          "2020-03-12T00:00:00",
          "2020-03-13T00:00:00",
          "2020-03-16T00:00:00",
          "2020-03-18T00:00:00",
          "2020-03-19T00:00:00",
          "2020-03-20T00:00:00",
          "2020-03-23T00:00:00",
          "2020-03-23T00:00:00",
          "2020-03-23T00:00:00",
          "2020-03-23T00:00:00",
          "2020-03-23T00:00:00",
          "2020-03-23T00:00:00",
          "2020-03-24T00:00:00",
          "2020-03-24T00:00:00",
          "2020-03-25T00:00:00",
          "2020-03-25T00:00:00",
          "2020-03-25T00:00:00",
          "2020-03-25T00:00:00",
          "2020-03-25T00:00:00",
          "2020-03-26T00:00:00",
          "2020-03-26T00:00:00",
          "2020-03-26T00:00:00",
          "2020-03-26T00:00:00",
          "2020-03-27T00:00:00",
          "2020-03-27T00:00:00",
          "2020-03-27T00:00:00",
          "2020-03-27T00:00:00",
          "2020-03-27T00:00:00",
          "2020-03-27T00:00:00",
          "2020-03-27T00:00:00",
          "2020-03-27T00:00:00",
          "2020-03-27T00:00:00",
          "2020-03-28T00:00:00",
          "2020-03-29T00:00:00",
          "2020-03-30T00:00:00",
          "2020-03-30T00:00:00",
          "2020-03-30T00:00:00",
          "2020-03-30T00:00:00",
          "2020-03-30T00:00:00",
          "2020-03-30T00:00:00",
          "2020-03-30T00:00:00",
          "2020-03-31T00:00:00",
          "2020-03-31T00:00:00",
          "2020-03-31T00:00:00",
          "2020-03-31T00:00:00",
          "2020-03-31T00:00:00",
          "2020-03-31T00:00:00",
          "2020-03-31T00:00:00",
          "2020-04-01T00:00:00",
          "2020-04-01T00:00:00",
          "2020-04-01T00:00:00",
          "2020-04-01T00:00:00",
          "2020-04-01T00:00:00",
          "2020-04-01T00:00:00",
          "2020-04-01T00:00:00",
          "2020-04-01T00:00:00",
          "2020-04-01T00:00:00",
          "2020-04-01T00:00:00",
          "2020-04-01T00:00:00",
          "2020-04-02T00:00:00",
          "2020-04-02T00:00:00",
          "2020-04-02T00:00:00",
          "2020-04-02T00:00:00",
          "2020-04-02T00:00:00",
          "2020-04-02T00:00:00",
          "2020-04-02T00:00:00",
          "2020-04-02T00:00:00",
          "2020-04-02T00:00:00",
          "2020-04-02T00:00:00",
          "2020-04-02T00:00:00",
          "2020-04-02T00:00:00",
          "2020-04-02T00:00:00",
          "2020-04-02T00:00:00",
          "2020-04-03T00:00:00",
          "2020-04-03T00:00:00",
          "2020-04-03T00:00:00",
          "2020-04-03T00:00:00",
          "2020-04-03T00:00:00",
          "2020-04-03T00:00:00",
          "2020-04-03T00:00:00",
          "2020-04-03T00:00:00",
          "2020-04-04T00:00:00",
          "2020-04-05T00:00:00",
          "2020-04-06T00:00:00",
          "2020-04-06T00:00:00",
          "2020-04-06T00:00:00",
          "2020-04-06T00:00:00",
          "2020-04-06T00:00:00",
          "2020-04-06T00:00:00",
          "2020-04-06T00:00:00",
          "2020-04-06T00:00:00",
          "2020-04-07T00:00:00",
          "2020-04-07T00:00:00",
          "2020-04-07T00:00:00",
          "2020-04-07T00:00:00",
          "2020-04-07T00:00:00",
          "2020-04-07T00:00:00",
          "2020-04-07T00:00:00",
          "2020-04-07T00:00:00",
          "2020-04-08T00:00:00",
          "2020-04-08T00:00:00",
          "2020-04-08T00:00:00",
          "2020-04-08T00:00:00",
          "2020-04-08T00:00:00",
          "2020-04-08T00:00:00",
          "2020-04-08T00:00:00",
          "2020-04-08T00:00:00",
          "2020-04-08T00:00:00",
          "2020-04-08T00:00:00",
          "2020-04-08T00:00:00",
          "2020-04-08T00:00:00",
          "2020-04-09T00:00:00",
          "2020-04-09T00:00:00",
          "2020-04-09T00:00:00",
          "2020-04-09T00:00:00",
          "2020-04-09T00:00:00",
          "2020-04-09T00:00:00",
          "2020-04-09T00:00:00",
          "2020-04-09T00:00:00",
          "2020-04-10T00:00:00",
          "2020-04-10T00:00:00",
          "2020-04-10T00:00:00",
          "2020-04-13T00:00:00",
          "2020-04-13T00:00:00",
          "2020-04-13T00:00:00",
          "2020-04-13T00:00:00",
          "2020-04-14T00:00:00",
          "2020-04-14T00:00:00",
          "2020-04-14T00:00:00",
          "2020-04-14T00:00:00",
          "2020-04-15T00:00:00",
          "2020-04-15T00:00:00",
          "2020-04-15T00:00:00",
          "2020-04-15T00:00:00",
          "2020-04-15T00:00:00",
          "2020-04-16T00:00:00",
          "2020-04-16T00:00:00",
          "2020-04-16T00:00:00",
          "2020-04-17T00:00:00",
          "2020-04-17T00:00:00",
          "2020-04-17T00:00:00",
          "2020-04-17T00:00:00",
          "2020-04-17T00:00:00",
          "2020-04-17T00:00:00",
          "2020-04-17T00:00:00",
          "2020-04-17T00:00:00",
          "2020-04-20T00:00:00",
          "2020-04-20T00:00:00",
          "2020-04-20T00:00:00",
          "2020-04-20T00:00:00",
          "2020-04-20T00:00:00",
          "2020-04-20T00:00:00",
          "2020-04-20T00:00:00",
          "2020-04-21T00:00:00",
          "2020-04-21T00:00:00",
          "2020-04-21T00:00:00",
          "2020-04-21T00:00:00",
          "2020-04-21T00:00:00",
          "2020-04-21T00:00:00",
          "2020-04-22T00:00:00",
          "2020-04-22T00:00:00",
          "2020-04-23T00:00:00",
          "2020-04-23T00:00:00",
          "2020-04-23T00:00:00",
          "2020-04-24T00:00:00",
          "2020-04-24T00:00:00",
          "2020-04-24T00:00:00",
          "2020-04-24T00:00:00",
          "2020-04-24T00:00:00",
          "2020-04-24T00:00:00",
          "2020-04-24T00:00:00",
          "2020-04-25T00:00:00",
          "2020-04-27T00:00:00",
          "2020-04-27T00:00:00",
          "2020-04-28T00:00:00",
          "2020-04-28T00:00:00",
          "2020-04-28T00:00:00",
          "2020-04-28T00:00:00",
          "2020-04-29T00:00:00",
          "2020-04-29T00:00:00",
          "2020-04-29T00:00:00",
          "2020-05-01T00:00:00",
          "2020-05-01T00:00:00",
          "2020-05-01T00:00:00",
          "2020-05-03T00:00:00",
          "2020-05-04T00:00:00",
          "2020-05-04T00:00:00",
          "2020-05-04T00:00:00",
          "2020-05-04T00:00:00",
          "2020-05-04T00:00:00",
          "2020-05-05T00:00:00",
          "2020-05-05T00:00:00",
          "2020-05-05T00:00:00",
          "2020-05-06T00:00:00",
          "2020-05-06T00:00:00",
          "2020-05-07T00:00:00",
          "2020-05-07T00:00:00",
          "2020-05-07T00:00:00",
          "2020-05-07T00:00:00",
          "2020-05-08T00:00:00",
          "2020-05-11T00:00:00",
          "2020-05-11T00:00:00",
          "2020-05-12T00:00:00",
          "2020-05-12T00:00:00",
          "2020-05-12T00:00:00",
          "2020-05-12T00:00:00",
          "2020-05-13T00:00:00",
          "2020-05-13T00:00:00",
          "2020-05-14T00:00:00",
          "2020-05-14T00:00:00",
          "2020-05-15T00:00:00",
          "2020-05-19T00:00:00",
          "2020-05-20T00:00:00",
          "2020-05-20T00:00:00",
          "2020-05-20T00:00:00",
          "2020-05-21T00:00:00",
          "2020-05-21T00:00:00",
          "2020-05-21T00:00:00",
          "2020-05-27T00:00:00",
          "2020-05-27T00:00:00",
          "2020-05-28T00:00:00",
          "2020-05-28T00:00:00",
          "2020-05-28T00:00:00",
          "2020-05-28T00:00:00",
          "2020-05-29T00:00:00",
          "2020-06-01T00:00:00",
          "2020-06-01T00:00:00",
          "2020-06-02T00:00:00",
          "2020-06-02T00:00:00",
          "2020-06-03T00:00:00",
          "2020-06-03T00:00:00",
          "2020-06-03T00:00:00",
          "2020-06-04T00:00:00",
          "2020-06-04T00:00:00",
          "2020-06-05T00:00:00",
          "2020-06-05T00:00:00",
          "2020-06-11T00:00:00",
          "2020-06-12T00:00:00",
          "2020-06-16T00:00:00",
          "2020-06-16T00:00:00",
          "2020-06-17T00:00:00",
          "2020-06-24T00:00:00",
          "2020-06-29T00:00:00",
          "2020-06-30T00:00:00",
          "2020-07-09T00:00:00",
          "2020-07-14T00:00:00",
          "2020-07-15T00:00:00",
          "2020-07-20T00:00:00",
          "2020-07-23T00:00:00",
          "2020-07-28T00:00:00",
          "2020-08-06T00:00:00",
          "2020-08-07T00:00:00",
          "2020-08-11T00:00:00",
          "2020-08-31T00:00:00",
          "2020-09-01T00:00:00",
          "2020-09-09T00:00:00",
          "2020-09-29T00:00:00",
          "2020-10-14T00:00:00",
          "2020-10-29T00:00:00",
          "2020-11-09T00:00:00",
          "2020-11-19T00:00:00",
          "2021-01-23T00:00:00",
          "2021-02-03T00:00:00",
          "2021-02-22T00:00:00",
          "2021-04-06T00:00:00",
          "2021-08-24T00:00:00",
          "2021-11-18T00:00:00",
          "2022-01-26T00:00:00",
          "2022-02-03T00:00:00",
          "2022-02-10T00:00:00",
          "2022-02-10T00:00:00",
          "2022-02-14T00:00:00",
          "2022-02-16T00:00:00",
          "2022-02-21T00:00:00",
          "2022-03-03T00:00:00",
          "2022-03-08T00:00:00",
          "2022-03-15T00:00:00",
          "2022-03-15T00:00:00",
          "2022-03-17T00:00:00",
          "2022-03-29T00:00:00",
          "2022-03-30T00:00:00",
          "2022-04-04T00:00:00",
          "2022-04-04T00:00:00",
          "2022-04-08T00:00:00",
          "2022-04-12T00:00:00",
          "2022-04-19T00:00:00",
          "2022-04-19T00:00:00",
          "2022-04-20T00:00:00",
          "2022-04-21T00:00:00",
          "2022-04-26T00:00:00",
          "2022-04-28T00:00:00",
          "2022-05-04T00:00:00",
          "2022-05-04T00:00:00",
          "2022-05-05T00:00:00",
          "2022-05-05T00:00:00",
          "2022-05-05T00:00:00",
          "2022-05-09T00:00:00",
          "2022-05-10T00:00:00",
          "2022-05-10T00:00:00",
          "2022-05-10T00:00:00",
          "2022-05-11T00:00:00",
          "2022-05-14T00:00:00",
          "2022-05-16T00:00:00",
          "2022-05-17T00:00:00",
          "2022-05-17T00:00:00",
          "2022-05-20T00:00:00",
          "2022-05-20T00:00:00",
          "2022-05-20T00:00:00",
          "2022-05-23T00:00:00",
          "2022-05-23T00:00:00",
          "2022-05-23T00:00:00",
          "2022-05-25T00:00:00",
          "2022-05-25T00:00:00",
          "2022-05-25T00:00:00",
          "2022-05-26T00:00:00",
          "2022-05-26T00:00:00",
          "2022-05-27T00:00:00",
          "2022-05-27T00:00:00",
          "2022-05-30T00:00:00",
          "2022-05-30T00:00:00",
          "2022-05-30T00:00:00",
          "2022-05-31T00:00:00",
          "2022-05-31T00:00:00",
          "2022-06-01T00:00:00",
          "2022-06-01T00:00:00",
          "2022-06-01T00:00:00",
          "2022-06-01T00:00:00",
          "2022-06-01T00:00:00",
          "2022-06-02T00:00:00",
          "2022-06-02T00:00:00",
          "2022-06-02T00:00:00",
          "2022-06-02T00:00:00",
          "2022-06-02T00:00:00",
          "2022-06-02T00:00:00",
          "2022-06-02T00:00:00",
          "2022-06-03T00:00:00",
          "2022-06-03T00:00:00",
          "2022-06-06T00:00:00",
          "2022-06-07T00:00:00",
          "2022-06-07T00:00:00",
          "2022-06-08T00:00:00",
          "2022-06-08T00:00:00",
          "2022-06-08T00:00:00",
          "2022-06-09T00:00:00",
          "2022-06-09T00:00:00",
          "2022-06-09T00:00:00",
          "2022-06-09T00:00:00",
          "2022-06-09T00:00:00",
          "2022-06-09T00:00:00",
          "2022-06-10T00:00:00",
          "2022-06-10T00:00:00",
          "2022-06-10T00:00:00",
          "2022-06-10T00:00:00",
          "2022-06-10T00:00:00",
          "2022-06-10T00:00:00",
          "2022-06-13T00:00:00",
          "2022-06-13T00:00:00",
          "2022-06-13T00:00:00",
          "2022-06-14T00:00:00",
          "2022-06-14T00:00:00",
          "2022-06-14T00:00:00",
          "2022-06-15T00:00:00",
          "2022-06-15T00:00:00",
          "2022-06-15T00:00:00",
          "2022-06-15T00:00:00",
          "2022-06-15T00:00:00",
          "2022-06-15T00:00:00",
          "2022-06-15T00:00:00",
          "2022-06-15T00:00:00",
          "2022-06-16T00:00:00",
          "2022-06-16T00:00:00",
          "2022-06-17T00:00:00",
          "2022-06-17T00:00:00",
          "2022-06-18T00:00:00",
          "2022-06-19T00:00:00",
          "2022-06-19T00:00:00",
          "2022-06-20T00:00:00",
          "2022-06-20T00:00:00",
          "2022-06-20T00:00:00",
          "2022-06-20T00:00:00",
          "2022-06-21T00:00:00",
          "2022-06-21T00:00:00",
          "2022-06-21T00:00:00",
          "2022-06-21T00:00:00",
          "2022-06-22T00:00:00",
          "2022-06-22T00:00:00",
          "2022-06-22T00:00:00",
          "2022-06-22T00:00:00",
          "2022-06-22T00:00:00",
          "2022-06-22T00:00:00",
          "2022-06-23T00:00:00",
          "2022-06-23T00:00:00",
          "2022-06-23T00:00:00",
          "2022-06-23T00:00:00",
          "2022-06-24T00:00:00",
          "2022-06-24T00:00:00",
          "2022-06-24T00:00:00",
          "2022-06-24T00:00:00",
          "2022-06-27T00:00:00",
          "2022-06-27T00:00:00",
          "2022-06-28T00:00:00",
          "2022-06-28T00:00:00",
          "2022-06-28T00:00:00",
          "2022-06-28T00:00:00",
          "2022-06-28T00:00:00",
          "2022-06-28T00:00:00",
          "2022-06-29T00:00:00",
          "2022-06-29T00:00:00",
          "2022-06-29T00:00:00",
          "2022-06-29T00:00:00",
          "2022-06-29T00:00:00",
          "2022-06-29T00:00:00",
          "2022-06-29T00:00:00",
          "2022-06-30T00:00:00",
          "2022-06-30T00:00:00",
          "2022-06-30T00:00:00",
          "2022-06-30T00:00:00",
          "2022-06-30T00:00:00",
          "2022-06-30T00:00:00",
          "2022-07-01T00:00:00",
          "2022-07-01T00:00:00",
          "2022-07-03T00:00:00",
          "2022-07-04T00:00:00",
          "2022-07-04T00:00:00",
          "2022-07-04T00:00:00",
          "2022-07-05T00:00:00",
          "2022-07-05T00:00:00",
          "2022-07-05T00:00:00",
          "2022-07-05T00:00:00",
          "2022-07-05T00:00:00",
          "2022-07-05T00:00:00",
          "2022-07-05T00:00:00",
          "2022-07-05T00:00:00",
          "2022-07-05T00:00:00",
          "2022-07-06T00:00:00",
          "2022-07-06T00:00:00",
          "2022-07-06T00:00:00",
          "2022-07-06T00:00:00",
          "2022-07-07T00:00:00",
          "2022-07-07T00:00:00",
          "2022-07-08T00:00:00",
          "2022-07-11T00:00:00",
          "2022-07-11T00:00:00",
          "2022-07-12T00:00:00",
          "2022-07-13T00:00:00",
          "2022-07-13T00:00:00",
          "2022-07-13T00:00:00",
          "2022-07-13T00:00:00",
          "2022-07-13T00:00:00",
          "2022-07-13T00:00:00",
          "2022-07-14T00:00:00",
          "2022-07-14T00:00:00",
          "2022-07-14T00:00:00",
          "2022-07-14T00:00:00",
          "2022-07-15T00:00:00",
          "2022-07-15T00:00:00",
          "2022-07-15T00:00:00",
          "2022-07-18T00:00:00",
          "2022-07-18T00:00:00",
          "2022-07-20T00:00:00",
          "2022-07-20T00:00:00",
          "2022-07-20T00:00:00",
          "2022-07-20T00:00:00",
          "2022-07-21T00:00:00",
          "2022-07-21T00:00:00",
          "2022-07-21T00:00:00",
          "2022-07-21T00:00:00",
          "2022-07-21T00:00:00",
          "2022-07-22T00:00:00",
          "2022-07-22T00:00:00",
          "2022-07-22T00:00:00",
          "2022-07-25T00:00:00",
          "2022-07-26T00:00:00",
          "2022-07-26T00:00:00",
          "2022-07-26T00:00:00",
          "2022-07-26T00:00:00",
          "2022-07-26T00:00:00",
          "2022-07-27T00:00:00",
          "2022-07-27T00:00:00",
          "2022-07-27T00:00:00",
          "2022-07-28T00:00:00",
          "2022-07-28T00:00:00",
          "2022-07-29T00:00:00",
          "2022-07-29T00:00:00",
          "2022-07-31T00:00:00",
          "2022-08-01T00:00:00",
          "2022-08-02T00:00:00",
          "2022-08-02T00:00:00",
          "2022-08-02T00:00:00",
          "2022-08-02T00:00:00",
          "2022-08-02T00:00:00",
          "2022-08-02T00:00:00",
          "2022-08-02T00:00:00",
          "2022-08-03T00:00:00",
          "2022-08-03T00:00:00",
          "2022-08-04T00:00:00",
          "2022-08-04T00:00:00",
          "2022-08-04T00:00:00",
          "2022-08-04T00:00:00",
          "2022-08-04T00:00:00",
          "2022-08-04T00:00:00",
          "2022-08-05T00:00:00",
          "2022-08-05T00:00:00",
          "2022-08-05T00:00:00",
          "2022-08-08T00:00:00",
          "2022-08-09T00:00:00",
          "2022-08-09T00:00:00",
          "2022-08-09T00:00:00",
          "2022-08-09T00:00:00",
          "2022-08-09T00:00:00",
          "2022-08-09T00:00:00",
          "2022-08-10T00:00:00",
          "2022-08-10T00:00:00",
          "2022-08-11T00:00:00",
          "2022-08-11T00:00:00",
          "2022-08-11T00:00:00",
          "2022-08-11T00:00:00",
          "2022-08-15T00:00:00",
          "2022-08-15T00:00:00",
          "2022-08-15T00:00:00",
          "2022-08-16T00:00:00",
          "2022-08-16T00:00:00",
          "2022-08-16T00:00:00",
          "2022-08-17T00:00:00",
          "2022-08-18T00:00:00",
          "2022-08-18T00:00:00",
          "2022-08-20T00:00:00",
          "2022-08-21T00:00:00",
          "2022-08-21T00:00:00",
          "2022-08-23T00:00:00",
          "2022-08-23T00:00:00",
          "2022-08-23T00:00:00",
          "2022-08-23T00:00:00",
          "2022-08-23T00:00:00",
          "2022-08-24T00:00:00",
          "2022-08-26T00:00:00",
          "2022-08-29T00:00:00",
          "2022-08-30T00:00:00",
          "2022-08-31T00:00:00",
          "2022-08-31T00:00:00",
          "2022-08-31T00:00:00",
          "2022-08-31T00:00:00",
          "2022-09-01T00:00:00",
          "2022-09-01T00:00:00",
          "2022-09-01T00:00:00",
          "2022-09-02T00:00:00",
          "2022-09-06T00:00:00",
          "2022-09-06T00:00:00",
          "2022-09-07T00:00:00",
          "2022-09-07T00:00:00",
          "2022-09-07T00:00:00",
          "2022-09-08T00:00:00",
          "2022-09-12T00:00:00",
          "2022-09-13T00:00:00",
          "2022-09-13T00:00:00",
          "2022-09-14T00:00:00",
          "2022-09-14T00:00:00",
          "2022-09-15T00:00:00",
          "2022-09-15T00:00:00",
          "2022-09-15T00:00:00",
          "2022-09-16T00:00:00",
          "2022-09-16T00:00:00",
          "2022-09-19T00:00:00",
          "2022-09-20T00:00:00",
          "2022-09-20T00:00:00",
          "2022-09-23T00:00:00",
          "2022-09-23T00:00:00",
          "2022-09-23T00:00:00",
          "2022-09-27T00:00:00",
          "2022-09-29T00:00:00",
          "2022-09-30T00:00:00",
          "2022-10-04T00:00:00",
          "2022-10-04T00:00:00",
          "2022-10-04T00:00:00",
          "2022-10-05T00:00:00",
          "2022-10-07T00:00:00",
          "2022-10-10T00:00:00",
          "2022-10-10T00:00:00",
          "2022-10-11T00:00:00",
          "2022-10-11T00:00:00",
          "2022-10-11T00:00:00",
          "2022-10-12T00:00:00",
          "2022-10-14T00:00:00",
          "2022-10-14T00:00:00",
          "2022-10-16T00:00:00",
          "2022-10-18T00:00:00",
          "2022-10-19T00:00:00",
          "2022-10-19T00:00:00",
          "2022-10-20T00:00:00",
          "2022-10-20T00:00:00",
          "2022-10-20T00:00:00",
          "2022-10-21T00:00:00",
          "2022-10-21T00:00:00",
          "2022-10-21T00:00:00",
          "2022-10-23T00:00:00",
          "2022-10-23T00:00:00",
          "2022-10-24T00:00:00",
          "2022-10-24T00:00:00",
          "2022-10-24T00:00:00",
          "2022-10-25T00:00:00",
          "2022-10-25T00:00:00",
          "2022-10-25T00:00:00",
          "2022-10-26T00:00:00",
          "2022-10-26T00:00:00",
          "2022-10-26T00:00:00",
          "2022-10-27T00:00:00",
          "2022-10-27T00:00:00",
          "2022-10-31T00:00:00",
          "2022-10-31T00:00:00",
          "2022-10-31T00:00:00",
          "2022-11-01T00:00:00",
          "2022-11-01T00:00:00",
          "2022-11-01T00:00:00",
          "2022-11-01T00:00:00",
          "2022-11-01T00:00:00",
          "2022-11-01T00:00:00",
          "2022-11-02T00:00:00",
          "2022-11-02T00:00:00",
          "2022-11-02T00:00:00",
          "2022-11-02T00:00:00",
          "2022-11-02T00:00:00",
          "2022-11-03T00:00:00",
          "2022-11-03T00:00:00",
          "2022-11-04T00:00:00",
          "2022-11-04T00:00:00",
          "2022-11-06T00:00:00",
          "2022-11-07T00:00:00",
          "2022-11-07T00:00:00",
          "2022-11-07T00:00:00",
          "2022-11-08T00:00:00",
          "2022-11-09T00:00:00",
          "2022-11-09T00:00:00",
          "2022-11-09T00:00:00",
          "2022-11-09T00:00:00",
          "2022-11-09T00:00:00",
          "2022-11-09T00:00:00",
          "2022-11-09T00:00:00",
          "2022-11-10T00:00:00",
          "2022-11-10T00:00:00",
          "2022-11-10T00:00:00",
          "2022-11-10T00:00:00",
          "2022-11-11T00:00:00",
          "2022-11-11T00:00:00",
          "2022-11-14T00:00:00",
          "2022-11-14T00:00:00",
          "2022-11-14T00:00:00",
          "2022-11-14T00:00:00",
          "2022-11-14T00:00:00",
          "2022-11-15T00:00:00",
          "2022-11-15T00:00:00",
          "2022-11-15T00:00:00",
          "2022-11-15T00:00:00",
          "2022-11-16T00:00:00",
          "2022-11-16T00:00:00",
          "2022-11-16T00:00:00",
          "2022-11-16T00:00:00",
          "2022-11-16T00:00:00",
          "2022-11-16T00:00:00",
          "2022-11-16T00:00:00",
          "2022-11-17T00:00:00",
          "2022-11-17T00:00:00",
          "2022-11-17T00:00:00",
          "2022-11-17T00:00:00",
          "2022-11-17T00:00:00",
          "2022-11-17T00:00:00",
          "2022-11-18T00:00:00",
          "2022-11-19T00:00:00",
          "2022-11-21T00:00:00",
          "2022-11-22T00:00:00",
          "2022-11-22T00:00:00",
          "2022-11-24T00:00:00",
          "2022-11-24T00:00:00",
          "2022-11-25T00:00:00",
          "2022-11-25T00:00:00",
          "2022-11-28T00:00:00",
          "2022-11-28T00:00:00",
          "2022-11-28T00:00:00",
          "2022-11-28T00:00:00",
          "2022-11-28T00:00:00",
          "2022-11-29T00:00:00",
          "2022-11-29T00:00:00",
          "2022-11-30T00:00:00",
          "2022-11-30T00:00:00",
          "2022-11-30T00:00:00",
          "2022-11-30T00:00:00",
          "2022-11-30T00:00:00",
          "2022-11-30T00:00:00",
          "2022-11-30T00:00:00",
          "2022-12-01T00:00:00",
          "2022-12-01T00:00:00",
          "2022-12-01T00:00:00",
          "2022-12-01T00:00:00",
          "2022-12-02T00:00:00",
          "2022-12-05T00:00:00",
          "2022-12-05T00:00:00",
          "2022-12-06T00:00:00",
          "2022-12-06T00:00:00",
          "2022-12-06T00:00:00",
          "2022-12-06T00:00:00",
          "2022-12-06T00:00:00",
          "2022-12-07T00:00:00",
          "2022-12-07T00:00:00",
          "2022-12-07T00:00:00",
          "2022-12-07T00:00:00",
          "2022-12-07T00:00:00",
          "2022-12-07T00:00:00",
          "2022-12-07T00:00:00",
          "2022-12-07T00:00:00",
          "2022-12-07T00:00:00",
          "2022-12-08T00:00:00",
          "2022-12-08T00:00:00",
          "2022-12-08T00:00:00",
          "2022-12-08T00:00:00",
          "2022-12-08T00:00:00",
          "2022-12-08T00:00:00",
          "2022-12-08T00:00:00",
          "2022-12-09T00:00:00",
          "2022-12-09T00:00:00",
          "2022-12-09T00:00:00",
          "2022-12-09T00:00:00",
          "2022-12-10T00:00:00",
          "2022-12-10T00:00:00",
          "2022-12-12T00:00:00",
          "2022-12-13T00:00:00",
          "2022-12-13T00:00:00",
          "2022-12-13T00:00:00",
          "2022-12-14T00:00:00",
          "2022-12-14T00:00:00",
          "2022-12-15T00:00:00",
          "2022-12-15T00:00:00",
          "2022-12-15T00:00:00",
          "2022-12-15T00:00:00",
          "2022-12-16T00:00:00",
          "2022-12-16T00:00:00",
          "2022-12-19T00:00:00",
          "2022-12-20T00:00:00",
          "2022-12-20T00:00:00",
          "2022-12-21T00:00:00",
          "2022-12-23T00:00:00",
          "2023-01-03T00:00:00",
          "2023-01-04T00:00:00",
          "2023-01-04T00:00:00",
          "2023-01-04T00:00:00",
          "2023-01-05T00:00:00",
          "2023-01-05T00:00:00",
          "2023-01-05T00:00:00",
          "2023-01-05T00:00:00",
          "2023-01-05T00:00:00",
          "2023-01-05T00:00:00",
          "2023-01-05T00:00:00",
          "2023-01-05T00:00:00",
          "2023-01-06T00:00:00",
          "2023-01-06T00:00:00",
          "2023-01-08T00:00:00",
          "2023-01-08T00:00:00",
          "2023-01-10T00:00:00",
          "2023-01-10T00:00:00",
          "2023-01-10T00:00:00",
          "2023-01-10T00:00:00",
          "2023-01-10T00:00:00",
          "2023-01-10T00:00:00",
          "2023-01-10T00:00:00",
          "2023-01-11T00:00:00",
          "2023-01-11T00:00:00",
          "2023-01-11T00:00:00",
          "2023-01-12T00:00:00",
          "2023-01-12T00:00:00",
          "2023-01-12T00:00:00",
          "2023-01-12T00:00:00",
          "2023-01-12T00:00:00",
          "2023-01-12T00:00:00",
          "2023-01-12T00:00:00",
          "2023-01-15T00:00:00",
          "2023-01-15T00:00:00",
          "2023-01-16T00:00:00",
          "2023-01-17T00:00:00",
          "2023-01-17T00:00:00",
          "2023-01-18T00:00:00",
          "2023-01-18T00:00:00",
          "2023-01-18T00:00:00",
          "2023-01-18T00:00:00",
          "2023-01-18T00:00:00",
          "2023-01-18T00:00:00",
          "2023-01-18T00:00:00",
          "2023-01-18T00:00:00",
          "2023-01-18T00:00:00",
          "2023-01-18T00:00:00",
          "2023-01-18T00:00:00",
          "2023-01-19T00:00:00",
          "2023-01-19T00:00:00",
          "2023-01-19T00:00:00",
          "2023-01-20T00:00:00",
          "2023-01-20T00:00:00",
          "2023-01-20T00:00:00",
          "2023-01-20T00:00:00",
          "2023-01-23T00:00:00",
          "2023-01-23T00:00:00",
          "2023-01-23T00:00:00",
          "2023-01-24T00:00:00",
          "2023-01-24T00:00:00",
          "2023-01-24T00:00:00",
          "2023-01-25T00:00:00",
          "2023-01-25T00:00:00",
          "2023-01-25T00:00:00",
          "2023-01-25T00:00:00",
          "2023-01-26T00:00:00",
          "2023-01-27T00:00:00",
          "2023-01-27T00:00:00",
          "2023-01-27T00:00:00",
          "2023-01-27T00:00:00",
          "2023-01-30T00:00:00",
          "2023-01-31T00:00:00",
          "2023-01-31T00:00:00",
          "2023-01-31T00:00:00",
          "2023-01-31T00:00:00",
          "2023-02-01T00:00:00",
          "2023-02-01T00:00:00",
          "2023-02-01T00:00:00",
          "2023-02-01T00:00:00",
          "2023-02-01T00:00:00",
          "2023-02-01T00:00:00",
          "2023-02-02T00:00:00",
          "2023-02-02T00:00:00",
          "2023-02-03T00:00:00",
          "2023-02-03T00:00:00",
          "2023-02-05T00:00:00",
          "2023-02-06T00:00:00",
          "2023-02-06T00:00:00",
          "2023-02-07T00:00:00",
          "2023-02-07T00:00:00",
          "2023-02-07T00:00:00",
          "2023-02-08T00:00:00",
          "2023-02-08T00:00:00",
          "2023-02-08T00:00:00",
          "2023-02-08T00:00:00",
          "2023-02-09T00:00:00",
          "2023-02-09T00:00:00",
          "2023-02-09T00:00:00",
          "2023-02-09T00:00:00",
          "2023-02-09T00:00:00",
          "2023-02-10T00:00:00",
          "2023-02-12T00:00:00",
          "2023-02-13T00:00:00",
          "2023-02-13T00:00:00",
          "2023-02-15T00:00:00",
          "2023-02-15T00:00:00",
          "2023-02-15T00:00:00",
          "2023-02-15T00:00:00",
          "2023-02-15T00:00:00",
          "2023-02-16T00:00:00",
          "2023-02-16T00:00:00",
          "2023-02-16T00:00:00",
          "2023-02-17T00:00:00",
          "2023-02-20T00:00:00",
          "2023-02-20T00:00:00",
          "2023-02-20T00:00:00",
          "2023-02-21T00:00:00",
          "2023-02-21T00:00:00",
          "2023-02-23T00:00:00",
          "2023-02-27T00:00:00",
          "2023-02-27T00:00:00",
          "2023-02-27T00:00:00",
          "2023-02-27T00:00:00",
          "2023-02-28T00:00:00",
          "2023-03-01T00:00:00",
          "2023-03-01T00:00:00",
          "2023-03-02T00:00:00",
          "2023-03-02T00:00:00",
          "2023-03-02T00:00:00",
          "2023-03-03T00:00:00",
          "2023-03-07T00:00:00",
          "2023-03-07T00:00:00",
          "2023-03-08T00:00:00",
          "2023-03-14T00:00:00",
          "2023-03-14T00:00:00",
          "2023-03-14T00:00:00",
          "2023-03-14T00:00:00",
          "2023-03-15T00:00:00",
          "2023-03-15T00:00:00",
          "2023-03-15T00:00:00",
          "2023-03-16T00:00:00",
          "2023-03-16T00:00:00",
          "2023-03-16T00:00:00",
          "2023-03-17T00:00:00",
          "2023-03-17T00:00:00",
          "2023-03-21T00:00:00",
          "2023-03-21T00:00:00",
          "2023-03-21T00:00:00",
          "2023-03-22T00:00:00",
          "2023-03-22T00:00:00",
          "2023-03-23T00:00:00",
          "2023-03-28T00:00:00",
          "2023-03-29T00:00:00",
          "2023-03-30T00:00:00",
          "2023-03-30T00:00:00",
          "2023-03-30T00:00:00",
          "2023-03-31T00:00:00",
          "2023-04-03T00:00:00",
          "2023-04-03T00:00:00",
          "2023-04-04T00:00:00",
          "2023-04-05T00:00:00",
          "2023-04-05T00:00:00",
          "2023-04-05T00:00:00",
          "2023-04-07T00:00:00",
          "2023-04-09T00:00:00",
          "2023-04-10T00:00:00",
          "2023-04-10T00:00:00",
          "2023-04-11T00:00:00",
          "2023-04-11T00:00:00",
          "2023-04-11T00:00:00",
          "2023-04-12T00:00:00",
          "2023-04-13T00:00:00",
          "2023-04-14T00:00:00",
          "2023-04-14T00:00:00",
          "2023-04-17T00:00:00",
          "2023-04-17T00:00:00",
          "2023-04-17T00:00:00",
          "2023-04-18T00:00:00",
          "2023-04-18T00:00:00",
          "2023-04-19T00:00:00",
          "2023-04-20T00:00:00",
          "2023-04-20T00:00:00",
          "2023-04-20T00:00:00",
          "2023-04-21T00:00:00",
          "2023-04-24T00:00:00",
          "2023-04-25T00:00:00",
          "2023-04-25T00:00:00",
          "2023-04-26T00:00:00",
          "2023-04-27T00:00:00",
          "2023-04-27T00:00:00",
          "2023-04-27T00:00:00",
          "2023-04-27T00:00:00",
          "2023-04-27T00:00:00",
          "2023-04-27T00:00:00",
          "2023-04-28T00:00:00",
          "2023-05-02T00:00:00",
          "2023-05-02T00:00:00",
          "2023-05-03T00:00:00",
          "2023-05-03T00:00:00",
          "2023-05-03T00:00:00",
          "2023-05-03T00:00:00",
          "2023-05-04T00:00:00",
          "2023-05-04T00:00:00",
          "2023-05-04T00:00:00",
          "2023-05-05T00:00:00",
          "2023-05-05T00:00:00",
          "2023-05-09T00:00:00",
          "2023-05-09T00:00:00",
          "2023-05-09T00:00:00",
          "2023-05-10T00:00:00",
          "2023-05-10T00:00:00",
          "2023-05-10T00:00:00",
          "2023-05-11T00:00:00",
          "2023-05-12T00:00:00",
          "2023-05-16T00:00:00",
          "2023-05-17T00:00:00",
          "2023-05-18T00:00:00",
          "2023-05-24T00:00:00",
          "2023-05-24T00:00:00",
          "2023-05-24T00:00:00",
          "2023-05-25T00:00:00",
          "2023-05-26T00:00:00",
          "2023-05-29T00:00:00",
          "2023-05-30T00:00:00",
          "2023-05-31T00:00:00",
          "2023-05-31T00:00:00",
          "2023-05-31T00:00:00",
          "2023-05-31T00:00:00",
          "2023-05-31T00:00:00",
          "2023-06-01T00:00:00",
          "2023-06-02T00:00:00",
          "2023-06-06T00:00:00",
          "2023-06-06T00:00:00",
          "2023-06-06T00:00:00",
          "2023-06-08T00:00:00",
          "2023-06-08T00:00:00",
          "2023-06-09T00:00:00",
          "2023-06-09T00:00:00",
          "2023-06-09T00:00:00",
          "2023-06-11T00:00:00",
          "2023-06-12T00:00:00",
          "2023-06-12T00:00:00",
          "2023-06-12T00:00:00",
          "2023-06-12T00:00:00",
          "2023-06-14T00:00:00",
          "2023-06-14T00:00:00",
          "2023-06-14T00:00:00",
          "2023-06-15T00:00:00",
          "2023-06-16T00:00:00",
          "2023-06-19T00:00:00",
          "2023-06-21T00:00:00",
          "2023-06-26T00:00:00",
          "2023-06-27T00:00:00",
          "2023-06-28T00:00:00",
          "2023-06-28T00:00:00",
          "2023-06-29T00:00:00",
          "2023-06-29T00:00:00",
          "2023-06-29T00:00:00",
          "2023-07-02T00:00:00",
          "2023-07-03T00:00:00",
          "2023-07-06T00:00:00",
          "2023-07-06T00:00:00",
          "2023-07-11T00:00:00",
          "2023-07-11T00:00:00",
          "2023-07-11T00:00:00",
          "2023-07-12T00:00:00",
          "2023-07-13T00:00:00",
          "2023-07-13T00:00:00",
          "2023-07-14T00:00:00",
          "2023-07-17T00:00:00",
          "2023-07-19T00:00:00",
          "2023-07-19T00:00:00",
          "2023-07-19T00:00:00",
          "2023-07-25T00:00:00",
          "2023-07-26T00:00:00",
          "2023-07-26T00:00:00",
          "2023-07-27T00:00:00",
          "2023-07-27T00:00:00",
          "2023-07-28T00:00:00",
          "2023-07-30T00:00:00",
          "2023-07-31T00:00:00",
          "2023-08-01T00:00:00",
          "2023-08-01T00:00:00",
          "2023-08-01T00:00:00",
          "2023-08-02T00:00:00",
          "2023-08-02T00:00:00",
          "2023-08-02T00:00:00",
          "2023-08-02T00:00:00",
          "2023-08-02T00:00:00",
          "2023-08-03T00:00:00",
          "2023-08-04T00:00:00",
          "2023-08-08T00:00:00",
          "2023-08-08T00:00:00",
          "2023-08-09T00:00:00",
          "2023-08-14T00:00:00",
          "2023-08-17T00:00:00",
          "2023-08-17T00:00:00",
          "2023-08-20T00:00:00",
          "2023-08-23T00:00:00",
          "2023-08-23T00:00:00",
          "2023-08-23T00:00:00",
          "2023-08-24T00:00:00",
          "2023-08-29T00:00:00",
          "2023-08-30T00:00:00",
          "2023-08-30T00:00:00",
          "2023-08-30T00:00:00",
          "2023-08-30T00:00:00",
          "2023-09-04T00:00:00",
          "2023-09-05T00:00:00",
          "2023-09-05T00:00:00",
          "2023-09-06T00:00:00",
          "2023-09-07T00:00:00",
          "2023-09-11T00:00:00",
          "2023-09-11T00:00:00",
          "2023-09-12T00:00:00",
          "2023-09-12T00:00:00",
          "2023-09-12T00:00:00",
          "2023-09-12T00:00:00",
          "2023-09-14T00:00:00",
          "2023-09-15T00:00:00",
          "2023-09-22T00:00:00",
          "2023-09-25T00:00:00",
          "2023-09-26T00:00:00",
          "2023-09-26T00:00:00",
          "2023-09-27T00:00:00",
          "2023-09-29T00:00:00",
          "2023-10-02T00:00:00",
          "2023-10-02T00:00:00",
          "2023-10-02T00:00:00",
          "2023-10-04T00:00:00",
          "2023-10-05T00:00:00",
          "2023-10-06T00:00:00",
          "2023-10-09T00:00:00",
          "2023-10-11T00:00:00",
          "2023-10-12T00:00:00",
          "2023-10-12T00:00:00",
          "2023-10-16T00:00:00",
          "2023-10-18T00:00:00",
          "2023-10-18T00:00:00",
          "2023-10-19T00:00:00",
          "2023-10-19T00:00:00",
          "2023-10-20T00:00:00",
          "2023-10-24T00:00:00",
          "2023-11-01T00:00:00",
          "2023-11-02T00:00:00",
          "2023-11-12T00:00:00",
          "2023-11-19T00:00:00",
          "2023-11-27T00:00:00",
          "2023-11-28T00:00:00",
          "2023-11-30T00:00:00",
          "2023-11-30T00:00:00",
          "2023-12-05T00:00:00",
          "2023-12-11T00:00:00",
          "2023-12-13T00:00:00",
          "2023-12-18T00:00:00",
          "2023-12-19T00:00:00",
          "2024-01-03T00:00:00",
          "2024-01-04T00:00:00"
         ],
         "xaxis": "x",
         "y": [
          20,
          28,
          158,
          162,
          212,
          242,
          255,
          270,
          290,
          328,
          419,
          569,
          649,
          1049,
          1061,
          1091,
          1143,
          1199,
          1499,
          1749,
          1796,
          1819,
          1869,
          1899,
          1929,
          1976,
          2054,
          2154,
          2254,
          2381,
          2511,
          2917,
          3167,
          3567,
          3687,
          3767,
          4017,
          4068,
          4099,
          4108,
          4178,
          4183,
          4200,
          4265,
          4373,
          4567,
          4777,
          5126,
          5226,
          5277,
          5327,
          5373,
          5425,
          5449,
          5469,
          5486,
          5501,
          5510,
          5555,
          5751,
          5905,
          6005,
          6095,
          6165,
          6230,
          6269,
          6304,
          6334,
          6357,
          6364,
          6370,
          6375,
          6434,
          6581,
          6881,
          6956,
          6974,
          7009,
          7043,
          7067,
          7127,
          7177,
          7217,
          7317,
          7417,
          7494,
          7518,
          7541,
          7556,
          7566,
          7592,
          7932,
          8332,
          8568,
          8618,
          8705,
          8765,
          8818,
          8918,
          9118,
          9198,
          9287,
          9373,
          9421,
          9513,
          9543,
          9547,
          9558,
          9598,
          9619,
          9637,
          9645,
          9670,
          9706,
          9796,
          9886,
          10022,
          10172,
          10212,
          10228,
          10248,
          10283,
          10383,
          10433,
          10450,
          10520,
          10565,
          10623,
          10754,
          10989,
          11189,
          11389,
          11429,
          11444,
          11605,
          11665,
          11730,
          11860,
          12000,
          12120,
          12208,
          12243,
          12287,
          12334,
          12364,
          12377,
          12677,
          12768,
          12858,
          12868,
          12901,
          12924,
          13014,
          13024,
          13054,
          13092,
          13132,
          13210,
          13365,
          13375,
          13430,
          13530,
          13610,
          13697,
          13703,
          13713,
          13728,
          13746,
          13765,
          13801,
          13858,
          13888,
          13908,
          14168,
          14203,
          14283,
          14303,
          14330,
          14410,
          14434,
          14594,
          14620,
          14715,
          14825,
          14945,
          14956,
          15016,
          15078,
          15141,
          15541,
          15676,
          15701,
          15741,
          15791,
          15841,
          15869,
          15929,
          15991,
          16291,
          16300,
          16328,
          16388,
          16404,
          16440,
          16505,
          16578,
          16603,
          16654,
          16724,
          16759,
          16775,
          16844,
          17144,
          17183,
          17284,
          17302,
          17372,
          17772,
          17834,
          17984,
          18004,
          18040,
          18259,
          18529,
          18591,
          18615,
          18965,
          18979,
          18991,
          19013,
          19053,
          19173,
          19212,
          19262,
          19280,
          19326,
          19329,
          19392,
          19436,
          19506,
          19546,
          19720,
          19850,
          19867,
          19967,
          20267,
          20327,
          20349,
          20413,
          20593,
          20668,
          20818,
          21068,
          21418,
          21440,
          21470,
          21517,
          21607,
          21627,
          21657,
          21662,
          21842,
          21929,
          22129,
          22289,
          22326,
          22396,
          22476,
          22533,
          22593,
          22731,
          22850,
          22950,
          23061,
          23161,
          23261,
          23561,
          23676,
          23776,
          23876,
          23935,
          23958,
          24033,
          24053,
          24153,
          24313,
          24513,
          24773,
          24953,
          24982,
          25132,
          25177,
          25264,
          25464,
          25536,
          25626,
          25976,
          26006,
          26206,
          26516,
          26586,
          26986,
          27086,
          27176,
          27276,
          27346,
          27433,
          27563,
          27593,
          27653,
          27733,
          27783,
          27828,
          27858,
          27938,
          28138,
          28167,
          28312,
          28412,
          28512,
          28912,
          28956,
          28968,
          28998,
          29032,
          29097,
          29187,
          29287,
          29537,
          29707,
          29847,
          29877,
          29936,
          29961,
          30061,
          30082,
          30105,
          30155,
          30293,
          30473,
          30523,
          30673,
          30923,
          31253,
          31333,
          31423,
          31454,
          31524,
          31550,
          31570,
          31615,
          31675,
          31775,
          32025,
          32285,
          32318,
          32374,
          32624,
          32648,
          32698,
          32773,
          33023,
          33182,
          33332,
          33442,
          33465,
          33479,
          33489,
          33549,
          33594,
          33644,
          33660,
          33729,
          33879,
          33888,
          34079,
          34109,
          34139,
          34219,
          34319,
          34659,
          34699,
          34723,
          34775,
          34798,
          34833,
          34868,
          34923,
          35013,
          35133,
          35141,
          35156,
          35178,
          35248,
          35288,
          35329,
          35419,
          35689,
          35759,
          35786,
          35804,
          35834,
          35884,
          35994,
          36114,
          36414,
          36427,
          36443,
          36461,
          36501,
          36577,
          36657,
          36742,
          37142,
          37182,
          37196,
          37216,
          37246,
          37258,
          37316,
          37331,
          37481,
          37561,
          37579,
          37606,
          37619,
          37639,
          37666,
          37696,
          37727,
          37807,
          37907,
          38027,
          38411,
          38511,
          38546,
          38576,
          38591,
          38741,
          38771,
          38927,
          38951,
          39193,
          39238,
          39308,
          39408,
          39508,
          39628,
          39890,
          40190,
          40275,
          40329,
          40368,
          40410,
          40473,
          40573,
          40597,
          40627,
          40695,
          40710,
          40740,
          40797,
          40997,
          41092,
          41242,
          41302,
          41365,
          41376,
          41426,
          41441,
          41469,
          41494,
          41514,
          41537,
          41577,
          41637,
          41675,
          41705,
          41735,
          41774,
          41834,
          41894,
          42019,
          42059,
          42075,
          42133,
          42152,
          42175,
          42205,
          42259,
          42319,
          42399,
          42514,
          42554,
          42601,
          42801,
          42901,
          43151,
          43224,
          43294,
          43374,
          43405,
          43455,
          43595,
          43615,
          43663,
          43713,
          43773,
          43903,
          44173,
          44573,
          44603,
          44650,
          44740,
          44915,
          44969,
          45029,
          45045,
          45265,
          45515,
          45520,
          45532,
          45612,
          45737,
          45772,
          45882,
          45895,
          45950,
          46050,
          46230,
          46368,
          46399,
          46428,
          46478,
          46493,
          46513,
          46608,
          46646,
          46786,
          46886,
          46915,
          46945,
          47000,
          47090,
          47190,
          47213,
          47243,
          47283,
          47310,
          47355,
          47404,
          47459,
          47470,
          47550,
          47650,
          47700,
          47759,
          47794,
          47864,
          48057,
          48097,
          48287,
          48316,
          48391,
          48469,
          48493,
          48519,
          48589,
          48629,
          48669,
          48747,
          48787,
          48852,
          49052,
          49102,
          49222,
          49289,
          49469,
          49504,
          49559,
          49659,
          49809,
          50009,
          50209,
          50233,
          50289,
          50321,
          50341,
          50364,
          50428,
          50655,
          50685,
          50728,
          50848,
          50910,
          50933,
          50983,
          51181,
          51581,
          51598,
          51628,
          51778,
          52178,
          52378,
          52678,
          52762,
          52972,
          52997,
          53027,
          53327,
          53377,
          53447,
          53517,
          53587,
          53687,
          53827,
          53969,
          54103,
          54203,
          54303,
          54353,
          54413,
          54563,
          54622,
          54692,
          54802,
          54992,
          55342,
          55692,
          55757,
          56057,
          56201,
          56338,
          56374,
          56409,
          56434,
          56564,
          56584,
          56629,
          56694,
          56794,
          56854,
          56954,
          56994,
          57053,
          57177,
          57320,
          57620,
          57790,
          57970,
          58001,
          58051,
          58110,
          58180,
          58256,
          58346,
          58466,
          58666,
          58877,
          58886,
          58901,
          58935,
          58972,
          59044,
          59244,
          59349,
          59449,
          59542,
          59622,
          59782,
          59802,
          59902,
          59929,
          59999,
          60024,
          60057,
          60124,
          60214,
          60514,
          60524,
          60574,
          60708,
          60838,
          60996,
          61049,
          61094,
          61154,
          61184,
          61294,
          61331,
          61379,
          61479,
          61526,
          61556,
          61621,
          61634,
          61654,
          61686,
          61736,
          61916,
          62153,
          62303,
          62433,
          62745,
          62840,
          62960,
          62987,
          63247,
          63277,
          63302,
          63332,
          63392,
          63472,
          63632,
          63830,
          63925,
          63945,
          64007,
          64092,
          64205,
          64225,
          64268,
          64668,
          64763,
          64841,
          65001,
          65041,
          65091,
          65151,
          65231,
          65321,
          65501,
          65525,
          65555,
          65573,
          65599,
          65664,
          66014,
          66107,
          66183,
          66203,
          66278,
          66354,
          66379,
          66409,
          66439,
          66469,
          66499,
          66539,
          66643,
          66843,
          66883,
          67158,
          67208,
          67251,
          67276,
          67616,
          67716,
          67771,
          67847,
          67887,
          67987,
          68087,
          68210,
          68480,
          68526,
          68630,
          68735,
          68845,
          68956,
          69076,
          69301,
          69341,
          69441,
          69491,
          69633,
          69743,
          69763,
          69794,
          69864,
          69964,
          70064,
          70164,
          70273,
          70410,
          70550,
          70705,
          71005,
          71120,
          71220,
          71282,
          71482,
          71504,
          71535,
          71665,
          71685,
          71715,
          71755,
          71776,
          71816,
          72061,
          72141,
          72271,
          72401,
          72731,
          72952,
          73052,
          73081,
          73100,
          73121,
          73186,
          73205,
          73265,
          73465,
          73830,
          73847,
          73871,
          73915,
          73971,
          74061,
          74201,
          74301,
          74420,
          74510,
          74599,
          74619,
          74919,
          74969,
          75069,
          75096,
          75308,
          75332,
          75363,
          75443,
          75569,
          75600,
          75666,
          75796,
          75951,
          76166,
          76266,
          76626,
          76711,
          76852,
          77222,
          77443,
          77643,
          77853,
          77953,
          78038,
          78268,
          78668,
          78768,
          78776,
          78806,
          79006,
          79046,
          79146,
          79296,
          79581,
          79711,
          79730,
          79800,
          79880,
          79980,
          80180,
          80192,
          80222,
          80399,
          80739,
          80819,
          81119,
          81161,
          81176,
          81226,
          81301,
          81401,
          81457,
          81482,
          81514,
          81554,
          81596,
          81710,
          81760,
          81860,
          81875,
          81955,
          82085,
          82125,
          82265,
          82275,
          82321,
          82344,
          82544,
          82563,
          82580,
          82669,
          82717,
          82732,
          82747,
          82833,
          82932,
          83232,
          83332,
          83482,
          83527,
          83537,
          83582,
          83662,
          83863,
          84163,
          84263,
          84280,
          84355,
          84436,
          84453,
          84534,
          84550,
          84640,
          84752,
          84787,
          84865,
          85045,
          85119,
          85159,
          85229,
          85344,
          85374,
          85694,
          85794,
          85837,
          85882,
          85932,
          85961,
          86287,
          86314,
          86364,
          86386,
          86456,
          86526,
          86663,
          86683,
          86713,
          86743,
          86994,
          87264,
          87554,
          87654,
          87734,
          87792,
          87852,
          87922,
          88172,
          88332,
          88377,
          88417,
          88480,
          88540,
          88640,
          88812,
          88887,
          89017,
          89181,
          89301,
          89341,
          89661,
          89683,
          89783,
          90053,
          90143,
          90263,
          90313,
          90373,
          90507,
          90647,
          90802,
          90862,
          90937,
          91065,
          91145,
          91545,
          91645,
          91795,
          91875,
          91956,
          92058,
          92188,
          92288,
          92333,
          92381,
          92419,
          92449,
          92704,
          92794,
          92831,
          93012,
          93040,
          93075,
          93375,
          93399,
          93419,
          93553,
          93653,
          93823,
          94123,
          94173,
          94203,
          94283,
          94297,
          94372,
          94400,
          94450,
          94517,
          94563,
          94913,
          94973,
          95033,
          95094,
          95294,
          95494,
          95507,
          95547,
          95653,
          95770,
          95828,
          95898,
          95998,
          96298,
          96598,
          96635,
          96677,
          96777,
          96848,
          96998,
          97298,
          97358,
          97507,
          97790,
          97885,
          97986,
          98136,
          98144,
          98194,
          98231,
          98276,
          98326,
          98386,
          98403,
          98433,
          98457,
          98817,
          98917,
          98951,
          99051,
          99078,
          99118,
          99205,
          99380,
          99420,
          99450,
          99485,
          99560,
          99691,
          99841,
          99871,
          99899,
          99985,
          100135,
          100161,
          100411,
          100440,
          100520,
          100634,
          100654,
          100738,
          100910,
          100990,
          101025,
          101255,
          101276,
          101416,
          101535,
          101665,
          101738,
          101803,
          101928,
          102048,
          102176,
          102326,
          102356,
          102396,
          102436,
          102451,
          102676,
          103026,
          103126,
          103186,
          103216
         ],
         "yaxis": "y"
        }
       ],
       "layout": {
        "legend": {
         "tracegroupgap": 0
        },
        "template": {
         "data": {
          "bar": [
           {
            "error_x": {
             "color": "#f2f5fa"
            },
            "error_y": {
             "color": "#f2f5fa"
            },
            "marker": {
             "line": {
              "color": "rgb(17,17,17)",
              "width": 0.5
             },
             "pattern": {
              "fillmode": "overlay",
              "size": 10,
              "solidity": 0.2
             }
            },
            "type": "bar"
           }
          ],
          "barpolar": [
           {
            "marker": {
             "line": {
              "color": "rgb(17,17,17)",
              "width": 0.5
             },
             "pattern": {
              "fillmode": "overlay",
              "size": 10,
              "solidity": 0.2
             }
            },
            "type": "barpolar"
           }
          ],
          "carpet": [
           {
            "aaxis": {
             "endlinecolor": "#A2B1C6",
             "gridcolor": "#506784",
             "linecolor": "#506784",
             "minorgridcolor": "#506784",
             "startlinecolor": "#A2B1C6"
            },
            "baxis": {
             "endlinecolor": "#A2B1C6",
             "gridcolor": "#506784",
             "linecolor": "#506784",
             "minorgridcolor": "#506784",
             "startlinecolor": "#A2B1C6"
            },
            "type": "carpet"
           }
          ],
          "choropleth": [
           {
            "colorbar": {
             "outlinewidth": 0,
             "ticks": ""
            },
            "type": "choropleth"
           }
          ],
          "contour": [
           {
            "colorbar": {
             "outlinewidth": 0,
             "ticks": ""
            },
            "colorscale": [
             [
              0,
              "#0d0887"
             ],
             [
              0.1111111111111111,
              "#46039f"
             ],
             [
              0.2222222222222222,
              "#7201a8"
             ],
             [
              0.3333333333333333,
              "#9c179e"
             ],
             [
              0.4444444444444444,
              "#bd3786"
             ],
             [
              0.5555555555555556,
              "#d8576b"
             ],
             [
              0.6666666666666666,
              "#ed7953"
             ],
             [
              0.7777777777777778,
              "#fb9f3a"
             ],
             [
              0.8888888888888888,
              "#fdca26"
             ],
             [
              1,
              "#f0f921"
             ]
            ],
            "type": "contour"
           }
          ],
          "contourcarpet": [
           {
            "colorbar": {
             "outlinewidth": 0,
             "ticks": ""
            },
            "type": "contourcarpet"
           }
          ],
          "heatmap": [
           {
            "colorbar": {
             "outlinewidth": 0,
             "ticks": ""
            },
            "colorscale": [
             [
              0,
              "#0d0887"
             ],
             [
              0.1111111111111111,
              "#46039f"
             ],
             [
              0.2222222222222222,
              "#7201a8"
             ],
             [
              0.3333333333333333,
              "#9c179e"
             ],
             [
              0.4444444444444444,
              "#bd3786"
             ],
             [
              0.5555555555555556,
              "#d8576b"
             ],
             [
              0.6666666666666666,
              "#ed7953"
             ],
             [
              0.7777777777777778,
              "#fb9f3a"
             ],
             [
              0.8888888888888888,
              "#fdca26"
             ],
             [
              1,
              "#f0f921"
             ]
            ],
            "type": "heatmap"
           }
          ],
          "heatmapgl": [
           {
            "colorbar": {
             "outlinewidth": 0,
             "ticks": ""
            },
            "colorscale": [
             [
              0,
              "#0d0887"
             ],
             [
              0.1111111111111111,
              "#46039f"
             ],
             [
              0.2222222222222222,
              "#7201a8"
             ],
             [
              0.3333333333333333,
              "#9c179e"
             ],
             [
              0.4444444444444444,
              "#bd3786"
             ],
             [
              0.5555555555555556,
              "#d8576b"
             ],
             [
              0.6666666666666666,
              "#ed7953"
             ],
             [
              0.7777777777777778,
              "#fb9f3a"
             ],
             [
              0.8888888888888888,
              "#fdca26"
             ],
             [
              1,
              "#f0f921"
             ]
            ],
            "type": "heatmapgl"
           }
          ],
          "histogram": [
           {
            "marker": {
             "pattern": {
              "fillmode": "overlay",
              "size": 10,
              "solidity": 0.2
             }
            },
            "type": "histogram"
           }
          ],
          "histogram2d": [
           {
            "colorbar": {
             "outlinewidth": 0,
             "ticks": ""
            },
            "colorscale": [
             [
              0,
              "#0d0887"
             ],
             [
              0.1111111111111111,
              "#46039f"
             ],
             [
              0.2222222222222222,
              "#7201a8"
             ],
             [
              0.3333333333333333,
              "#9c179e"
             ],
             [
              0.4444444444444444,
              "#bd3786"
             ],
             [
              0.5555555555555556,
              "#d8576b"
             ],
             [
              0.6666666666666666,
              "#ed7953"
             ],
             [
              0.7777777777777778,
              "#fb9f3a"
             ],
             [
              0.8888888888888888,
              "#fdca26"
             ],
             [
              1,
              "#f0f921"
             ]
            ],
            "type": "histogram2d"
           }
          ],
          "histogram2dcontour": [
           {
            "colorbar": {
             "outlinewidth": 0,
             "ticks": ""
            },
            "colorscale": [
             [
              0,
              "#0d0887"
             ],
             [
              0.1111111111111111,
              "#46039f"
             ],
             [
              0.2222222222222222,
              "#7201a8"
             ],
             [
              0.3333333333333333,
              "#9c179e"
             ],
             [
              0.4444444444444444,
              "#bd3786"
             ],
             [
              0.5555555555555556,
              "#d8576b"
             ],
             [
              0.6666666666666666,
              "#ed7953"
             ],
             [
              0.7777777777777778,
              "#fb9f3a"
             ],
             [
              0.8888888888888888,
              "#fdca26"
             ],
             [
              1,
              "#f0f921"
             ]
            ],
            "type": "histogram2dcontour"
           }
          ],
          "mesh3d": [
           {
            "colorbar": {
             "outlinewidth": 0,
             "ticks": ""
            },
            "type": "mesh3d"
           }
          ],
          "parcoords": [
           {
            "line": {
             "colorbar": {
              "outlinewidth": 0,
              "ticks": ""
             }
            },
            "type": "parcoords"
           }
          ],
          "pie": [
           {
            "automargin": true,
            "type": "pie"
           }
          ],
          "scatter": [
           {
            "marker": {
             "line": {
              "color": "#283442"
             }
            },
            "type": "scatter"
           }
          ],
          "scatter3d": [
           {
            "line": {
             "colorbar": {
              "outlinewidth": 0,
              "ticks": ""
             }
            },
            "marker": {
             "colorbar": {
              "outlinewidth": 0,
              "ticks": ""
             }
            },
            "type": "scatter3d"
           }
          ],
          "scattercarpet": [
           {
            "marker": {
             "colorbar": {
              "outlinewidth": 0,
              "ticks": ""
             }
            },
            "type": "scattercarpet"
           }
          ],
          "scattergeo": [
           {
            "marker": {
             "colorbar": {
              "outlinewidth": 0,
              "ticks": ""
             }
            },
            "type": "scattergeo"
           }
          ],
          "scattergl": [
           {
            "marker": {
             "line": {
              "color": "#283442"
             }
            },
            "type": "scattergl"
           }
          ],
          "scattermapbox": [
           {
            "marker": {
             "colorbar": {
              "outlinewidth": 0,
              "ticks": ""
             }
            },
            "type": "scattermapbox"
           }
          ],
          "scatterpolar": [
           {
            "marker": {
             "colorbar": {
              "outlinewidth": 0,
              "ticks": ""
             }
            },
            "type": "scatterpolar"
           }
          ],
          "scatterpolargl": [
           {
            "marker": {
             "colorbar": {
              "outlinewidth": 0,
              "ticks": ""
             }
            },
            "type": "scatterpolargl"
           }
          ],
          "scatterternary": [
           {
            "marker": {
             "colorbar": {
              "outlinewidth": 0,
              "ticks": ""
             }
            },
            "type": "scatterternary"
           }
          ],
          "surface": [
           {
            "colorbar": {
             "outlinewidth": 0,
             "ticks": ""
            },
            "colorscale": [
             [
              0,
              "#0d0887"
             ],
             [
              0.1111111111111111,
              "#46039f"
             ],
             [
              0.2222222222222222,
              "#7201a8"
             ],
             [
              0.3333333333333333,
              "#9c179e"
             ],
             [
              0.4444444444444444,
              "#bd3786"
             ],
             [
              0.5555555555555556,
              "#d8576b"
             ],
             [
              0.6666666666666666,
              "#ed7953"
             ],
             [
              0.7777777777777778,
              "#fb9f3a"
             ],
             [
              0.8888888888888888,
              "#fdca26"
             ],
             [
              1,
              "#f0f921"
             ]
            ],
            "type": "surface"
           }
          ],
          "table": [
           {
            "cells": {
             "fill": {
              "color": "#506784"
             },
             "line": {
              "color": "rgb(17,17,17)"
             }
            },
            "header": {
             "fill": {
              "color": "#2a3f5f"
             },
             "line": {
              "color": "rgb(17,17,17)"
             }
            },
            "type": "table"
           }
          ]
         },
         "layout": {
          "annotationdefaults": {
           "arrowcolor": "#f2f5fa",
           "arrowhead": 0,
           "arrowwidth": 1
          },
          "autotypenumbers": "strict",
          "coloraxis": {
           "colorbar": {
            "outlinewidth": 0,
            "ticks": ""
           }
          },
          "colorscale": {
           "diverging": [
            [
             0,
             "#8e0152"
            ],
            [
             0.1,
             "#c51b7d"
            ],
            [
             0.2,
             "#de77ae"
            ],
            [
             0.3,
             "#f1b6da"
            ],
            [
             0.4,
             "#fde0ef"
            ],
            [
             0.5,
             "#f7f7f7"
            ],
            [
             0.6,
             "#e6f5d0"
            ],
            [
             0.7,
             "#b8e186"
            ],
            [
             0.8,
             "#7fbc41"
            ],
            [
             0.9,
             "#4d9221"
            ],
            [
             1,
             "#276419"
            ]
           ],
           "sequential": [
            [
             0,
             "#0d0887"
            ],
            [
             0.1111111111111111,
             "#46039f"
            ],
            [
             0.2222222222222222,
             "#7201a8"
            ],
            [
             0.3333333333333333,
             "#9c179e"
            ],
            [
             0.4444444444444444,
             "#bd3786"
            ],
            [
             0.5555555555555556,
             "#d8576b"
            ],
            [
             0.6666666666666666,
             "#ed7953"
            ],
            [
             0.7777777777777778,
             "#fb9f3a"
            ],
            [
             0.8888888888888888,
             "#fdca26"
            ],
            [
             1,
             "#f0f921"
            ]
           ],
           "sequentialminus": [
            [
             0,
             "#0d0887"
            ],
            [
             0.1111111111111111,
             "#46039f"
            ],
            [
             0.2222222222222222,
             "#7201a8"
            ],
            [
             0.3333333333333333,
             "#9c179e"
            ],
            [
             0.4444444444444444,
             "#bd3786"
            ],
            [
             0.5555555555555556,
             "#d8576b"
            ],
            [
             0.6666666666666666,
             "#ed7953"
            ],
            [
             0.7777777777777778,
             "#fb9f3a"
            ],
            [
             0.8888888888888888,
             "#fdca26"
            ],
            [
             1,
             "#f0f921"
            ]
           ]
          },
          "colorway": [
           "#636efa",
           "#EF553B",
           "#00cc96",
           "#ab63fa",
           "#FFA15A",
           "#19d3f3",
           "#FF6692",
           "#B6E880",
           "#FF97FF",
           "#FECB52"
          ],
          "font": {
           "color": "#f2f5fa"
          },
          "geo": {
           "bgcolor": "rgb(17,17,17)",
           "lakecolor": "rgb(17,17,17)",
           "landcolor": "rgb(17,17,17)",
           "showlakes": true,
           "showland": true,
           "subunitcolor": "#506784"
          },
          "hoverlabel": {
           "align": "left"
          },
          "hovermode": "closest",
          "mapbox": {
           "style": "dark"
          },
          "paper_bgcolor": "rgb(17,17,17)",
          "plot_bgcolor": "rgb(17,17,17)",
          "polar": {
           "angularaxis": {
            "gridcolor": "#506784",
            "linecolor": "#506784",
            "ticks": ""
           },
           "bgcolor": "rgb(17,17,17)",
           "radialaxis": {
            "gridcolor": "#506784",
            "linecolor": "#506784",
            "ticks": ""
           }
          },
          "scene": {
           "xaxis": {
            "backgroundcolor": "rgb(17,17,17)",
            "gridcolor": "#506784",
            "gridwidth": 2,
            "linecolor": "#506784",
            "showbackground": true,
            "ticks": "",
            "zerolinecolor": "#C8D4E3"
           },
           "yaxis": {
            "backgroundcolor": "rgb(17,17,17)",
            "gridcolor": "#506784",
            "gridwidth": 2,
            "linecolor": "#506784",
            "showbackground": true,
            "ticks": "",
            "zerolinecolor": "#C8D4E3"
           },
           "zaxis": {
            "backgroundcolor": "rgb(17,17,17)",
            "gridcolor": "#506784",
            "gridwidth": 2,
            "linecolor": "#506784",
            "showbackground": true,
            "ticks": "",
            "zerolinecolor": "#C8D4E3"
           }
          },
          "shapedefaults": {
           "line": {
            "color": "#f2f5fa"
           }
          },
          "sliderdefaults": {
           "bgcolor": "#C8D4E3",
           "bordercolor": "rgb(17,17,17)",
           "borderwidth": 1,
           "tickwidth": 0
          },
          "ternary": {
           "aaxis": {
            "gridcolor": "#506784",
            "linecolor": "#506784",
            "ticks": ""
           },
           "baxis": {
            "gridcolor": "#506784",
            "linecolor": "#506784",
            "ticks": ""
           },
           "bgcolor": "rgb(17,17,17)",
           "caxis": {
            "gridcolor": "#506784",
            "linecolor": "#506784",
            "ticks": ""
           }
          },
          "title": {
           "x": 0.05
          },
          "updatemenudefaults": {
           "bgcolor": "#506784",
           "borderwidth": 0
          },
          "xaxis": {
           "automargin": true,
           "gridcolor": "#283442",
           "linecolor": "#506784",
           "ticks": "",
           "title": {
            "standoff": 15
           },
           "zerolinecolor": "#283442",
           "zerolinewidth": 2
          },
          "yaxis": {
           "automargin": true,
           "gridcolor": "#283442",
           "linecolor": "#506784",
           "ticks": "",
           "title": {
            "standoff": 15
           },
           "zerolinecolor": "#283442",
           "zerolinewidth": 2
          }
         }
        },
        "title": {
         "text": "Layoffs Over Time",
         "x": 0.5
        },
        "xaxis": {
         "anchor": "y",
         "domain": [
          0,
          1
         ],
         "title": {
          "text": "Date"
         }
        },
        "yaxis": {
         "anchor": "x",
         "domain": [
          0,
          1
         ],
         "title": {
          "text": "Number of Layoffs"
         }
        }
       }
      }
     },
     "metadata": {},
     "output_type": "display_data"
    }
   ],
   "source": [
    "df_sorted_date = clean_df.sort_values(by = 'Date')\n",
    "df_sorted_date['Cumulative_Layoffs'] = df_sorted_date['Layoffs'].cumsum()\n",
    "\n",
    "# Enhanced time series for cumulative layoffs over time\n",
    "fig_cum_date = px.line(\n",
    "    df_sorted_date,\n",
    "    x = 'Date',\n",
    "    y = 'Cumulative_Layoffs',\n",
    "    title = 'Layoffs Over Time',\n",
    "    template = 'plotly_dark',\n",
    "    labels = {'Cumulative_Layoffs': 'Number of Layoffs'}\n",
    ")\n",
    "\n",
    "fig_cum_date.update_layout(title_x = 0.5)\n",
    "fig_cum_date.update_traces(line = dict(color = 'blue', width = 2.5))\n",
    "\n",
    "fig_cum_date.show()"
   ]
  },
  {
   "cell_type": "code",
   "execution_count": 20,
   "id": "237f5b52-a0c9-409a-8482-098d0a14eeb2",
   "metadata": {},
   "outputs": [
    {
     "name": "stderr",
     "output_type": "stream",
     "text": [
      "c:\\Users\\salun\\AppData\\Local\\Programs\\Python\\Python310\\lib\\site-packages\\plotly\\express\\_core.py:2065: FutureWarning:\n",
      "\n",
      "When grouping with a length-1 list-like, you will need to pass a length-1 tuple to get_group in a future version of pandas. Pass `(name,)` instead of `name` to silence this warning.\n",
      "\n"
     ]
    },
    {
     "data": {
      "application/vnd.plotly.v1+json": {
       "config": {
        "plotlyServerURL": "https://plot.ly"
       },
       "data": [
        {
         "alignmentgroup": "True",
         "hovertemplate": "color=True<br>Company=%{x}<br>Layoffs=%{y}<extra></extra>",
         "legendgroup": "True",
         "marker": {
          "color": "brown",
          "pattern": {
           "shape": ""
          }
         },
         "name": "True",
         "offsetgroup": "True",
         "orientation": "v",
         "showlegend": true,
         "textposition": "auto",
         "type": "bar",
         "x": [
          "Loft"
         ],
         "xaxis": "x",
         "y": [
          1083
         ],
         "yaxis": "y"
        },
        {
         "alignmentgroup": "True",
         "hovertemplate": "color=False<br>Company=%{x}<br>Layoffs=%{y}<extra></extra>",
         "legendgroup": "False",
         "marker": {
          "color": "purple",
          "pattern": {
           "shape": ""
          }
         },
         "name": "False",
         "offsetgroup": "False",
         "orientation": "v",
         "showlegend": true,
         "textposition": "auto",
         "type": "bar",
         "x": [
          "Blend",
          "Roku",
          "Sonder",
          "MakeMyTrip",
          "Cerebral",
          "Zendesk",
          "ZipRecruiter",
          "Huobi",
          "Doma"
         ],
         "xaxis": "x",
         "y": [
          1010,
          760,
          750,
          700,
          685,
          670,
          670,
          575,
          560
         ],
         "yaxis": "y"
        }
       ],
       "layout": {
        "barmode": "relative",
        "legend": {
         "title": {
          "text": "color"
         },
         "tracegroupgap": 0
        },
        "showlegend": false,
        "template": {
         "data": {
          "bar": [
           {
            "error_x": {
             "color": "#2a3f5f"
            },
            "error_y": {
             "color": "#2a3f5f"
            },
            "marker": {
             "line": {
              "color": "#E5ECF6",
              "width": 0.5
             },
             "pattern": {
              "fillmode": "overlay",
              "size": 10,
              "solidity": 0.2
             }
            },
            "type": "bar"
           }
          ],
          "barpolar": [
           {
            "marker": {
             "line": {
              "color": "#E5ECF6",
              "width": 0.5
             },
             "pattern": {
              "fillmode": "overlay",
              "size": 10,
              "solidity": 0.2
             }
            },
            "type": "barpolar"
           }
          ],
          "carpet": [
           {
            "aaxis": {
             "endlinecolor": "#2a3f5f",
             "gridcolor": "white",
             "linecolor": "white",
             "minorgridcolor": "white",
             "startlinecolor": "#2a3f5f"
            },
            "baxis": {
             "endlinecolor": "#2a3f5f",
             "gridcolor": "white",
             "linecolor": "white",
             "minorgridcolor": "white",
             "startlinecolor": "#2a3f5f"
            },
            "type": "carpet"
           }
          ],
          "choropleth": [
           {
            "colorbar": {
             "outlinewidth": 0,
             "ticks": ""
            },
            "type": "choropleth"
           }
          ],
          "contour": [
           {
            "colorbar": {
             "outlinewidth": 0,
             "ticks": ""
            },
            "colorscale": [
             [
              0,
              "#0d0887"
             ],
             [
              0.1111111111111111,
              "#46039f"
             ],
             [
              0.2222222222222222,
              "#7201a8"
             ],
             [
              0.3333333333333333,
              "#9c179e"
             ],
             [
              0.4444444444444444,
              "#bd3786"
             ],
             [
              0.5555555555555556,
              "#d8576b"
             ],
             [
              0.6666666666666666,
              "#ed7953"
             ],
             [
              0.7777777777777778,
              "#fb9f3a"
             ],
             [
              0.8888888888888888,
              "#fdca26"
             ],
             [
              1,
              "#f0f921"
             ]
            ],
            "type": "contour"
           }
          ],
          "contourcarpet": [
           {
            "colorbar": {
             "outlinewidth": 0,
             "ticks": ""
            },
            "type": "contourcarpet"
           }
          ],
          "heatmap": [
           {
            "colorbar": {
             "outlinewidth": 0,
             "ticks": ""
            },
            "colorscale": [
             [
              0,
              "#0d0887"
             ],
             [
              0.1111111111111111,
              "#46039f"
             ],
             [
              0.2222222222222222,
              "#7201a8"
             ],
             [
              0.3333333333333333,
              "#9c179e"
             ],
             [
              0.4444444444444444,
              "#bd3786"
             ],
             [
              0.5555555555555556,
              "#d8576b"
             ],
             [
              0.6666666666666666,
              "#ed7953"
             ],
             [
              0.7777777777777778,
              "#fb9f3a"
             ],
             [
              0.8888888888888888,
              "#fdca26"
             ],
             [
              1,
              "#f0f921"
             ]
            ],
            "type": "heatmap"
           }
          ],
          "heatmapgl": [
           {
            "colorbar": {
             "outlinewidth": 0,
             "ticks": ""
            },
            "colorscale": [
             [
              0,
              "#0d0887"
             ],
             [
              0.1111111111111111,
              "#46039f"
             ],
             [
              0.2222222222222222,
              "#7201a8"
             ],
             [
              0.3333333333333333,
              "#9c179e"
             ],
             [
              0.4444444444444444,
              "#bd3786"
             ],
             [
              0.5555555555555556,
              "#d8576b"
             ],
             [
              0.6666666666666666,
              "#ed7953"
             ],
             [
              0.7777777777777778,
              "#fb9f3a"
             ],
             [
              0.8888888888888888,
              "#fdca26"
             ],
             [
              1,
              "#f0f921"
             ]
            ],
            "type": "heatmapgl"
           }
          ],
          "histogram": [
           {
            "marker": {
             "pattern": {
              "fillmode": "overlay",
              "size": 10,
              "solidity": 0.2
             }
            },
            "type": "histogram"
           }
          ],
          "histogram2d": [
           {
            "colorbar": {
             "outlinewidth": 0,
             "ticks": ""
            },
            "colorscale": [
             [
              0,
              "#0d0887"
             ],
             [
              0.1111111111111111,
              "#46039f"
             ],
             [
              0.2222222222222222,
              "#7201a8"
             ],
             [
              0.3333333333333333,
              "#9c179e"
             ],
             [
              0.4444444444444444,
              "#bd3786"
             ],
             [
              0.5555555555555556,
              "#d8576b"
             ],
             [
              0.6666666666666666,
              "#ed7953"
             ],
             [
              0.7777777777777778,
              "#fb9f3a"
             ],
             [
              0.8888888888888888,
              "#fdca26"
             ],
             [
              1,
              "#f0f921"
             ]
            ],
            "type": "histogram2d"
           }
          ],
          "histogram2dcontour": [
           {
            "colorbar": {
             "outlinewidth": 0,
             "ticks": ""
            },
            "colorscale": [
             [
              0,
              "#0d0887"
             ],
             [
              0.1111111111111111,
              "#46039f"
             ],
             [
              0.2222222222222222,
              "#7201a8"
             ],
             [
              0.3333333333333333,
              "#9c179e"
             ],
             [
              0.4444444444444444,
              "#bd3786"
             ],
             [
              0.5555555555555556,
              "#d8576b"
             ],
             [
              0.6666666666666666,
              "#ed7953"
             ],
             [
              0.7777777777777778,
              "#fb9f3a"
             ],
             [
              0.8888888888888888,
              "#fdca26"
             ],
             [
              1,
              "#f0f921"
             ]
            ],
            "type": "histogram2dcontour"
           }
          ],
          "mesh3d": [
           {
            "colorbar": {
             "outlinewidth": 0,
             "ticks": ""
            },
            "type": "mesh3d"
           }
          ],
          "parcoords": [
           {
            "line": {
             "colorbar": {
              "outlinewidth": 0,
              "ticks": ""
             }
            },
            "type": "parcoords"
           }
          ],
          "pie": [
           {
            "automargin": true,
            "type": "pie"
           }
          ],
          "scatter": [
           {
            "fillpattern": {
             "fillmode": "overlay",
             "size": 10,
             "solidity": 0.2
            },
            "type": "scatter"
           }
          ],
          "scatter3d": [
           {
            "line": {
             "colorbar": {
              "outlinewidth": 0,
              "ticks": ""
             }
            },
            "marker": {
             "colorbar": {
              "outlinewidth": 0,
              "ticks": ""
             }
            },
            "type": "scatter3d"
           }
          ],
          "scattercarpet": [
           {
            "marker": {
             "colorbar": {
              "outlinewidth": 0,
              "ticks": ""
             }
            },
            "type": "scattercarpet"
           }
          ],
          "scattergeo": [
           {
            "marker": {
             "colorbar": {
              "outlinewidth": 0,
              "ticks": ""
             }
            },
            "type": "scattergeo"
           }
          ],
          "scattergl": [
           {
            "marker": {
             "colorbar": {
              "outlinewidth": 0,
              "ticks": ""
             }
            },
            "type": "scattergl"
           }
          ],
          "scattermapbox": [
           {
            "marker": {
             "colorbar": {
              "outlinewidth": 0,
              "ticks": ""
             }
            },
            "type": "scattermapbox"
           }
          ],
          "scatterpolar": [
           {
            "marker": {
             "colorbar": {
              "outlinewidth": 0,
              "ticks": ""
             }
            },
            "type": "scatterpolar"
           }
          ],
          "scatterpolargl": [
           {
            "marker": {
             "colorbar": {
              "outlinewidth": 0,
              "ticks": ""
             }
            },
            "type": "scatterpolargl"
           }
          ],
          "scatterternary": [
           {
            "marker": {
             "colorbar": {
              "outlinewidth": 0,
              "ticks": ""
             }
            },
            "type": "scatterternary"
           }
          ],
          "surface": [
           {
            "colorbar": {
             "outlinewidth": 0,
             "ticks": ""
            },
            "colorscale": [
             [
              0,
              "#0d0887"
             ],
             [
              0.1111111111111111,
              "#46039f"
             ],
             [
              0.2222222222222222,
              "#7201a8"
             ],
             [
              0.3333333333333333,
              "#9c179e"
             ],
             [
              0.4444444444444444,
              "#bd3786"
             ],
             [
              0.5555555555555556,
              "#d8576b"
             ],
             [
              0.6666666666666666,
              "#ed7953"
             ],
             [
              0.7777777777777778,
              "#fb9f3a"
             ],
             [
              0.8888888888888888,
              "#fdca26"
             ],
             [
              1,
              "#f0f921"
             ]
            ],
            "type": "surface"
           }
          ],
          "table": [
           {
            "cells": {
             "fill": {
              "color": "#EBF0F8"
             },
             "line": {
              "color": "white"
             }
            },
            "header": {
             "fill": {
              "color": "#C8D4E3"
             },
             "line": {
              "color": "white"
             }
            },
            "type": "table"
           }
          ]
         },
         "layout": {
          "annotationdefaults": {
           "arrowcolor": "#2a3f5f",
           "arrowhead": 0,
           "arrowwidth": 1
          },
          "autotypenumbers": "strict",
          "coloraxis": {
           "colorbar": {
            "outlinewidth": 0,
            "ticks": ""
           }
          },
          "colorscale": {
           "diverging": [
            [
             0,
             "#8e0152"
            ],
            [
             0.1,
             "#c51b7d"
            ],
            [
             0.2,
             "#de77ae"
            ],
            [
             0.3,
             "#f1b6da"
            ],
            [
             0.4,
             "#fde0ef"
            ],
            [
             0.5,
             "#f7f7f7"
            ],
            [
             0.6,
             "#e6f5d0"
            ],
            [
             0.7,
             "#b8e186"
            ],
            [
             0.8,
             "#7fbc41"
            ],
            [
             0.9,
             "#4d9221"
            ],
            [
             1,
             "#276419"
            ]
           ],
           "sequential": [
            [
             0,
             "#0d0887"
            ],
            [
             0.1111111111111111,
             "#46039f"
            ],
            [
             0.2222222222222222,
             "#7201a8"
            ],
            [
             0.3333333333333333,
             "#9c179e"
            ],
            [
             0.4444444444444444,
             "#bd3786"
            ],
            [
             0.5555555555555556,
             "#d8576b"
            ],
            [
             0.6666666666666666,
             "#ed7953"
            ],
            [
             0.7777777777777778,
             "#fb9f3a"
            ],
            [
             0.8888888888888888,
             "#fdca26"
            ],
            [
             1,
             "#f0f921"
            ]
           ],
           "sequentialminus": [
            [
             0,
             "#0d0887"
            ],
            [
             0.1111111111111111,
             "#46039f"
            ],
            [
             0.2222222222222222,
             "#7201a8"
            ],
            [
             0.3333333333333333,
             "#9c179e"
            ],
            [
             0.4444444444444444,
             "#bd3786"
            ],
            [
             0.5555555555555556,
             "#d8576b"
            ],
            [
             0.6666666666666666,
             "#ed7953"
            ],
            [
             0.7777777777777778,
             "#fb9f3a"
            ],
            [
             0.8888888888888888,
             "#fdca26"
            ],
            [
             1,
             "#f0f921"
            ]
           ]
          },
          "colorway": [
           "#636efa",
           "#EF553B",
           "#00cc96",
           "#ab63fa",
           "#FFA15A",
           "#19d3f3",
           "#FF6692",
           "#B6E880",
           "#FF97FF",
           "#FECB52"
          ],
          "font": {
           "color": "#2a3f5f"
          },
          "geo": {
           "bgcolor": "white",
           "lakecolor": "white",
           "landcolor": "#E5ECF6",
           "showlakes": true,
           "showland": true,
           "subunitcolor": "white"
          },
          "hoverlabel": {
           "align": "left"
          },
          "hovermode": "closest",
          "mapbox": {
           "style": "light"
          },
          "paper_bgcolor": "white",
          "plot_bgcolor": "#E5ECF6",
          "polar": {
           "angularaxis": {
            "gridcolor": "white",
            "linecolor": "white",
            "ticks": ""
           },
           "bgcolor": "#E5ECF6",
           "radialaxis": {
            "gridcolor": "white",
            "linecolor": "white",
            "ticks": ""
           }
          },
          "scene": {
           "xaxis": {
            "backgroundcolor": "#E5ECF6",
            "gridcolor": "white",
            "gridwidth": 2,
            "linecolor": "white",
            "showbackground": true,
            "ticks": "",
            "zerolinecolor": "white"
           },
           "yaxis": {
            "backgroundcolor": "#E5ECF6",
            "gridcolor": "white",
            "gridwidth": 2,
            "linecolor": "white",
            "showbackground": true,
            "ticks": "",
            "zerolinecolor": "white"
           },
           "zaxis": {
            "backgroundcolor": "#E5ECF6",
            "gridcolor": "white",
            "gridwidth": 2,
            "linecolor": "white",
            "showbackground": true,
            "ticks": "",
            "zerolinecolor": "white"
           }
          },
          "shapedefaults": {
           "line": {
            "color": "#2a3f5f"
           }
          },
          "ternary": {
           "aaxis": {
            "gridcolor": "white",
            "linecolor": "white",
            "ticks": ""
           },
           "baxis": {
            "gridcolor": "white",
            "linecolor": "white",
            "ticks": ""
           },
           "bgcolor": "#E5ECF6",
           "caxis": {
            "gridcolor": "white",
            "linecolor": "white",
            "ticks": ""
           }
          },
          "title": {
           "x": 0.05
          },
          "xaxis": {
           "automargin": true,
           "gridcolor": "white",
           "linecolor": "white",
           "ticks": "",
           "title": {
            "standoff": 15
           },
           "zerolinecolor": "white",
           "zerolinewidth": 2
          },
          "yaxis": {
           "automargin": true,
           "gridcolor": "white",
           "linecolor": "white",
           "ticks": "",
           "title": {
            "standoff": 15
           },
           "zerolinecolor": "white",
           "zerolinewidth": 2
          }
         }
        },
        "title": {
         "text": "Companies with the Highest Layoffs",
         "x": 0.5
        },
        "xaxis": {
         "anchor": "y",
         "domain": [
          0,
          1
         ],
         "title": {
          "text": "Company"
         }
        },
        "yaxis": {
         "anchor": "x",
         "domain": [
          0,
          1
         ],
         "title": {
          "text": "Layoffs"
         }
        }
       }
      }
     },
     "metadata": {},
     "output_type": "display_data"
    }
   ],
   "source": [
    "company_layoffs = (\n",
    "    clean_df\n",
    "    .groupby('Company')['Layoffs']\n",
    "    .sum()\n",
    "    .sort_values(ascending = False)\n",
    "    .head(10)\n",
    "    .reset_index()\n",
    ")\n",
    "\n",
    "# Bar chart for companies with the highest number of layoffs\n",
    "fig_company = px.bar(\n",
    "    company_layoffs,\n",
    "    x = 'Company',\n",
    "    y = 'Layoffs',\n",
    "    title = 'Companies with the Highest Layoffs',\n",
    "    color = company_layoffs.index.isin(company_layoffs.head(1).index).astype(str),\n",
    "    color_discrete_map = {'False': 'purple', 'True': 'brown'}\n",
    ")\n",
    "\n",
    "fig_company.update_layout(\n",
    "    title_x = 0.5, \n",
    "    showlegend = False\n",
    ")\n",
    "\n",
    "fig_company.show()"
   ]
  },
  {
   "cell_type": "code",
   "execution_count": 21,
   "id": "15cd9bcc-93e1-4973-aeef-e71427ed9db7",
   "metadata": {},
   "outputs": [
    {
     "name": "stderr",
     "output_type": "stream",
     "text": [
      "c:\\Users\\salun\\AppData\\Local\\Programs\\Python\\Python310\\lib\\site-packages\\plotly\\express\\_core.py:2065: FutureWarning:\n",
      "\n",
      "When grouping with a length-1 list-like, you will need to pass a length-1 tuple to get_group in a future version of pandas. Pass `(name,)` instead of `name` to silence this warning.\n",
      "\n"
     ]
    },
    {
     "data": {
      "application/vnd.plotly.v1+json": {
       "config": {
        "plotlyServerURL": "https://plot.ly"
       },
       "data": [
        {
         "alignmentgroup": "True",
         "hovertemplate": "color=True<br>Country=%{x}<br>Layoffs=%{y}<extra></extra>",
         "legendgroup": "True",
         "marker": {
          "color": "purple",
          "pattern": {
           "shape": ""
          }
         },
         "name": "True",
         "offsetgroup": "True",
         "orientation": "v",
         "showlegend": true,
         "textposition": "auto",
         "type": "bar",
         "x": [
          "United States"
         ],
         "xaxis": "x",
         "y": [
          65499
         ],
         "yaxis": "y"
        },
        {
         "alignmentgroup": "True",
         "hovertemplate": "color=False<br>Country=%{x}<br>Layoffs=%{y}<extra></extra>",
         "legendgroup": "False",
         "marker": {
          "color": "brown",
          "pattern": {
           "shape": ""
          }
         },
         "name": "False",
         "offsetgroup": "False",
         "orientation": "v",
         "showlegend": true,
         "textposition": "auto",
         "type": "bar",
         "x": [
          "India",
          "Brazil",
          "Canada",
          "United Kingdom",
          "Germany",
          "Israel",
          "Singapore",
          "Australia",
          "Kenya",
          "France",
          "Indonesia",
          "Sweden",
          "China",
          "Hong Kong",
          "United Arab Emirates",
          "Russia",
          "Estonia",
          "Ireland",
          "Senegal",
          "Chile",
          "Austria",
          "Finland",
          "Argentina",
          "New Zealand",
          "Mexico",
          "Norway",
          "Malaysia",
          "Spain",
          "Portugal",
          "Seychelles",
          "Nigeria",
          "Switzerland",
          "Thailand",
          "Netherlands",
          "Denmark"
         ],
         "xaxis": "x",
         "y": [
          9098,
          5603,
          4306,
          2856,
          2422,
          2190,
          1144,
          1076,
          982,
          900,
          791,
          782,
          755,
          730,
          459,
          400,
          373,
          366,
          300,
          295,
          270,
          250,
          233,
          225,
          170,
          140,
          100,
          89,
          80,
          75,
          70,
          62,
          55,
          35,
          35
         ],
         "yaxis": "y"
        }
       ],
       "layout": {
        "barmode": "relative",
        "legend": {
         "title": {
          "text": "color"
         },
         "tracegroupgap": 0
        },
        "showlegend": false,
        "template": {
         "data": {
          "bar": [
           {
            "error_x": {
             "color": "#2a3f5f"
            },
            "error_y": {
             "color": "#2a3f5f"
            },
            "marker": {
             "line": {
              "color": "#E5ECF6",
              "width": 0.5
             },
             "pattern": {
              "fillmode": "overlay",
              "size": 10,
              "solidity": 0.2
             }
            },
            "type": "bar"
           }
          ],
          "barpolar": [
           {
            "marker": {
             "line": {
              "color": "#E5ECF6",
              "width": 0.5
             },
             "pattern": {
              "fillmode": "overlay",
              "size": 10,
              "solidity": 0.2
             }
            },
            "type": "barpolar"
           }
          ],
          "carpet": [
           {
            "aaxis": {
             "endlinecolor": "#2a3f5f",
             "gridcolor": "white",
             "linecolor": "white",
             "minorgridcolor": "white",
             "startlinecolor": "#2a3f5f"
            },
            "baxis": {
             "endlinecolor": "#2a3f5f",
             "gridcolor": "white",
             "linecolor": "white",
             "minorgridcolor": "white",
             "startlinecolor": "#2a3f5f"
            },
            "type": "carpet"
           }
          ],
          "choropleth": [
           {
            "colorbar": {
             "outlinewidth": 0,
             "ticks": ""
            },
            "type": "choropleth"
           }
          ],
          "contour": [
           {
            "colorbar": {
             "outlinewidth": 0,
             "ticks": ""
            },
            "colorscale": [
             [
              0,
              "#0d0887"
             ],
             [
              0.1111111111111111,
              "#46039f"
             ],
             [
              0.2222222222222222,
              "#7201a8"
             ],
             [
              0.3333333333333333,
              "#9c179e"
             ],
             [
              0.4444444444444444,
              "#bd3786"
             ],
             [
              0.5555555555555556,
              "#d8576b"
             ],
             [
              0.6666666666666666,
              "#ed7953"
             ],
             [
              0.7777777777777778,
              "#fb9f3a"
             ],
             [
              0.8888888888888888,
              "#fdca26"
             ],
             [
              1,
              "#f0f921"
             ]
            ],
            "type": "contour"
           }
          ],
          "contourcarpet": [
           {
            "colorbar": {
             "outlinewidth": 0,
             "ticks": ""
            },
            "type": "contourcarpet"
           }
          ],
          "heatmap": [
           {
            "colorbar": {
             "outlinewidth": 0,
             "ticks": ""
            },
            "colorscale": [
             [
              0,
              "#0d0887"
             ],
             [
              0.1111111111111111,
              "#46039f"
             ],
             [
              0.2222222222222222,
              "#7201a8"
             ],
             [
              0.3333333333333333,
              "#9c179e"
             ],
             [
              0.4444444444444444,
              "#bd3786"
             ],
             [
              0.5555555555555556,
              "#d8576b"
             ],
             [
              0.6666666666666666,
              "#ed7953"
             ],
             [
              0.7777777777777778,
              "#fb9f3a"
             ],
             [
              0.8888888888888888,
              "#fdca26"
             ],
             [
              1,
              "#f0f921"
             ]
            ],
            "type": "heatmap"
           }
          ],
          "heatmapgl": [
           {
            "colorbar": {
             "outlinewidth": 0,
             "ticks": ""
            },
            "colorscale": [
             [
              0,
              "#0d0887"
             ],
             [
              0.1111111111111111,
              "#46039f"
             ],
             [
              0.2222222222222222,
              "#7201a8"
             ],
             [
              0.3333333333333333,
              "#9c179e"
             ],
             [
              0.4444444444444444,
              "#bd3786"
             ],
             [
              0.5555555555555556,
              "#d8576b"
             ],
             [
              0.6666666666666666,
              "#ed7953"
             ],
             [
              0.7777777777777778,
              "#fb9f3a"
             ],
             [
              0.8888888888888888,
              "#fdca26"
             ],
             [
              1,
              "#f0f921"
             ]
            ],
            "type": "heatmapgl"
           }
          ],
          "histogram": [
           {
            "marker": {
             "pattern": {
              "fillmode": "overlay",
              "size": 10,
              "solidity": 0.2
             }
            },
            "type": "histogram"
           }
          ],
          "histogram2d": [
           {
            "colorbar": {
             "outlinewidth": 0,
             "ticks": ""
            },
            "colorscale": [
             [
              0,
              "#0d0887"
             ],
             [
              0.1111111111111111,
              "#46039f"
             ],
             [
              0.2222222222222222,
              "#7201a8"
             ],
             [
              0.3333333333333333,
              "#9c179e"
             ],
             [
              0.4444444444444444,
              "#bd3786"
             ],
             [
              0.5555555555555556,
              "#d8576b"
             ],
             [
              0.6666666666666666,
              "#ed7953"
             ],
             [
              0.7777777777777778,
              "#fb9f3a"
             ],
             [
              0.8888888888888888,
              "#fdca26"
             ],
             [
              1,
              "#f0f921"
             ]
            ],
            "type": "histogram2d"
           }
          ],
          "histogram2dcontour": [
           {
            "colorbar": {
             "outlinewidth": 0,
             "ticks": ""
            },
            "colorscale": [
             [
              0,
              "#0d0887"
             ],
             [
              0.1111111111111111,
              "#46039f"
             ],
             [
              0.2222222222222222,
              "#7201a8"
             ],
             [
              0.3333333333333333,
              "#9c179e"
             ],
             [
              0.4444444444444444,
              "#bd3786"
             ],
             [
              0.5555555555555556,
              "#d8576b"
             ],
             [
              0.6666666666666666,
              "#ed7953"
             ],
             [
              0.7777777777777778,
              "#fb9f3a"
             ],
             [
              0.8888888888888888,
              "#fdca26"
             ],
             [
              1,
              "#f0f921"
             ]
            ],
            "type": "histogram2dcontour"
           }
          ],
          "mesh3d": [
           {
            "colorbar": {
             "outlinewidth": 0,
             "ticks": ""
            },
            "type": "mesh3d"
           }
          ],
          "parcoords": [
           {
            "line": {
             "colorbar": {
              "outlinewidth": 0,
              "ticks": ""
             }
            },
            "type": "parcoords"
           }
          ],
          "pie": [
           {
            "automargin": true,
            "type": "pie"
           }
          ],
          "scatter": [
           {
            "fillpattern": {
             "fillmode": "overlay",
             "size": 10,
             "solidity": 0.2
            },
            "type": "scatter"
           }
          ],
          "scatter3d": [
           {
            "line": {
             "colorbar": {
              "outlinewidth": 0,
              "ticks": ""
             }
            },
            "marker": {
             "colorbar": {
              "outlinewidth": 0,
              "ticks": ""
             }
            },
            "type": "scatter3d"
           }
          ],
          "scattercarpet": [
           {
            "marker": {
             "colorbar": {
              "outlinewidth": 0,
              "ticks": ""
             }
            },
            "type": "scattercarpet"
           }
          ],
          "scattergeo": [
           {
            "marker": {
             "colorbar": {
              "outlinewidth": 0,
              "ticks": ""
             }
            },
            "type": "scattergeo"
           }
          ],
          "scattergl": [
           {
            "marker": {
             "colorbar": {
              "outlinewidth": 0,
              "ticks": ""
             }
            },
            "type": "scattergl"
           }
          ],
          "scattermapbox": [
           {
            "marker": {
             "colorbar": {
              "outlinewidth": 0,
              "ticks": ""
             }
            },
            "type": "scattermapbox"
           }
          ],
          "scatterpolar": [
           {
            "marker": {
             "colorbar": {
              "outlinewidth": 0,
              "ticks": ""
             }
            },
            "type": "scatterpolar"
           }
          ],
          "scatterpolargl": [
           {
            "marker": {
             "colorbar": {
              "outlinewidth": 0,
              "ticks": ""
             }
            },
            "type": "scatterpolargl"
           }
          ],
          "scatterternary": [
           {
            "marker": {
             "colorbar": {
              "outlinewidth": 0,
              "ticks": ""
             }
            },
            "type": "scatterternary"
           }
          ],
          "surface": [
           {
            "colorbar": {
             "outlinewidth": 0,
             "ticks": ""
            },
            "colorscale": [
             [
              0,
              "#0d0887"
             ],
             [
              0.1111111111111111,
              "#46039f"
             ],
             [
              0.2222222222222222,
              "#7201a8"
             ],
             [
              0.3333333333333333,
              "#9c179e"
             ],
             [
              0.4444444444444444,
              "#bd3786"
             ],
             [
              0.5555555555555556,
              "#d8576b"
             ],
             [
              0.6666666666666666,
              "#ed7953"
             ],
             [
              0.7777777777777778,
              "#fb9f3a"
             ],
             [
              0.8888888888888888,
              "#fdca26"
             ],
             [
              1,
              "#f0f921"
             ]
            ],
            "type": "surface"
           }
          ],
          "table": [
           {
            "cells": {
             "fill": {
              "color": "#EBF0F8"
             },
             "line": {
              "color": "white"
             }
            },
            "header": {
             "fill": {
              "color": "#C8D4E3"
             },
             "line": {
              "color": "white"
             }
            },
            "type": "table"
           }
          ]
         },
         "layout": {
          "annotationdefaults": {
           "arrowcolor": "#2a3f5f",
           "arrowhead": 0,
           "arrowwidth": 1
          },
          "autotypenumbers": "strict",
          "coloraxis": {
           "colorbar": {
            "outlinewidth": 0,
            "ticks": ""
           }
          },
          "colorscale": {
           "diverging": [
            [
             0,
             "#8e0152"
            ],
            [
             0.1,
             "#c51b7d"
            ],
            [
             0.2,
             "#de77ae"
            ],
            [
             0.3,
             "#f1b6da"
            ],
            [
             0.4,
             "#fde0ef"
            ],
            [
             0.5,
             "#f7f7f7"
            ],
            [
             0.6,
             "#e6f5d0"
            ],
            [
             0.7,
             "#b8e186"
            ],
            [
             0.8,
             "#7fbc41"
            ],
            [
             0.9,
             "#4d9221"
            ],
            [
             1,
             "#276419"
            ]
           ],
           "sequential": [
            [
             0,
             "#0d0887"
            ],
            [
             0.1111111111111111,
             "#46039f"
            ],
            [
             0.2222222222222222,
             "#7201a8"
            ],
            [
             0.3333333333333333,
             "#9c179e"
            ],
            [
             0.4444444444444444,
             "#bd3786"
            ],
            [
             0.5555555555555556,
             "#d8576b"
            ],
            [
             0.6666666666666666,
             "#ed7953"
            ],
            [
             0.7777777777777778,
             "#fb9f3a"
            ],
            [
             0.8888888888888888,
             "#fdca26"
            ],
            [
             1,
             "#f0f921"
            ]
           ],
           "sequentialminus": [
            [
             0,
             "#0d0887"
            ],
            [
             0.1111111111111111,
             "#46039f"
            ],
            [
             0.2222222222222222,
             "#7201a8"
            ],
            [
             0.3333333333333333,
             "#9c179e"
            ],
            [
             0.4444444444444444,
             "#bd3786"
            ],
            [
             0.5555555555555556,
             "#d8576b"
            ],
            [
             0.6666666666666666,
             "#ed7953"
            ],
            [
             0.7777777777777778,
             "#fb9f3a"
            ],
            [
             0.8888888888888888,
             "#fdca26"
            ],
            [
             1,
             "#f0f921"
            ]
           ]
          },
          "colorway": [
           "#636efa",
           "#EF553B",
           "#00cc96",
           "#ab63fa",
           "#FFA15A",
           "#19d3f3",
           "#FF6692",
           "#B6E880",
           "#FF97FF",
           "#FECB52"
          ],
          "font": {
           "color": "#2a3f5f"
          },
          "geo": {
           "bgcolor": "white",
           "lakecolor": "white",
           "landcolor": "#E5ECF6",
           "showlakes": true,
           "showland": true,
           "subunitcolor": "white"
          },
          "hoverlabel": {
           "align": "left"
          },
          "hovermode": "closest",
          "mapbox": {
           "style": "light"
          },
          "paper_bgcolor": "white",
          "plot_bgcolor": "#E5ECF6",
          "polar": {
           "angularaxis": {
            "gridcolor": "white",
            "linecolor": "white",
            "ticks": ""
           },
           "bgcolor": "#E5ECF6",
           "radialaxis": {
            "gridcolor": "white",
            "linecolor": "white",
            "ticks": ""
           }
          },
          "scene": {
           "xaxis": {
            "backgroundcolor": "#E5ECF6",
            "gridcolor": "white",
            "gridwidth": 2,
            "linecolor": "white",
            "showbackground": true,
            "ticks": "",
            "zerolinecolor": "white"
           },
           "yaxis": {
            "backgroundcolor": "#E5ECF6",
            "gridcolor": "white",
            "gridwidth": 2,
            "linecolor": "white",
            "showbackground": true,
            "ticks": "",
            "zerolinecolor": "white"
           },
           "zaxis": {
            "backgroundcolor": "#E5ECF6",
            "gridcolor": "white",
            "gridwidth": 2,
            "linecolor": "white",
            "showbackground": true,
            "ticks": "",
            "zerolinecolor": "white"
           }
          },
          "shapedefaults": {
           "line": {
            "color": "#2a3f5f"
           }
          },
          "ternary": {
           "aaxis": {
            "gridcolor": "white",
            "linecolor": "white",
            "ticks": ""
           },
           "baxis": {
            "gridcolor": "white",
            "linecolor": "white",
            "ticks": ""
           },
           "bgcolor": "#E5ECF6",
           "caxis": {
            "gridcolor": "white",
            "linecolor": "white",
            "ticks": ""
           }
          },
          "title": {
           "x": 0.05
          },
          "xaxis": {
           "automargin": true,
           "gridcolor": "white",
           "linecolor": "white",
           "ticks": "",
           "title": {
            "standoff": 15
           },
           "zerolinecolor": "white",
           "zerolinewidth": 2
          },
          "yaxis": {
           "automargin": true,
           "gridcolor": "white",
           "linecolor": "white",
           "ticks": "",
           "title": {
            "standoff": 15
           },
           "zerolinecolor": "white",
           "zerolinewidth": 2
          }
         }
        },
        "title": {
         "text": "Total Layoffs by Country",
         "x": 0.5
        },
        "xaxis": {
         "anchor": "y",
         "domain": [
          0,
          1
         ],
         "title": {
          "text": "Country"
         }
        },
        "yaxis": {
         "anchor": "x",
         "domain": [
          0,
          1
         ],
         "title": {
          "text": "Layoffs"
         }
        }
       }
      }
     },
     "metadata": {},
     "output_type": "display_data"
    }
   ],
   "source": [
    "country_layoffs = (\n",
    "    clean_df\n",
    "    .groupby('Country')['Layoffs']\n",
    "    .sum()\n",
    "    .sort_values(ascending = False)\n",
    "    .reset_index()\n",
    ")\n",
    "\n",
    "# Bar chart for total layoffs by country\n",
    "fig_country_layoffs = px.bar(\n",
    "    country_layoffs, \n",
    "    x = 'Country', \n",
    "    y = 'Layoffs', \n",
    "    title = 'Total Layoffs by Country', \n",
    "    color = np.where(country_layoffs.index == 0, True, False),\n",
    "    color_discrete_map = {True: 'purple', False: 'brown'}\n",
    ")\n",
    "\n",
    "fig_country_layoffs.update_layout(title_x = 0.5, showlegend = False)\n",
    "\n",
    "fig_country_layoffs.show()"
   ]
  },
  {
   "cell_type": "code",
   "execution_count": 22,
   "id": "09b8eea8-f98b-4d56-89ee-9bfb73b1a3de",
   "metadata": {},
   "outputs": [
    {
     "data": {
      "application/vnd.plotly.v1+json": {
       "config": {
        "plotlyServerURL": "https://plot.ly"
       },
       "data": [
        {
         "coloraxis": "coloraxis",
         "geo": "geo",
         "hovertemplate": "<b>%{hovertext}</b><br><br>Country=%{location}<br>Layoffs=%{z}<extra></extra>",
         "hovertext": [
          "Argentina",
          "Australia",
          "Austria",
          "Brazil",
          "Canada",
          "Chile",
          "China",
          "Denmark",
          "Estonia",
          "Finland",
          "France",
          "Germany",
          "Hong Kong",
          "India",
          "Indonesia",
          "Ireland",
          "Israel",
          "Kenya",
          "Malaysia",
          "Mexico",
          "Netherlands",
          "New Zealand",
          "Nigeria",
          "Norway",
          "Portugal",
          "Russia",
          "Senegal",
          "Seychelles",
          "Singapore",
          "Spain",
          "Sweden",
          "Switzerland",
          "Thailand",
          "United Arab Emirates",
          "United Kingdom",
          "United States"
         ],
         "locationmode": "country names",
         "locations": [
          "Argentina",
          "Australia",
          "Austria",
          "Brazil",
          "Canada",
          "Chile",
          "China",
          "Denmark",
          "Estonia",
          "Finland",
          "France",
          "Germany",
          "Hong Kong",
          "India",
          "Indonesia",
          "Ireland",
          "Israel",
          "Kenya",
          "Malaysia",
          "Mexico",
          "Netherlands",
          "New Zealand",
          "Nigeria",
          "Norway",
          "Portugal",
          "Russia",
          "Senegal",
          "Seychelles",
          "Singapore",
          "Spain",
          "Sweden",
          "Switzerland",
          "Thailand",
          "United Arab Emirates",
          "United Kingdom",
          "United States"
         ],
         "name": "",
         "type": "choropleth",
         "z": [
          233,
          1076,
          270,
          5603,
          4306,
          295,
          755,
          35,
          373,
          250,
          900,
          2422,
          730,
          9098,
          791,
          366,
          2190,
          982,
          100,
          170,
          35,
          225,
          70,
          140,
          80,
          400,
          300,
          75,
          1144,
          89,
          782,
          62,
          55,
          459,
          2856,
          65499
         ]
        }
       ],
       "layout": {
        "coloraxis": {
         "colorbar": {
          "title": {
           "text": "Layoffs"
          }
         },
         "colorscale": [
          [
           0,
           "rgb(243, 203, 211)"
          ],
          [
           0.16666666666666666,
           "rgb(234, 169, 189)"
          ],
          [
           0.3333333333333333,
           "rgb(221, 136, 172)"
          ],
          [
           0.5,
           "rgb(202, 105, 157)"
          ],
          [
           0.6666666666666666,
           "rgb(177, 77, 142)"
          ],
          [
           0.8333333333333334,
           "rgb(145, 53, 125)"
          ],
          [
           1,
           "rgb(108, 33, 103)"
          ]
         ]
        },
        "geo": {
         "center": {},
         "domain": {
          "x": [
           0,
           1
          ],
          "y": [
           0,
           1
          ]
         }
        },
        "legend": {
         "tracegroupgap": 0
        },
        "template": {
         "data": {
          "bar": [
           {
            "error_x": {
             "color": "#2a3f5f"
            },
            "error_y": {
             "color": "#2a3f5f"
            },
            "marker": {
             "line": {
              "color": "#E5ECF6",
              "width": 0.5
             },
             "pattern": {
              "fillmode": "overlay",
              "size": 10,
              "solidity": 0.2
             }
            },
            "type": "bar"
           }
          ],
          "barpolar": [
           {
            "marker": {
             "line": {
              "color": "#E5ECF6",
              "width": 0.5
             },
             "pattern": {
              "fillmode": "overlay",
              "size": 10,
              "solidity": 0.2
             }
            },
            "type": "barpolar"
           }
          ],
          "carpet": [
           {
            "aaxis": {
             "endlinecolor": "#2a3f5f",
             "gridcolor": "white",
             "linecolor": "white",
             "minorgridcolor": "white",
             "startlinecolor": "#2a3f5f"
            },
            "baxis": {
             "endlinecolor": "#2a3f5f",
             "gridcolor": "white",
             "linecolor": "white",
             "minorgridcolor": "white",
             "startlinecolor": "#2a3f5f"
            },
            "type": "carpet"
           }
          ],
          "choropleth": [
           {
            "colorbar": {
             "outlinewidth": 0,
             "ticks": ""
            },
            "type": "choropleth"
           }
          ],
          "contour": [
           {
            "colorbar": {
             "outlinewidth": 0,
             "ticks": ""
            },
            "colorscale": [
             [
              0,
              "#0d0887"
             ],
             [
              0.1111111111111111,
              "#46039f"
             ],
             [
              0.2222222222222222,
              "#7201a8"
             ],
             [
              0.3333333333333333,
              "#9c179e"
             ],
             [
              0.4444444444444444,
              "#bd3786"
             ],
             [
              0.5555555555555556,
              "#d8576b"
             ],
             [
              0.6666666666666666,
              "#ed7953"
             ],
             [
              0.7777777777777778,
              "#fb9f3a"
             ],
             [
              0.8888888888888888,
              "#fdca26"
             ],
             [
              1,
              "#f0f921"
             ]
            ],
            "type": "contour"
           }
          ],
          "contourcarpet": [
           {
            "colorbar": {
             "outlinewidth": 0,
             "ticks": ""
            },
            "type": "contourcarpet"
           }
          ],
          "heatmap": [
           {
            "colorbar": {
             "outlinewidth": 0,
             "ticks": ""
            },
            "colorscale": [
             [
              0,
              "#0d0887"
             ],
             [
              0.1111111111111111,
              "#46039f"
             ],
             [
              0.2222222222222222,
              "#7201a8"
             ],
             [
              0.3333333333333333,
              "#9c179e"
             ],
             [
              0.4444444444444444,
              "#bd3786"
             ],
             [
              0.5555555555555556,
              "#d8576b"
             ],
             [
              0.6666666666666666,
              "#ed7953"
             ],
             [
              0.7777777777777778,
              "#fb9f3a"
             ],
             [
              0.8888888888888888,
              "#fdca26"
             ],
             [
              1,
              "#f0f921"
             ]
            ],
            "type": "heatmap"
           }
          ],
          "heatmapgl": [
           {
            "colorbar": {
             "outlinewidth": 0,
             "ticks": ""
            },
            "colorscale": [
             [
              0,
              "#0d0887"
             ],
             [
              0.1111111111111111,
              "#46039f"
             ],
             [
              0.2222222222222222,
              "#7201a8"
             ],
             [
              0.3333333333333333,
              "#9c179e"
             ],
             [
              0.4444444444444444,
              "#bd3786"
             ],
             [
              0.5555555555555556,
              "#d8576b"
             ],
             [
              0.6666666666666666,
              "#ed7953"
             ],
             [
              0.7777777777777778,
              "#fb9f3a"
             ],
             [
              0.8888888888888888,
              "#fdca26"
             ],
             [
              1,
              "#f0f921"
             ]
            ],
            "type": "heatmapgl"
           }
          ],
          "histogram": [
           {
            "marker": {
             "pattern": {
              "fillmode": "overlay",
              "size": 10,
              "solidity": 0.2
             }
            },
            "type": "histogram"
           }
          ],
          "histogram2d": [
           {
            "colorbar": {
             "outlinewidth": 0,
             "ticks": ""
            },
            "colorscale": [
             [
              0,
              "#0d0887"
             ],
             [
              0.1111111111111111,
              "#46039f"
             ],
             [
              0.2222222222222222,
              "#7201a8"
             ],
             [
              0.3333333333333333,
              "#9c179e"
             ],
             [
              0.4444444444444444,
              "#bd3786"
             ],
             [
              0.5555555555555556,
              "#d8576b"
             ],
             [
              0.6666666666666666,
              "#ed7953"
             ],
             [
              0.7777777777777778,
              "#fb9f3a"
             ],
             [
              0.8888888888888888,
              "#fdca26"
             ],
             [
              1,
              "#f0f921"
             ]
            ],
            "type": "histogram2d"
           }
          ],
          "histogram2dcontour": [
           {
            "colorbar": {
             "outlinewidth": 0,
             "ticks": ""
            },
            "colorscale": [
             [
              0,
              "#0d0887"
             ],
             [
              0.1111111111111111,
              "#46039f"
             ],
             [
              0.2222222222222222,
              "#7201a8"
             ],
             [
              0.3333333333333333,
              "#9c179e"
             ],
             [
              0.4444444444444444,
              "#bd3786"
             ],
             [
              0.5555555555555556,
              "#d8576b"
             ],
             [
              0.6666666666666666,
              "#ed7953"
             ],
             [
              0.7777777777777778,
              "#fb9f3a"
             ],
             [
              0.8888888888888888,
              "#fdca26"
             ],
             [
              1,
              "#f0f921"
             ]
            ],
            "type": "histogram2dcontour"
           }
          ],
          "mesh3d": [
           {
            "colorbar": {
             "outlinewidth": 0,
             "ticks": ""
            },
            "type": "mesh3d"
           }
          ],
          "parcoords": [
           {
            "line": {
             "colorbar": {
              "outlinewidth": 0,
              "ticks": ""
             }
            },
            "type": "parcoords"
           }
          ],
          "pie": [
           {
            "automargin": true,
            "type": "pie"
           }
          ],
          "scatter": [
           {
            "fillpattern": {
             "fillmode": "overlay",
             "size": 10,
             "solidity": 0.2
            },
            "type": "scatter"
           }
          ],
          "scatter3d": [
           {
            "line": {
             "colorbar": {
              "outlinewidth": 0,
              "ticks": ""
             }
            },
            "marker": {
             "colorbar": {
              "outlinewidth": 0,
              "ticks": ""
             }
            },
            "type": "scatter3d"
           }
          ],
          "scattercarpet": [
           {
            "marker": {
             "colorbar": {
              "outlinewidth": 0,
              "ticks": ""
             }
            },
            "type": "scattercarpet"
           }
          ],
          "scattergeo": [
           {
            "marker": {
             "colorbar": {
              "outlinewidth": 0,
              "ticks": ""
             }
            },
            "type": "scattergeo"
           }
          ],
          "scattergl": [
           {
            "marker": {
             "colorbar": {
              "outlinewidth": 0,
              "ticks": ""
             }
            },
            "type": "scattergl"
           }
          ],
          "scattermapbox": [
           {
            "marker": {
             "colorbar": {
              "outlinewidth": 0,
              "ticks": ""
             }
            },
            "type": "scattermapbox"
           }
          ],
          "scatterpolar": [
           {
            "marker": {
             "colorbar": {
              "outlinewidth": 0,
              "ticks": ""
             }
            },
            "type": "scatterpolar"
           }
          ],
          "scatterpolargl": [
           {
            "marker": {
             "colorbar": {
              "outlinewidth": 0,
              "ticks": ""
             }
            },
            "type": "scatterpolargl"
           }
          ],
          "scatterternary": [
           {
            "marker": {
             "colorbar": {
              "outlinewidth": 0,
              "ticks": ""
             }
            },
            "type": "scatterternary"
           }
          ],
          "surface": [
           {
            "colorbar": {
             "outlinewidth": 0,
             "ticks": ""
            },
            "colorscale": [
             [
              0,
              "#0d0887"
             ],
             [
              0.1111111111111111,
              "#46039f"
             ],
             [
              0.2222222222222222,
              "#7201a8"
             ],
             [
              0.3333333333333333,
              "#9c179e"
             ],
             [
              0.4444444444444444,
              "#bd3786"
             ],
             [
              0.5555555555555556,
              "#d8576b"
             ],
             [
              0.6666666666666666,
              "#ed7953"
             ],
             [
              0.7777777777777778,
              "#fb9f3a"
             ],
             [
              0.8888888888888888,
              "#fdca26"
             ],
             [
              1,
              "#f0f921"
             ]
            ],
            "type": "surface"
           }
          ],
          "table": [
           {
            "cells": {
             "fill": {
              "color": "#EBF0F8"
             },
             "line": {
              "color": "white"
             }
            },
            "header": {
             "fill": {
              "color": "#C8D4E3"
             },
             "line": {
              "color": "white"
             }
            },
            "type": "table"
           }
          ]
         },
         "layout": {
          "annotationdefaults": {
           "arrowcolor": "#2a3f5f",
           "arrowhead": 0,
           "arrowwidth": 1
          },
          "autotypenumbers": "strict",
          "coloraxis": {
           "colorbar": {
            "outlinewidth": 0,
            "ticks": ""
           }
          },
          "colorscale": {
           "diverging": [
            [
             0,
             "#8e0152"
            ],
            [
             0.1,
             "#c51b7d"
            ],
            [
             0.2,
             "#de77ae"
            ],
            [
             0.3,
             "#f1b6da"
            ],
            [
             0.4,
             "#fde0ef"
            ],
            [
             0.5,
             "#f7f7f7"
            ],
            [
             0.6,
             "#e6f5d0"
            ],
            [
             0.7,
             "#b8e186"
            ],
            [
             0.8,
             "#7fbc41"
            ],
            [
             0.9,
             "#4d9221"
            ],
            [
             1,
             "#276419"
            ]
           ],
           "sequential": [
            [
             0,
             "#0d0887"
            ],
            [
             0.1111111111111111,
             "#46039f"
            ],
            [
             0.2222222222222222,
             "#7201a8"
            ],
            [
             0.3333333333333333,
             "#9c179e"
            ],
            [
             0.4444444444444444,
             "#bd3786"
            ],
            [
             0.5555555555555556,
             "#d8576b"
            ],
            [
             0.6666666666666666,
             "#ed7953"
            ],
            [
             0.7777777777777778,
             "#fb9f3a"
            ],
            [
             0.8888888888888888,
             "#fdca26"
            ],
            [
             1,
             "#f0f921"
            ]
           ],
           "sequentialminus": [
            [
             0,
             "#0d0887"
            ],
            [
             0.1111111111111111,
             "#46039f"
            ],
            [
             0.2222222222222222,
             "#7201a8"
            ],
            [
             0.3333333333333333,
             "#9c179e"
            ],
            [
             0.4444444444444444,
             "#bd3786"
            ],
            [
             0.5555555555555556,
             "#d8576b"
            ],
            [
             0.6666666666666666,
             "#ed7953"
            ],
            [
             0.7777777777777778,
             "#fb9f3a"
            ],
            [
             0.8888888888888888,
             "#fdca26"
            ],
            [
             1,
             "#f0f921"
            ]
           ]
          },
          "colorway": [
           "#636efa",
           "#EF553B",
           "#00cc96",
           "#ab63fa",
           "#FFA15A",
           "#19d3f3",
           "#FF6692",
           "#B6E880",
           "#FF97FF",
           "#FECB52"
          ],
          "font": {
           "color": "#2a3f5f"
          },
          "geo": {
           "bgcolor": "white",
           "lakecolor": "white",
           "landcolor": "#E5ECF6",
           "showlakes": true,
           "showland": true,
           "subunitcolor": "white"
          },
          "hoverlabel": {
           "align": "left"
          },
          "hovermode": "closest",
          "mapbox": {
           "style": "light"
          },
          "paper_bgcolor": "white",
          "plot_bgcolor": "#E5ECF6",
          "polar": {
           "angularaxis": {
            "gridcolor": "white",
            "linecolor": "white",
            "ticks": ""
           },
           "bgcolor": "#E5ECF6",
           "radialaxis": {
            "gridcolor": "white",
            "linecolor": "white",
            "ticks": ""
           }
          },
          "scene": {
           "xaxis": {
            "backgroundcolor": "#E5ECF6",
            "gridcolor": "white",
            "gridwidth": 2,
            "linecolor": "white",
            "showbackground": true,
            "ticks": "",
            "zerolinecolor": "white"
           },
           "yaxis": {
            "backgroundcolor": "#E5ECF6",
            "gridcolor": "white",
            "gridwidth": 2,
            "linecolor": "white",
            "showbackground": true,
            "ticks": "",
            "zerolinecolor": "white"
           },
           "zaxis": {
            "backgroundcolor": "#E5ECF6",
            "gridcolor": "white",
            "gridwidth": 2,
            "linecolor": "white",
            "showbackground": true,
            "ticks": "",
            "zerolinecolor": "white"
           }
          },
          "shapedefaults": {
           "line": {
            "color": "#2a3f5f"
           }
          },
          "ternary": {
           "aaxis": {
            "gridcolor": "white",
            "linecolor": "white",
            "ticks": ""
           },
           "baxis": {
            "gridcolor": "white",
            "linecolor": "white",
            "ticks": ""
           },
           "bgcolor": "#E5ECF6",
           "caxis": {
            "gridcolor": "white",
            "linecolor": "white",
            "ticks": ""
           }
          },
          "title": {
           "x": 0.05
          },
          "xaxis": {
           "automargin": true,
           "gridcolor": "white",
           "linecolor": "white",
           "ticks": "",
           "title": {
            "standoff": 15
           },
           "zerolinecolor": "white",
           "zerolinewidth": 2
          },
          "yaxis": {
           "automargin": true,
           "gridcolor": "white",
           "linecolor": "white",
           "ticks": "",
           "title": {
            "standoff": 15
           },
           "zerolinecolor": "white",
           "zerolinewidth": 2
          }
         }
        },
        "title": {
         "text": "Layoffs by Country",
         "x": 0.5
        }
       }
      }
     },
     "metadata": {},
     "output_type": "display_data"
    }
   ],
   "source": [
    "country_layoffs = (\n",
    "    clean_df\n",
    "    .groupby('Country')['Layoffs']\n",
    "    .sum()\n",
    "    .reset_index()\n",
    ")\n",
    "\n",
    "# Map visualization for countries with layoffs\n",
    "fig_country = px.choropleth(\n",
    "    country_layoffs, \n",
    "    locations = 'Country',\n",
    "    locationmode = 'country names',\n",
    "    hover_name = 'Country',\n",
    "    title = 'Layoffs by Country',\n",
    "    color = 'Layoffs',\n",
    "    color_continuous_scale = px.colors.sequential.Magenta\n",
    ")\n",
    "\n",
    "fig_country.update_layout(title_x = 0.5)\n",
    "\n",
    "fig_country.show()"
   ]
  },
  {
   "cell_type": "code",
   "execution_count": null,
   "id": "213a125f-2499-44a7-b8ae-4062acdc7690",
   "metadata": {},
   "outputs": [],
   "source": []
  },
  {
   "cell_type": "code",
   "execution_count": null,
   "id": "ff823acf-a300-42a9-9ee4-b05bb8ac0a66",
   "metadata": {},
   "outputs": [],
   "source": []
  },
  {
   "cell_type": "code",
   "execution_count": null,
   "id": "52308197",
   "metadata": {},
   "outputs": [],
   "source": []
  }
 ],
 "metadata": {
  "kernelspec": {
   "display_name": "Python 3",
   "language": "python",
   "name": "python3"
  },
  "language_info": {
   "codemirror_mode": {
    "name": "ipython",
    "version": 3
   },
   "file_extension": ".py",
   "mimetype": "text/x-python",
   "name": "python",
   "nbconvert_exporter": "python",
   "pygments_lexer": "ipython3",
   "version": "3.10.0"
  }
 },
 "nbformat": 4,
 "nbformat_minor": 5
}
